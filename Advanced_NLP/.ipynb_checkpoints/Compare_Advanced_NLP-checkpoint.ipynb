{
 "cells": [
  {
   "cell_type": "code",
   "execution_count": 1,
   "metadata": {
    "colab": {
     "base_uri": "https://localhost:8080/"
    },
    "id": "RXHFLvXm7TQt",
    "outputId": "c495a7ed-a3cf-4483-cab5-701920bc3b77"
   },
   "outputs": [
    {
     "name": "stdout",
     "output_type": "stream",
     "text": [
      "Requirement already satisfied: tensorflow in /usr/local/lib/python3.7/dist-packages (2.5.0)\n",
      "Requirement already satisfied: astunparse~=1.6.3 in /usr/local/lib/python3.7/dist-packages (from tensorflow) (1.6.3)\n",
      "Requirement already satisfied: tensorflow-estimator<2.6.0,>=2.5.0rc0 in /usr/local/lib/python3.7/dist-packages (from tensorflow) (2.5.0)\n",
      "Requirement already satisfied: flatbuffers~=1.12.0 in /usr/local/lib/python3.7/dist-packages (from tensorflow) (1.12)\n",
      "Requirement already satisfied: typing-extensions~=3.7.4 in /usr/local/lib/python3.7/dist-packages (from tensorflow) (3.7.4.3)\n",
      "Requirement already satisfied: keras-nightly~=2.5.0.dev in /usr/local/lib/python3.7/dist-packages (from tensorflow) (2.5.0.dev2021032900)\n",
      "Requirement already satisfied: wheel~=0.35 in /usr/local/lib/python3.7/dist-packages (from tensorflow) (0.36.2)\n",
      "Requirement already satisfied: grpcio~=1.34.0 in /usr/local/lib/python3.7/dist-packages (from tensorflow) (1.34.1)\n",
      "Requirement already satisfied: six~=1.15.0 in /usr/local/lib/python3.7/dist-packages (from tensorflow) (1.15.0)\n",
      "Requirement already satisfied: termcolor~=1.1.0 in /usr/local/lib/python3.7/dist-packages (from tensorflow) (1.1.0)\n",
      "Requirement already satisfied: absl-py~=0.10 in /usr/local/lib/python3.7/dist-packages (from tensorflow) (0.12.0)\n",
      "Requirement already satisfied: wrapt~=1.12.1 in /usr/local/lib/python3.7/dist-packages (from tensorflow) (1.12.1)\n",
      "Requirement already satisfied: tensorboard~=2.5 in /usr/local/lib/python3.7/dist-packages (from tensorflow) (2.5.0)\n",
      "Requirement already satisfied: gast==0.4.0 in /usr/local/lib/python3.7/dist-packages (from tensorflow) (0.4.0)\n",
      "Requirement already satisfied: protobuf>=3.9.2 in /usr/local/lib/python3.7/dist-packages (from tensorflow) (3.12.4)\n",
      "Requirement already satisfied: numpy~=1.19.2 in /usr/local/lib/python3.7/dist-packages (from tensorflow) (1.19.5)\n",
      "Requirement already satisfied: keras-preprocessing~=1.1.2 in /usr/local/lib/python3.7/dist-packages (from tensorflow) (1.1.2)\n",
      "Requirement already satisfied: opt-einsum~=3.3.0 in /usr/local/lib/python3.7/dist-packages (from tensorflow) (3.3.0)\n",
      "Requirement already satisfied: h5py~=3.1.0 in /usr/local/lib/python3.7/dist-packages (from tensorflow) (3.1.0)\n",
      "Requirement already satisfied: google-pasta~=0.2 in /usr/local/lib/python3.7/dist-packages (from tensorflow) (0.2.0)\n",
      "Requirement already satisfied: google-auth-oauthlib<0.5,>=0.4.1 in /usr/local/lib/python3.7/dist-packages (from tensorboard~=2.5->tensorflow) (0.4.4)\n",
      "Requirement already satisfied: requests<3,>=2.21.0 in /usr/local/lib/python3.7/dist-packages (from tensorboard~=2.5->tensorflow) (2.23.0)\n",
      "Requirement already satisfied: werkzeug>=0.11.15 in /usr/local/lib/python3.7/dist-packages (from tensorboard~=2.5->tensorflow) (1.0.1)\n",
      "Requirement already satisfied: markdown>=2.6.8 in /usr/local/lib/python3.7/dist-packages (from tensorboard~=2.5->tensorflow) (3.3.4)\n",
      "Requirement already satisfied: setuptools>=41.0.0 in /usr/local/lib/python3.7/dist-packages (from tensorboard~=2.5->tensorflow) (57.0.0)\n",
      "Requirement already satisfied: tensorboard-data-server<0.7.0,>=0.6.0 in /usr/local/lib/python3.7/dist-packages (from tensorboard~=2.5->tensorflow) (0.6.1)\n",
      "Requirement already satisfied: tensorboard-plugin-wit>=1.6.0 in /usr/local/lib/python3.7/dist-packages (from tensorboard~=2.5->tensorflow) (1.8.0)\n",
      "Requirement already satisfied: google-auth<2,>=1.6.3 in /usr/local/lib/python3.7/dist-packages (from tensorboard~=2.5->tensorflow) (1.31.0)\n",
      "Requirement already satisfied: cached-property; python_version < \"3.8\" in /usr/local/lib/python3.7/dist-packages (from h5py~=3.1.0->tensorflow) (1.5.2)\n",
      "Requirement already satisfied: requests-oauthlib>=0.7.0 in /usr/local/lib/python3.7/dist-packages (from google-auth-oauthlib<0.5,>=0.4.1->tensorboard~=2.5->tensorflow) (1.3.0)\n",
      "Requirement already satisfied: idna<3,>=2.5 in /usr/local/lib/python3.7/dist-packages (from requests<3,>=2.21.0->tensorboard~=2.5->tensorflow) (2.10)\n",
      "Requirement already satisfied: urllib3!=1.25.0,!=1.25.1,<1.26,>=1.21.1 in /usr/local/lib/python3.7/dist-packages (from requests<3,>=2.21.0->tensorboard~=2.5->tensorflow) (1.24.3)\n",
      "Requirement already satisfied: certifi>=2017.4.17 in /usr/local/lib/python3.7/dist-packages (from requests<3,>=2.21.0->tensorboard~=2.5->tensorflow) (2021.5.30)\n",
      "Requirement already satisfied: chardet<4,>=3.0.2 in /usr/local/lib/python3.7/dist-packages (from requests<3,>=2.21.0->tensorboard~=2.5->tensorflow) (3.0.4)\n",
      "Requirement already satisfied: importlib-metadata; python_version < \"3.8\" in /usr/local/lib/python3.7/dist-packages (from markdown>=2.6.8->tensorboard~=2.5->tensorflow) (4.5.0)\n",
      "Requirement already satisfied: rsa<5,>=3.1.4; python_version >= \"3.6\" in /usr/local/lib/python3.7/dist-packages (from google-auth<2,>=1.6.3->tensorboard~=2.5->tensorflow) (4.7.2)\n",
      "Requirement already satisfied: cachetools<5.0,>=2.0.0 in /usr/local/lib/python3.7/dist-packages (from google-auth<2,>=1.6.3->tensorboard~=2.5->tensorflow) (4.2.2)\n",
      "Requirement already satisfied: pyasn1-modules>=0.2.1 in /usr/local/lib/python3.7/dist-packages (from google-auth<2,>=1.6.3->tensorboard~=2.5->tensorflow) (0.2.8)\n",
      "Requirement already satisfied: oauthlib>=3.0.0 in /usr/local/lib/python3.7/dist-packages (from requests-oauthlib>=0.7.0->google-auth-oauthlib<0.5,>=0.4.1->tensorboard~=2.5->tensorflow) (3.1.1)\n",
      "Requirement already satisfied: zipp>=0.5 in /usr/local/lib/python3.7/dist-packages (from importlib-metadata; python_version < \"3.8\"->markdown>=2.6.8->tensorboard~=2.5->tensorflow) (3.4.1)\n",
      "Requirement already satisfied: pyasn1>=0.1.3 in /usr/local/lib/python3.7/dist-packages (from rsa<5,>=3.1.4; python_version >= \"3.6\"->google-auth<2,>=1.6.3->tensorboard~=2.5->tensorflow) (0.4.8)\n",
      "Requirement already satisfied: keras in /usr/local/lib/python3.7/dist-packages (2.4.3)\n",
      "Requirement already satisfied: numpy>=1.9.1 in /usr/local/lib/python3.7/dist-packages (from keras) (1.19.5)\n",
      "Requirement already satisfied: h5py in /usr/local/lib/python3.7/dist-packages (from keras) (3.1.0)\n",
      "Requirement already satisfied: pyyaml in /usr/local/lib/python3.7/dist-packages (from keras) (3.13)\n",
      "Requirement already satisfied: scipy>=0.14 in /usr/local/lib/python3.7/dist-packages (from keras) (1.4.1)\n",
      "Requirement already satisfied: cached-property; python_version < \"3.8\" in /usr/local/lib/python3.7/dist-packages (from h5py->keras) (1.5.2)\n"
     ]
    }
   ],
   "source": [
    "# !pip install tensorflow\n",
    "# !pip install keras"
   ]
  },
  {
   "cell_type": "code",
   "execution_count": 152,
   "metadata": {
    "colab": {
     "base_uri": "https://localhost:8080/"
    },
    "id": "JXUnAOAe7dc3",
    "outputId": "a3019e17-e94d-4726-c4fa-9aca7dabe629"
   },
   "outputs": [
    {
     "name": "stdout",
     "output_type": "stream",
     "text": [
      "[nltk_data] Downloading package stopwords to /root/nltk_data...\n",
      "[nltk_data]   Package stopwords is already up-to-date!\n",
      "[nltk_data] Downloading package punkt to /root/nltk_data...\n",
      "[nltk_data]   Package punkt is already up-to-date!\n"
     ]
    },
    {
     "data": {
      "text/plain": [
       "True"
      ]
     },
     "execution_count": 152,
     "metadata": {
      "tags": []
     },
     "output_type": "execute_result"
    }
   ],
   "source": [
    "import pandas as pd\n",
    "import numpy as np\n",
    "import matplotlib.pyplot as plt\n",
    "import sklearn\n",
    "from sklearn.model_selection import train_test_split\n",
    "from sklearn.feature_extraction.text import TfidfVectorizer\n",
    "from sklearn.ensemble import RandomForestClassifier\n",
    "from sklearn.metrics import accuracy_score\n",
    "from sklearn.metrics import precision_score\n",
    "from sklearn.metrics import recall_score\n",
    "from sklearn.metrics import f1_score\n",
    "from sklearn.metrics import classification_report\n",
    "import string\n",
    "import nltk\n",
    "from nltk.corpus import stopwords\n",
    "from nltk.tokenize import word_tokenize\n",
    "import gensim\n",
    "from gensim.models.word2vec import Word2Vec\n",
    "from gensim.models.doc2vec import Doc2Vec\n",
    "from gensim.models.doc2vec import TaggedDocument\n",
    "import keras\n",
    "from keras.preprocessing.text import Tokenizer\n",
    "from keras.preprocessing.sequence import pad_sequences\n",
    "import keras.backend as K\n",
    "from keras.models import Sequential\n",
    "from keras.layers import LSTM\n",
    "from keras.layers import Dense\n",
    "from keras.layers import Embedding\n",
    "\n",
    "%matplotlib inline\n",
    "import warnings\n",
    "warnings.filterwarnings(\"ignore\")\n",
    "nltk.download('stopwords')\n",
    "nltk.download('punkt')"
   ]
  },
  {
   "cell_type": "code",
   "execution_count": 43,
   "metadata": {
    "id": "RHANjUu_8jrw"
   },
   "outputs": [],
   "source": [
    "class TextAnalysis(object):\n",
    "      def __init__(self):\n",
    "          self.messages = pd.read_csv('/content/sample_data/spam.csv', encoding='latin-1')\n",
    "          self.messages = self.messages.drop(['Unnamed: 2', 'Unnamed: 3', 'Unnamed: 4'], axis=1)\n",
    "          self.stopwordsList = list(stopwords.words(\"english\"))\n",
    "          self.punctuation = string.punctuation\n",
    "          self.messages['label'] = np.where(self.messages['label'] == 'spam',1,0)\n",
    "\n",
    "      # func to clean the text...\n",
    "      def cleanText(self, text):\n",
    "          # Remove the punctuations....\n",
    "          text = \"\".join([word.lower() for word in text if word not in self.punctuation])\n",
    "          # Tokenize our text...\n",
    "          tokens = word_tokenize(text)\n",
    "          text = [word for word in tokens if word not in self.stopwordsList]\n",
    "          return text\n",
    "\n",
    "      # Split the dataset..\n",
    "      def splitData(self):\n",
    "          # Split the dataset into train and test...\n",
    "          X_train, X_test, y_train, y_test = train_test_split(self.messages['clean_text'], \n",
    "                                                              self.messages['label'],\n",
    "                                                              test_size=0.2)\n",
    "          \n",
    "          return X_train, X_test, y_train, y_test\n",
    "\n",
    "         "
   ]
  },
  {
   "cell_type": "code",
   "execution_count": 44,
   "metadata": {
    "id": "yc9UQKIe9MqA"
   },
   "outputs": [],
   "source": [
    "# Create an object of Text Analysis...\n",
    "obj_ta = TextAnalysis()"
   ]
  },
  {
   "cell_type": "code",
   "execution_count": 45,
   "metadata": {
    "colab": {
     "base_uri": "https://localhost:8080/",
     "height": 206
    },
    "id": "nr1MjVFR9Uzr",
    "outputId": "e57c1d53-9bb8-4551-db96-72458d4c2c0b"
   },
   "outputs": [
    {
     "data": {
      "text/html": [
       "<div>\n",
       "<style scoped>\n",
       "    .dataframe tbody tr th:only-of-type {\n",
       "        vertical-align: middle;\n",
       "    }\n",
       "\n",
       "    .dataframe tbody tr th {\n",
       "        vertical-align: top;\n",
       "    }\n",
       "\n",
       "    .dataframe thead th {\n",
       "        text-align: right;\n",
       "    }\n",
       "</style>\n",
       "<table border=\"1\" class=\"dataframe\">\n",
       "  <thead>\n",
       "    <tr style=\"text-align: right;\">\n",
       "      <th></th>\n",
       "      <th>label</th>\n",
       "      <th>text</th>\n",
       "    </tr>\n",
       "  </thead>\n",
       "  <tbody>\n",
       "    <tr>\n",
       "      <th>0</th>\n",
       "      <td>0</td>\n",
       "      <td>Go until jurong point, crazy.. Available only ...</td>\n",
       "    </tr>\n",
       "    <tr>\n",
       "      <th>1</th>\n",
       "      <td>0</td>\n",
       "      <td>Ok lar... Joking wif u oni...</td>\n",
       "    </tr>\n",
       "    <tr>\n",
       "      <th>2</th>\n",
       "      <td>1</td>\n",
       "      <td>Free entry in 2 a wkly comp to win FA Cup fina...</td>\n",
       "    </tr>\n",
       "    <tr>\n",
       "      <th>3</th>\n",
       "      <td>0</td>\n",
       "      <td>U dun say so early hor... U c already then say...</td>\n",
       "    </tr>\n",
       "    <tr>\n",
       "      <th>4</th>\n",
       "      <td>0</td>\n",
       "      <td>Nah I don't think he goes to usf, he lives aro...</td>\n",
       "    </tr>\n",
       "  </tbody>\n",
       "</table>\n",
       "</div>"
      ],
      "text/plain": [
       "   label                                               text\n",
       "0      0  Go until jurong point, crazy.. Available only ...\n",
       "1      0                      Ok lar... Joking wif u oni...\n",
       "2      1  Free entry in 2 a wkly comp to win FA Cup fina...\n",
       "3      0  U dun say so early hor... U c already then say...\n",
       "4      0  Nah I don't think he goes to usf, he lives aro..."
      ]
     },
     "execution_count": 45,
     "metadata": {
      "tags": []
     },
     "output_type": "execute_result"
    }
   ],
   "source": [
    "obj_ta.messages.head()"
   ]
  },
  {
   "cell_type": "code",
   "execution_count": 46,
   "metadata": {
    "id": "IrTyGH6b_8QW"
   },
   "outputs": [],
   "source": [
    "# Perform text Cleaning using the lambda function...\n",
    "obj_ta.messages['clean_text'] = obj_ta.messages['text'].apply(lambda x: obj_ta.cleanText(x))"
   ]
  },
  {
   "cell_type": "code",
   "execution_count": 47,
   "metadata": {
    "colab": {
     "base_uri": "https://localhost:8080/",
     "height": 206
    },
    "id": "tS5HhNQ9AVGU",
    "outputId": "406c5997-b90a-4bdf-cef4-49748f51fd71"
   },
   "outputs": [
    {
     "data": {
      "text/html": [
       "<div>\n",
       "<style scoped>\n",
       "    .dataframe tbody tr th:only-of-type {\n",
       "        vertical-align: middle;\n",
       "    }\n",
       "\n",
       "    .dataframe tbody tr th {\n",
       "        vertical-align: top;\n",
       "    }\n",
       "\n",
       "    .dataframe thead th {\n",
       "        text-align: right;\n",
       "    }\n",
       "</style>\n",
       "<table border=\"1\" class=\"dataframe\">\n",
       "  <thead>\n",
       "    <tr style=\"text-align: right;\">\n",
       "      <th></th>\n",
       "      <th>label</th>\n",
       "      <th>text</th>\n",
       "      <th>clean_text</th>\n",
       "    </tr>\n",
       "  </thead>\n",
       "  <tbody>\n",
       "    <tr>\n",
       "      <th>0</th>\n",
       "      <td>0</td>\n",
       "      <td>Go until jurong point, crazy.. Available only ...</td>\n",
       "      <td>[go, jurong, point, crazy, available, bugis, n...</td>\n",
       "    </tr>\n",
       "    <tr>\n",
       "      <th>1</th>\n",
       "      <td>0</td>\n",
       "      <td>Ok lar... Joking wif u oni...</td>\n",
       "      <td>[ok, lar, joking, wif, u, oni]</td>\n",
       "    </tr>\n",
       "    <tr>\n",
       "      <th>2</th>\n",
       "      <td>1</td>\n",
       "      <td>Free entry in 2 a wkly comp to win FA Cup fina...</td>\n",
       "      <td>[free, entry, 2, wkly, comp, win, fa, cup, fin...</td>\n",
       "    </tr>\n",
       "    <tr>\n",
       "      <th>3</th>\n",
       "      <td>0</td>\n",
       "      <td>U dun say so early hor... U c already then say...</td>\n",
       "      <td>[u, dun, say, early, hor, u, c, already, say]</td>\n",
       "    </tr>\n",
       "    <tr>\n",
       "      <th>4</th>\n",
       "      <td>0</td>\n",
       "      <td>Nah I don't think he goes to usf, he lives aro...</td>\n",
       "      <td>[nah, dont, think, goes, usf, lives, around, t...</td>\n",
       "    </tr>\n",
       "  </tbody>\n",
       "</table>\n",
       "</div>"
      ],
      "text/plain": [
       "   label  ...                                         clean_text\n",
       "0      0  ...  [go, jurong, point, crazy, available, bugis, n...\n",
       "1      0  ...                     [ok, lar, joking, wif, u, oni]\n",
       "2      1  ...  [free, entry, 2, wkly, comp, win, fa, cup, fin...\n",
       "3      0  ...      [u, dun, say, early, hor, u, c, already, say]\n",
       "4      0  ...  [nah, dont, think, goes, usf, lives, around, t...\n",
       "\n",
       "[5 rows x 3 columns]"
      ]
     },
     "execution_count": 47,
     "metadata": {
      "tags": []
     },
     "output_type": "execute_result"
    }
   ],
   "source": [
    "obj_ta.messages.head()"
   ]
  },
  {
   "cell_type": "code",
   "execution_count": 48,
   "metadata": {
    "id": "3mB-gbCKAj9C"
   },
   "outputs": [],
   "source": [
    "# get the train and test datasets after the split...\n",
    "X_train, X_test, y_train, y_test = obj_ta.splitData()"
   ]
  },
  {
   "cell_type": "code",
   "execution_count": 50,
   "metadata": {
    "colab": {
     "base_uri": "https://localhost:8080/"
    },
    "id": "WiVOAgpvDMW2",
    "outputId": "26ad0f5a-87be-4f65-886f-e678e83ac0e7"
   },
   "outputs": [
    {
     "data": {
      "text/plain": [
       "4930    [good, morning, boytoy, hows, yummy, lips, whe...\n",
       "964                                          [much, buzy]\n",
       "1833                                               [come]\n",
       "378                         [keep, payasam, rinu, brings]\n",
       "3484    [noi, got, rumour, going, buy, apartment, chen...\n",
       "                              ...                        \n",
       "3165    [hot, live, fantasies, call, 08707509020, 20p,...\n",
       "651     [im, gon, na, say, sorry, would, normal, start...\n",
       "1513                      [hows, champ, leaving, glasgow]\n",
       "4420    [still, west, coast, haiz, ìïll, take, forever...\n",
       "4899    [ou, guaranteed, latest, nokia, phone, 40gb, i...\n",
       "Name: clean_text, Length: 4457, dtype: object"
      ]
     },
     "execution_count": 50,
     "metadata": {
      "tags": []
     },
     "output_type": "execute_result"
    }
   ],
   "source": [
    "# How do the first 10 messages of the train and test data look like...\n",
    "X_train[:]"
   ]
  },
  {
   "cell_type": "code",
   "execution_count": 51,
   "metadata": {
    "colab": {
     "base_uri": "https://localhost:8080/"
    },
    "id": "BCcxXCvlDqZh",
    "outputId": "dc449ab2-2bac-4fcf-d11e-dd7cc98bdae3"
   },
   "outputs": [
    {
     "data": {
      "text/plain": [
       "5020                                  [sad, puppy, noise]\n",
       "4257                                               [late]\n",
       "2055                                 [sir, waiting, mail]\n",
       "4416    [says, hes, quitting, least5times, day, wudnt,...\n",
       "2188    [free, camera, phones, linerental, 449month, 7...\n",
       "                              ...                        \n",
       "4267                              [hey, whats, plan, sat]\n",
       "1433              [intrepid, duo, great, time, see, soon]\n",
       "602                                 [speaking, cash, yet]\n",
       "3335                           [u, go, back, urself, lor]\n",
       "4463     [ranjith, cal, drpd, deeraj, deepak, 5min, hold]\n",
       "Name: clean_text, Length: 1115, dtype: object"
      ]
     },
     "execution_count": 51,
     "metadata": {
      "tags": []
     },
     "output_type": "execute_result"
    }
   ],
   "source": [
    "X_test[:]"
   ]
  },
  {
   "cell_type": "code",
   "execution_count": 52,
   "metadata": {
    "colab": {
     "base_uri": "https://localhost:8080/"
    },
    "id": "FcawpOVUDsf7",
    "outputId": "dbe25fe6-5a6e-4b73-e5c1-e173aa6ec592"
   },
   "outputs": [
    {
     "data": {
      "text/plain": [
       "4930    0\n",
       "964     0\n",
       "1833    0\n",
       "378     0\n",
       "3484    0\n",
       "269     1\n",
       "3200    0\n",
       "1693    0\n",
       "5503    0\n",
       "1855    0\n",
       "Name: label, dtype: int64"
      ]
     },
     "execution_count": 52,
     "metadata": {
      "tags": []
     },
     "output_type": "execute_result"
    }
   ],
   "source": [
    "# How do the labels look like\n",
    "y_train[:10]"
   ]
  },
  {
   "cell_type": "code",
   "execution_count": 54,
   "metadata": {
    "id": "UEWw2MLODzSv"
   },
   "outputs": [],
   "source": [
    "# Lets save the train and test data to ensure that we use the same datasets for different ML/DL techniques\n",
    "X_train.to_csv('/content/sample_data/X_train.csv', index=False, header=True)\n",
    "X_test.to_csv('/content/sample_data/X_test.csv',index=False, header=True)\n",
    "y_train.to_csv('/content/sample_data/y_train.csv',index=False, header=True)\n",
    "y_test.to_csv('/content/sample_data/y_test.csv',index=False, header=True)\n"
   ]
  },
  {
   "cell_type": "markdown",
   "metadata": {
    "id": "7tKukzW-EuP8"
   },
   "source": [
    "## Build Models on TF-IDF Vectors"
   ]
  },
  {
   "cell_type": "code",
   "execution_count": 55,
   "metadata": {
    "id": "GKTrA7U-Ex-F"
   },
   "outputs": [],
   "source": [
    "# Read the Train and Test data...\n",
    "X_train = pd.read_csv(\"/content/sample_data/X_train.csv\")\n",
    "y_train = pd.read_csv('/content/sample_data/y_train.csv')\n",
    "X_test = pd.read_csv(\"/content/sample_data/X_test.csv\")\n",
    "y_test = pd.read_csv('/content/sample_data/y_test.csv')"
   ]
  },
  {
   "cell_type": "code",
   "execution_count": 56,
   "metadata": {
    "colab": {
     "base_uri": "https://localhost:8080/",
     "height": 206
    },
    "id": "jDvq7YQZFaKV",
    "outputId": "0eb86d79-1477-4438-fd06-92d83505637c"
   },
   "outputs": [
    {
     "data": {
      "text/html": [
       "<div>\n",
       "<style scoped>\n",
       "    .dataframe tbody tr th:only-of-type {\n",
       "        vertical-align: middle;\n",
       "    }\n",
       "\n",
       "    .dataframe tbody tr th {\n",
       "        vertical-align: top;\n",
       "    }\n",
       "\n",
       "    .dataframe thead th {\n",
       "        text-align: right;\n",
       "    }\n",
       "</style>\n",
       "<table border=\"1\" class=\"dataframe\">\n",
       "  <thead>\n",
       "    <tr style=\"text-align: right;\">\n",
       "      <th></th>\n",
       "      <th>clean_text</th>\n",
       "    </tr>\n",
       "  </thead>\n",
       "  <tbody>\n",
       "    <tr>\n",
       "      <th>0</th>\n",
       "      <td>['good', 'morning', 'boytoy', 'hows', 'yummy',...</td>\n",
       "    </tr>\n",
       "    <tr>\n",
       "      <th>1</th>\n",
       "      <td>['much', 'buzy']</td>\n",
       "    </tr>\n",
       "    <tr>\n",
       "      <th>2</th>\n",
       "      <td>['come']</td>\n",
       "    </tr>\n",
       "    <tr>\n",
       "      <th>3</th>\n",
       "      <td>['keep', 'payasam', 'rinu', 'brings']</td>\n",
       "    </tr>\n",
       "    <tr>\n",
       "      <th>4</th>\n",
       "      <td>['noi', 'got', 'rumour', 'going', 'buy', 'apar...</td>\n",
       "    </tr>\n",
       "  </tbody>\n",
       "</table>\n",
       "</div>"
      ],
      "text/plain": [
       "                                          clean_text\n",
       "0  ['good', 'morning', 'boytoy', 'hows', 'yummy',...\n",
       "1                                   ['much', 'buzy']\n",
       "2                                           ['come']\n",
       "3              ['keep', 'payasam', 'rinu', 'brings']\n",
       "4  ['noi', 'got', 'rumour', 'going', 'buy', 'apar..."
      ]
     },
     "execution_count": 56,
     "metadata": {
      "tags": []
     },
     "output_type": "execute_result"
    }
   ],
   "source": [
    "# print the training data...\n",
    "X_train.head()"
   ]
  },
  {
   "cell_type": "code",
   "execution_count": 57,
   "metadata": {
    "colab": {
     "base_uri": "https://localhost:8080/",
     "height": 206
    },
    "id": "oHKX60uWFcvz",
    "outputId": "473dbcc5-6c18-429d-949c-44ea12c84194"
   },
   "outputs": [
    {
     "data": {
      "text/html": [
       "<div>\n",
       "<style scoped>\n",
       "    .dataframe tbody tr th:only-of-type {\n",
       "        vertical-align: middle;\n",
       "    }\n",
       "\n",
       "    .dataframe tbody tr th {\n",
       "        vertical-align: top;\n",
       "    }\n",
       "\n",
       "    .dataframe thead th {\n",
       "        text-align: right;\n",
       "    }\n",
       "</style>\n",
       "<table border=\"1\" class=\"dataframe\">\n",
       "  <thead>\n",
       "    <tr style=\"text-align: right;\">\n",
       "      <th></th>\n",
       "      <th>clean_text</th>\n",
       "    </tr>\n",
       "  </thead>\n",
       "  <tbody>\n",
       "    <tr>\n",
       "      <th>0</th>\n",
       "      <td>['sad', 'puppy', 'noise']</td>\n",
       "    </tr>\n",
       "    <tr>\n",
       "      <th>1</th>\n",
       "      <td>['late']</td>\n",
       "    </tr>\n",
       "    <tr>\n",
       "      <th>2</th>\n",
       "      <td>['sir', 'waiting', 'mail']</td>\n",
       "    </tr>\n",
       "    <tr>\n",
       "      <th>3</th>\n",
       "      <td>['says', 'hes', 'quitting', 'least5times', 'da...</td>\n",
       "    </tr>\n",
       "    <tr>\n",
       "      <th>4</th>\n",
       "      <td>['free', 'camera', 'phones', 'linerental', '44...</td>\n",
       "    </tr>\n",
       "  </tbody>\n",
       "</table>\n",
       "</div>"
      ],
      "text/plain": [
       "                                          clean_text\n",
       "0                          ['sad', 'puppy', 'noise']\n",
       "1                                           ['late']\n",
       "2                         ['sir', 'waiting', 'mail']\n",
       "3  ['says', 'hes', 'quitting', 'least5times', 'da...\n",
       "4  ['free', 'camera', 'phones', 'linerental', '44..."
      ]
     },
     "execution_count": 57,
     "metadata": {
      "tags": []
     },
     "output_type": "execute_result"
    }
   ],
   "source": [
    "# print the test data\n",
    "X_test.head()"
   ]
  },
  {
   "cell_type": "code",
   "execution_count": 59,
   "metadata": {
    "colab": {
     "base_uri": "https://localhost:8080/"
    },
    "id": "g5Gndf8qFfb6",
    "outputId": "4879cf46-e9b7-4bbd-9a61-e5f729e2173b"
   },
   "outputs": [
    {
     "data": {
      "text/plain": [
       "TfidfVectorizer(analyzer='word', binary=False, decode_error='strict',\n",
       "                dtype=<class 'numpy.float64'>, encoding='utf-8',\n",
       "                input='content', lowercase=True, max_df=1.0, max_features=None,\n",
       "                min_df=1, ngram_range=(1, 1), norm='l2', preprocessor=None,\n",
       "                smooth_idf=True, stop_words=None, strip_accents=None,\n",
       "                sublinear_tf=False, token_pattern='(?u)\\\\b\\\\w\\\\w+\\\\b',\n",
       "                tokenizer=None, use_idf=True, vocabulary=None)"
      ]
     },
     "execution_count": 59,
     "metadata": {
      "tags": []
     },
     "output_type": "execute_result"
    }
   ],
   "source": [
    "# Instantiate the TF-IDF Vectorizer...\n",
    "tfidfVect = TfidfVectorizer()\n",
    "tfidfVect"
   ]
  },
  {
   "cell_type": "code",
   "execution_count": 63,
   "metadata": {
    "colab": {
     "base_uri": "https://localhost:8080/"
    },
    "id": "DaG4gpZxGtgr",
    "outputId": "231b930d-0017-44a2-aed7-67206be2c146"
   },
   "outputs": [
    {
     "name": "stdout",
     "output_type": "stream",
     "text": [
      "Vocabulary of the Dataset is : \n",
      "{'good': 3363, 'morning': 4896, 'boytoy': 1571, 'hows': 3726, 'yummy': 8272, 'lips': 4405, 'wheres': 7948, 'sexy': 6430, 'buns': 1660, 'think': 7273, 'crave': 2192, 'need': 5031, 'much': 4944, 'buzy': 1683, 'come': 2024, 'keep': 4135, 'payasam': 5461, 'rinu': 6161, 'brings': 1608, 'noi': 5120, 'got': 3385, 'rumour': 6225, 'going': 3350, 'buy': 1679, 'apartment': 1095, 'chennai': 1886, 'ringtone': 6157, 'club': 1978, 'get': 3287, 'uk': 7570, 'singles': 6572, 'chart': 1857, 'mobile': 4850, 'week': 7895, 'choose': 1927, 'top': 7423, 'quality': 5890, 'message': 4752, 'free': 3139, 'charge': 1851, 'nicenicehow': 5075, 'working': 8052, 'gr8': 3395, 'see': 6364, 'leaving': 4319, 'congrats': 2089, 'dear': 2338, 'school': 6320, 'wat': 7850, 'ur': 7649, 'plans': 5583, 'perhaps': 5494, 'easy': 2671, 'give': 3316, 'account': 856, 'identification': 3805, 'tomorrow': 7397, 'uni': 7603, 'kyou': 4233, 'girl': 3309, 'waiting': 7806, 'reception': 6001, 'ah': 947, 'one': 5279, 'days': 2323, 'billion': 1443, 'classes': 1954, 'right': 6150, 'wish': 7997, 'please': 5597, 'ask': 1177, 'mummy': 4957, 'call': 1708, 'father': 2944, 'gain': 3225, 'rights': 6153, 'wifedont': 7970, 'demand': 2390, 'iti': 3976, 'trying': 7503, 'husband': 3780, 'toolets': 7417, '18': 345, 'euro2004': 2810, 'kickoff': 4161, 'kept': 4143, 'informed': 3888, 'latest': 4287, 'news': 5064, 'results': 6124, 'daily': 2282, 'unsubscribe': 7625, 'send': 6392, 'euro': 2809, 'stop': 6899, '83222': 731, 'private': 5781, '2003': 383, 'statement': 6857, '078': 29, 'also': 1013, 'maaaan': 4573, 'missing': 4821, 'awesome': 1259, 'remember': 6059, 'last': 4279, 'time': 7327, 'somebody': 6692, 'high': 3619, 'first': 3032, 'diesel': 2458, 'alreadysabarish': 1008, 'asked': 1179, 'go': 3335, 'mentor': 4741, '100': 249, 'percent': 5487, 'sure': 7037, '26th': 414, 'july': 4092, 'urgent': 7652, 'contact': 2103, 'weekends': 7897, 'draw': 2594, 'shows': 6527, '1000': 250, 'prize': 5784, 'guaranteed': 3454, '09064017295': 204, 'claim': 1947, 'code': 1999, 'k52': 4104, 'valid': 7698, '12hrs': 293, '150p': 313, 'pm': 5612, 'emigrated': 2735, 'something': 6701, 'ok': 5253, 'maybe': 4685, '530': 605, 'bit': 1458, 'hopeful': 3696, 'well': 7913, 'done': 2561, 'blimey': 1482, 'exercise': 2859, 'yeah': 8199, 'kinda': 4174, 'wot': 8071, 'hmm': 3646, 'set': 6419, 'website': 7884, 'play': 5586, 'hold': 3664, 'em': 2726, 'using': 7675, 'eve': 2814, 'online': 5284, 'spacebucks': 6752, 'know': 4206, 'old': 5269, 'dom': 2557, 'told': 7386, 'yesterday': 8226, 'name': 4995, 'roger': 6180, 'touch': 7439, 'night': 5082, 'wants': 7834, 'meet': 4709, 'today': 7370, 'joys': 4082, 'john': 4061, 'mandan': 4628, 'sorry': 6729, 'ill': 3824, 'later': 4286, 'alrite': 1011, 'sam': 6266, 'nic': 5073, 'checkin': 1876, 'numberso': 5189, 'ittb': 3987, 'beautiful': 1370, 'ive': 3994, 'ever': 2822, 'seen': 6372, 'baby': 1281, 'common': 2038, 'room': 6188, 'im': 3827, 'gonnamissu': 3362, 'muchi': 4945, 'would': 8075, 'say': 6305, 'il': 3822, 'postcard': 5684, 'buttheres': 1677, 'aboutas': 833, 'chance': 1841, 'merememberin': 4747, 'asthere': 1192, 'ofsi': 5242, 'breakin': 1588, 'contract': 2114, 'luv': 4552, 'yaxx': 8194, 'like': 4376, 'birthday': 1456, 'ho': 3657, 'big': 1437, 'belly': 1405, 'laugh': 4290, 'ya': 8185, 'tomo': 7394, 'mmmmm': 4841, 'sooooo': 6724, 'wake': 7809, 'words': 8046, 'love': 4499, 'mmmm': 4840, 'fuck': 3192, 'lion': 4400, 'devouring': 2436, 'kiss': 4181, 'across': 864, 'sea': 6345, 'shopping': 6501, 'lor': 4476, 'raining': 5921, 'mah': 4601, 'hard': 3525, 'leave': 4317, 'orchard': 5328, 'motivate': 4902, 'behind': 1399, 'every': 2823, 'darkness': 2299, 'shining': 6477, 'light': 4372, 'find': 3011, 'best': 1417, 'friend': 3168, 'always': 1018, 'trust': 7498, 'bslvyl': 1635, 'smile': 6648, 'two': 7540, 'crucial': 2219, 'things': 7272, 'life': 4361, 'sometimes': 6705, 'makes': 4612, 'us': 7663, 'forget': 3100, 'someones': 6695, 'gud': 3456, 'noon': 5135, 'hes': 3604, 'adult': 902, 'learn': 4314, 'experience': 2873, 'theres': 7260, 'real': 5972, 'danger': 2293, 'dont': 2563, 'peeps': 5477, 'drugs': 2623, 'comment': 2035, 'means': 4695, 'still': 6887, 'teju': 7169, 'check': 1873, 'maili': 4607, 'mailed': 4606, 'varma': 7709, 'copy': 2136, 'regarding': 6039, 'membershiptake': 4731, 'careinsha': 1773, 'allah': 995, 'cos': 2147, 'want': 7831, 'thing': 7270, 'huh': 3759, 'fast': 2938, 'dat': 2306, 'havent': 3543, 'finished': 3021, 'painting': 5399, 'hai': 3489, 'priya': 5783, 'doctor': 2533, 'said': 6253, 'pa': 5385, 'family': 2924, 'responding': 6109, 'anything': 1086, 'went': 7919, 'home': 3674, 'diwali': 2519, 'called': 1722, 'coming': 2031, 'feel': 2965, 'died': 2457, 'sent': 6402, 'ltgt': 4531, 'bucks': 1646, 'thats': 7239, 'trouble': 7488, 'youre': 8256, 'due': 2640, 'dodgey': 2536, 'x89û': 8152, 'expecting': 2870, 'mine': 4793, 'recovery': 6014, 'place': 5574, 'shaking': 6447, 'booty': 1528, 'dance': 2288, 'floor': 3062, 'mum': 4954, 'hope': 3694, 'great': 3419, 'day': 2318, 'hoping': 3700, 'text': 7208, 'meets': 4715, 'full': 3203, 'abiola': 829, 'cant': 1754, 'wait': 7802, 'photos': 5536, 'useful': 7669, 'fact': 2902, 'addie': 883, 'goes': 3345, 'back': 1287, 'tues': 7516, 'wed': 7886, 'hey': 3609, 'friday': 3164, 'superior': 7023, 'tell': 7174, 'bruce': 1632, 'downs': 2588, 'amp': 1032, 'fletcher': 3052, 'painful': 5396, 'personal': 5504, 'thought': 7291, 'try': 7502, 'everybody': 2825, 'happy': 3524, 'nobody': 5114, 'recognises': 6009, 'alone': 1004, 'hi': 3615, 'darlin': 2300, 'cantdo': 1755, 'anythingtomorrow': 1088, 'myparents': 4981, 'aretaking': 1138, 'outfor': 5356, 'meal': 4690, 'katexxx': 4127, 'thanks': 7226, 'fills': 3002, 'complete': 2053, 'calm': 1734, 'reassurance': 5986, '077xxx': 28, '2000': 382, 'bonus': 1518, 'caller': 1723, '020603': 6, '2nd': 449, 'attempt': 1208, 'reach': 5960, '09066362206': 220, 'asap': 1168, 'box97n7qp': 1566, '150ppm': 326, 'mean': 4692, 'chase': 1859, 'stated': 6856, 'watch': 7851, 'many': 4637, 'movies': 4914, 'hmph': 3655, 'head': 3549, 'baller': 1304, 'favorite': 2954, 'oyster': 5383, 'sashimi': 6286, 'lar': 4274, 'dun': 2644, 'already': 1007, 'stomach': 6894, 'start': 6849, 'rumbling': 6224, 'chic': 1897, 'declare': 2361, 'anyway': 1090, 'seriously': 6413, 'hit': 3633, 'otherwise': 5347, 'armand': 1148, 'shit': 6484, 'andor': 1046, 'vomiting': 7775, 'number': 5186, 'awarded': 1257, '09058094454': 164, 'land': 4261, 'line': 4391, '3030': 476, 'hello': 3580, 'hun': 3763, 'ru': 6213, 'way': 7864, 'dates': 2310, 'guy': 3474, 'met': 4767, 'walkabout': 7814, 'far': 2933, 'soon': 6719, 'everyone': 2829, 'else': 2723, 'de': 2329, 'prepare': 5741, 'next': 5068, 'important': 3841, 'information': 3887, 'o2': 5208, 'user': 7671, 'lucky': 4539, 'log': 4443, 'onto': 5291, 'httpwwwurawinnercom': 3747, 'fantastic': 2931, 'surprise': 7043, 'awaiting': 1254, 'current': 2247, 'leading': 4309, 'bid': 1435, '151': 337, 'pause': 5459, 'auction': 1219, 'customer': 2255, 'care': 1767, '08718726270': 125, 'shola': 6497, 'college': 2014, 'medicine': 4705, 'visit': 7757, 'academic': 843, 'department': 2399, 'secretary': 6355, 'situation': 6586, 'transfer': 7461, 'someone': 6694, 'sagamu': 6251, 'lautech': 4295, 'vital': 7760, 'completes': 2056, 'medical': 4704, 'education': 2685, 'nigeria': 5080, 'less': 4340, 'expensive': 2872, 'unless': 7612, 'getting': 3295, 'citizen': 1944, 'rates': 5945, 'new': 5059, 'zealand': 8280, 'gibbs': 3300, 'unsoldmike': 7622, 'hussey': 3781, 'height': 3575, 'oh': 5246, 'throws': 7305, 'letter': 4346, 'gal': 3227, 'falls': 2922, 'brothers': 1624, 'whos': 7960, 'gay': 3252, 'cancel': 1746, 'cheyyamoand': 1894, 'money': 4876, '1st': 370, 'no1': 5104, 'nokia': 5125, 'tone': 7401, 'txt': 7541, '8077': 716, 'txting': 7546, 'mates': 4666, 'wwwgetzedcouk': 8116, 'pobox': 5616, '36504': 495, 'w45wq': 7790, '16': 340, 'norm150ptone': 5140, 'dude': 2637, 'fakemy': 2916, 'frnds': 3178, 'thts': 7309, 'reffering': 6029, 'uif': 7567, 'member': 4728, 'wit': 8004, 'mail': 4604, 'link': 4397, 'vl': 7765, 'credited': 2203, 'rs': 6207, 'getiing': 3289, 'rsi': 6209, 'acc': 844, 'wen': 7918, 'second': 6351, 'ta': 7088, 'people': 5484, 'ps': 5840, 'grown': 3442, 'win': 7980, 'newest': 5061, 'åòharry': 8289, 'potter': 5692, 'order': 5329, 'phoenix': 5528, 'book': 1520, 'reply': 6083, 'harry': 3532, 'answer': 1069, 'questions': 5897, 'among': 1028, 'readers': 5967, 'half': 3494, 'hr': 3731, 'b4': 1269, 'pick': 5543, 'engin': 2756, 'oops': 5299, 'uncles': 7584, 'atlanta': 1201, 'guys': 3475, 'semester': 6388, 'tomarrow': 7392, 'court': 2173, 'ltdecimalgt': 4527, 'bus': 1669, 'stand': 6841, 'might': 4778, 'accidant': 848, 'tookplace': 7415, 'somewhere': 6707, 'ghodbandar': 3298, 'rd': 5958, 'traffic': 7453, 'moves': 4912, 'slovely': 6630, 'plz': 5611, 'slip': 6625, 'worry': 8063, 'lions': 4403, 'england': 2757, 'lionm': 4401, 'mono': 4882, 'lionp': 4402, 'poly': 5644, 'wwwringtonescouk': 8127, 'original': 5337, 'tones': 7402, '3gbp': 510, 'network': 5052, 'operator': 5307, 'apply': 1109, '0anetworks': 247, 'allow': 999, 'companies': 2041, 'bill': 1441, 'sms': 6659, 'responsible': 6113, 'suppliers': 7027, 'geeee': 3268, 'miss': 4817, 'till': 7325, 'year': 8201, 'together': 7380, 'loving': 4510, 'electricity': 2720, 'fml': 3073, 'haf': 3485, 'combine': 2023, 'nationwide': 5010, 'auto': 1235, 'centre': 1829, 'newport': 5062, 'road': 6168, 'liked': 4377, 'sleeping': 6612, 'kall': 4112, 'bestcongrats': 1419, 'lick': 4356, 'drop': 2617, 'ready': 5970, 'use': 7667, 'mouth': 4909, 'picking': 5545, 'various': 7708, 'points': 5637, 'dearer': 2340, 'happiness': 3523, 'pain': 5395, 'dem': 2389, 'moji': 4865, 'saved': 6301, 'lives': 4421, 'settled': 6423, '7250i': 677, 'take': 7102, 'part': 5433, '86021': 753, 'hgsuite3422lands': 3612, 'roww1jhl': 6201, 'yes': 8212, 'posted': 5686, 'couple': 2169, 'pics': 5547, 'fb': 2957, 'snow': 6674, 'outside': 5364, 'waking': 7810, 'jus': 4099, 'finish': 3020, 'lunch': 4546, 'tot': 7435, 'wan': 7827, 'stay': 6861, 'sch': 6318, 'fine': 3014, 'bbdpooja': 1350, 'pimpleseven': 5561, 'become': 1376, 'quite': 5903, 'blackand': 1465, 'rite': 6166, 'cold': 2006, 'wearing': 7876, 'sweatter': 7062, 'study': 6949, 'positions': 5673, 'kama': 4115, 'sutra': 7048, 'watching': 7855, 'cartoon': 1791, 'listening': 4410, 'music': 4971, 'temple': 7185, 'church': 1940, 'train': 7454, 'seat': 6349, 'lower': 4515, 'video': 7734, 'tape': 7124, 'pple': 5704, 'type': 7552, 'help': 3584, 'hee': 3573, 'noe': 5117, 'infernal': 3882, 'affairs': 914, 'along': 1005, 'asking': 1181, 'shuhui': 6533, 'oso': 5344, 'phones': 5533, 'problems': 5794, 'talk': 7110, 'make': 4611, 'friends': 3170, 'fall': 2920, 'worlds': 8059, 'discreet': 2502, 'dating': 2311, 'service': 6415, 'vip': 7751, '83110': 729, 'could': 2159, 'alright': 1009, 'sweet': 7063, 'jolt': 4073, 'heart': 3562, 'remind': 6063, 'hear': 3559, 'screamed': 6336, 'world': 8056, 'ahmad': 953, 'al': 974, 'hallaq': 3498, 'loved': 4501, 'owned': 5378, 'possessive': 5676, 'passionate': 5447, 'roommates': 6191, 'took': 7414, 'forever': 3098, 'ukp2000': 7572, '09061790125': 195, 'landline': 4262, 'naughty': 5016, 'little': 4416, 'better': 1425, 'flirt': 3059, 'rather': 5947, 'gettin': 3294, 'hurt': 3778, 'nyt': 5205, 'says': 6308, 'hell': 3578, 'definitely': 2372, 'buying': 1682, 'end': 2743, 'true': 7493, 'show': 6519, 'express': 2883, 'someonethat': 6696, 'seperated': 6407, 'x8eö': 8160, 'x89ó': 8151, 'x8bû': 8159, 'ud': 7561, 'evening': 2818, 'yo': 8235, 'anyone': 1082, 'able': 831, 'liquor': 4406, 'flaked': 3044, 'loko': 4452, 'reference': 6026, 'x49your': 8150, 'charged': 1852, '450': 554, 'arrive': 1160, 'services': 6416, '09065989182': 215, 'tmr': 7359, 'brin': 1605, 'aiya': 966, 'mayb': 4684, 'neva': 5055, 'properly': 5828, 'da': 2269, 'sheet': 6463, 'wif': 7968, '88800': 776, '89034': 781, 'premium': 5739, 'phone': 5529, '08718711108': 122, 'todays': 7376, '800': 702, '09050003091': 155, 'c52': 1694, 'thank': 7225, 'princess': 5772, 'nice': 5074, 'juicy': 4090, 'afternoon': 926, 'feeling': 2967, 'boy': 1567, 'obedient': 5211, 'slave': 6609, 'queen': 5892, 'rightio': 6151, '1148': 275, 'arent': 1136, 'bright': 1600, 'early': 2660, 'datoday': 2312, 'wont': 8036, 'playi': 5591, 'driving': 2613, 'clas': 1951, 'didnt': 2453, 'spring': 6809, 'yay': 8196, 'post': 5682, 'l8r': 4237, 'class': 1953, 'shoot': 6498, 'docs': 2532, 'yeovil': 8209, 'motor': 4905, 'project': 5813, 'hours': 3717, '12': 280, 'max': 4678, 'shes': 6470, 'offline': 5241, 'anjolas': 1056, 'msg': 4925, 'rajini': 5926, 'comes': 2028, 'sup': 7020, 'telugu': 7180, 'moviewat': 4915, 'abt': 837, 'popping': 5666, 'ibuprofens': 3794, 'peteis': 5513, 'jenny': 4039, 'leannewhat': 4313, '4mths': 578, 'price': 5765, 'orange': 5324, 'rental': 6073, 'camera': 1738, '11mths': 279, 'mobilesdirect': 4852, '08000938767': 45, 'update': 7632, 'or2stoptxt': 5323, 'wishing': 8001, 'merry': 4748, 'mas': 4657, 'advance': 904, 'cost': 2149, 'approx': 1121, 'per': 5486, 'month': 4884, 'wn': 8021, 'prsn': 5839, 'close': 1972, 'fight': 2991, 'coz': 2179, 'somtimes': 6711, 'dis': 2492, 'saves': 6302, 'relation': 6046, 'bt': 1639, 'quiet': 5901, 'leaves': 4318, 'nothin': 5152, 'eveb': 2815, 'pay': 5460, 'stock': 6891, 'comin': 2030, 'hunonbus': 3773, 'goin': 3348, '2go': 435, '4a': 566, 'donyt': 2566, 'cuz': 2266, 'homebut': 3675, 'latelyxxx': 4285, 'bed': 1380, 'sleep': 6610, 'nothing': 5153, 'msgs': 4929, 'different': 2466, 'nos': 5145, 'job': 4056, 'wiproyou': 7994, 'years': 8202, 'amazing': 1021, 'quote': 5908, 'difficult': 2467, 'decide': 2353, 'whats': 7939, 'wrong': 8091, 'lie': 4359, 'truth': 7500, 'tear': 7160, 'meeting': 4712, 'work': 8049, 'tel': 7170, 'shall': 6448, 'bahamas': 1297, 'callfreefone': 1726, '08081560665': 54, 'speak': 6762, 'live': 4417, 'either': 2710, 'cruise': 2221, 'ofå': 5244, 'cash': 1793, '18only': 349, 'opt': 5316, '07786200117': 27, 'ringing': 6156, 'whole': 7958, 'houseful': 3719, 'screaming': 6337, 'brats': 1582, 'pulling': 5856, 'hair': 3490, '07815296484': 33, 'unredeemed': 7619, 'sim': 6558, '08718738001': 136, 'identifier': 3806, '41782': 541, 'expires': 2877, '181104': 346, 'receive': 5995, 'valentine': 7696, 'game': 3233, 'answers': 1073, 'really': 5980, 'loves': 4509, 'ques': 5894, 'colour': 2017, 'suits': 7002, 'bestrply': 1420, 'heard': 3560, 'fone': 3083, 'dumb': 2642, 'lem': 4331, 'swing': 7071, 'basically': 1335, 'urgnt': 7656, 'testing': 7204, 'card': 1763, 'dunno': 2646, 'gd': 3264, 'thk': 7281, 'sis': 6578, 'bathing': 1344, 'bathe': 1343, 'disturb': 2513, 'liao': 4350, 'cleaning': 1959, 'awake': 1255, 'worse': 8067, 'mus': 4968, 'den': 2391, 'ge': 3266, 'confirm': 2082, 'yalru': 8190, 'lyfu': 4560, 'astne': 1193, 'chikku': 1901, 'innu': 3903, 'mundhe': 4962, 'lyf': 4559, 'ali': 990, 'halla': 3497, 'ke': 4134, 'bilo': 1446, 'marriageprogram': 4651, 'edhae': 2681, 'nt': 5178, 'yet': 8227, 'ovr': 5372, 'chikkuali': 1902, 'vargu': 7707, 'meow': 4744, 'meowd': 4745, 'pub': 5850, 'networking': 5053, 'aiyar': 968, 'scold': 6323, 'reality': 5976, 'fantasy': 2932, '08707509020': 79, '20p': 389, 'min': 4787, 'ntt': 5181, 'ltd': 4526, 'po': 5614, 'box': 1550, '1327': 298, 'croydon': 2218, 'cr9': 2183, '5wb': 626, '0870': 64, 'national': 5009, 'rate': 5944, 'actually': 876, 'whatever': 7938, 'excuse': 2854, 'tampa': 7120, 'point': 5636, 'january': 4019, 'though': 7290, 'okie': 5258, 'scared': 6314, 'fat': 2942, 'include': 3857, 'details': 2426, 'yessura': 8224, 'sun': 7011, 'tvlol': 7531, 'forwarding': 3118, 'proof': 5825, 'final': 3007, 'hearing': 3561, 'laptop': 4273, 'case': 1792, 'bout': 1545, 'drink': 2605, 'tap': 7123, 'spile': 6784, 'seven': 6424, 'gas': 3247, 'st': 6829, 'broad': 1615, 'canal': 1744, 'housemaid': 3720, 'murderer': 4967, 'man': 4621, 'murdered': 4966, 'th': 7221, 'public': 5851, 'holiday': 3668, 'govtinstituitions': 3392, 'closedincluding': 1973, 'officeunderstand': 5238, 'another': 1066, 'gentle': 3278, 'paper': 5412, 'ended': 2744, 'long': 4460, 'ago': 943, 'copied': 2132, 'bbq': 1352, 'sat': 6287, '6ish': 664, 'welcome': 7911, 'peteynoiåõm': 5515, 'wanted': 7832, 'chat': 1862, 'avent': 1247, 'spoken': 6799, 'timehope': 7329, 'doin': 2548, 'alritehave': 1012, 'nit': 5097, 'js': 4083, 'amx': 1039, 'emailed': 2728, 'yifeng': 8231, 'oredi': 5332, 'fr': 3126, 'lol': 4453, 'mad': 4585, 'woke': 8026, 'gave': 3251, 'hour': 3715, 'congratulations': 2090, 'yrs': 8269, 'supply': 7029, 'cds': 1817, 'virgin': 7753, 'records': 6013, 'mystery': 4984, 'gift': 3302, '09061104283': 179, 'tscs': 7506, 'wwwsmsconet': 8135, '150pm': 316, '3mins': 516, 'india': 3872, 'level': 4349, 'series': 6411, 'record': 6010, 'advice': 907, 'enjoy': 2759, 'ima': 3828, 'idea': 3802, 'guess': 3461, 'supposed': 7034, 'since': 6565, 'usual': 7681, 'interest': 3924, 'figuring': 2997, 'makin': 4614, 'weirdy': 7909, 'brownies': 1628, 'sister': 6579, 'made': 4590, 'cookies': 2127, 'monthly': 4885, 'password': 5450, 'wap': 7835, 'mobsicom': 4856, '391784': 502, 'pc': 5470, 'supervisor': 7024, 'students': 6946, 'aft': 924, 'hesitate': 3606, 'weakness': 7872, 'notebook': 5150, 'eat': 2672, 'changed': 1843, '40gb': 537, 'ipod': 3950, 'mp3': 4917, 'player': 5588, '500': 594, 'word': 8043, 'collect': 2010, '83355': 734, 'ibhltd': 3791, 'ldnw15h': 4305, '150pmtmsgrcvd18': 324, 'completed': 2054, 'degree': 2375, 'joining': 4066, 'finance': 3009, 'aight': 961, 'mu': 4943, 'door': 2569, 'office': 5235, 'never': 5056, 'lei': 4329, 'lazy': 4302, 'url': 7659, 'tired': 7339, 'special': 6764, 'registered': 6042, 'optin': 5319, 'subscriber': 6974, 'voucher': 7778, 'entered': 2767, 'receipt': 5993, 'correct': 2141, 'ans': 1067, '80062': 704, 'bbc': 1349, 'charts': 1858, 'moan': 4848, 'thin': 7269, 'faultal': 2949, 'arguments': 1144, 'faultfed': 2950, 'himso': 3625, 'bother': 1539, 'hav': 3541, 'thanxxx': 7230, 'adore': 897, 'loverboy': 4507, 'law': 4297, 'meatballs': 4701, 'grins': 3431, 'babe': 1277, 'official': 5239, 'flag': 3043, 'yer': 8211, 'tonights': 7409, '84199': 744, 'optout': 5321, 'eng': 2752, 'box39822': 1559, 'w111wx': 7785, '150': 307, 'mummys': 4958, 'bad': 1291, 'positive': 5674, 'negative': 5040, 'hmmmm': 3652, 'rose': 6194, 'needs': 5036, 'water': 7856, 'season': 6348, 'change': 1842, 'poet': 5635, 'imaginationmy': 3831, 'lovely': 4503, 'frndship': 3179, 'haha': 3486, 'angry': 1052, 'practice': 5713, 'lost': 4483, 'pls': 5604, 'nope': 5136, 'mahal': 4602, 'ard': 1134, 'sir': 6574, 'lingo': 4396, 'let': 4344, 'earth': 2664, 'making': 4615, 'ìï': 8293, 'gf': 3297, 'virtual': 7754, 'hug': 3754, 'trash': 7467, 'seeking': 6368, 'lady': 4251, 'street': 6921, 'freak': 3134, 'sheets': 6464, 'version': 7725, 'callsmessagesmissed': 1732, 'calls': 1731, 'cool': 2129, 'kicks': 4162, 'around': 1154, 'continued': 2113, 'support': 7030, 'question': 5895, 'enter': 2766, 'in2': 3852, 'president': 5750, '80082': 706, 'monday': 4874, 'gist': 3314, 'delhi': 2382, 'silent': 6554, 'owns': 5379, 'property': 5829, 'urself': 7662, 'walk': 7813, 'replying': 6085, 'mix': 4833, 'mytonecomenjoy': 4985, 'html': 3735, 'terms': 7195, 'gbp450week': 3260, 'mfl': 4769, 'erm': 2786, '645pm': 643, 'thatll': 7236, 'enough': 2765, 'park': 5428, 'onwords': 5294, 'mtnl': 4942, 'problem': 5790, 'south': 6746, 'mumbai': 4955, 'cannt': 1753, 'listen': 4408, 'career': 1770, 'added': 881, 'indyarockscom': 3879, 'remove': 6068, 'phonebook': 5531, 'returns': 6132, 'vikky': 7743, 'abj': 830, 'serving': 6417, 'staying': 6864, 'dad': 2274, 'add': 879, 'spice': 6781, 'tickets': 7318, 'walsall': 7825, 'tue': 7515, 'march': 4642, 'mate': 4665, 'treat': 7476, 'bak': 1300, 'terry': 7200, 'late': 4282, 'paying': 5465, 'rent': 6072, 'past': 5452, 'months': 4887, 'felt': 2974, 'inconsiderate': 3862, 'nag': 4989, 'however': 3724, 'recession': 6002, 'hence': 3593, 'askin': 1180, 'ahead': 949, 'figures': 2996, 'found': 3120, 'piece': 5553, 'priscillas': 5779, 'bowl': 1548, 'lots': 4487, 'cupboard': 2244, '80488': 713, 'credit': 2202, 'arts': 1165, 'nvm': 5198, 'may': 4683, 'approve': 1119, 'panalambut': 5403, 'posts': 5689, 'understanding': 7594, 'sura': 7036, 'zoe': 8285, 'fucking': 3195, 'shitin': 6486, 'defo': 2374, 'hardest': 3528, 'cum': 2240, '2morow': 442, 'millions': 4786, 'lekdog': 4330, 'sen': 6391, 'kind': 4173, 'chad': 1835, 'gymnastics': 3480, 'na': 4987, 'site': 6582, 'christians': 1934, 'sorting': 6735, 'narcotics': 5003, 'xmas': 8168, 'iscoming': 3962, 'cd': 1815, 'vouchers': 7779, 'entry': 2776, 'weekly': 7898, '87066': 760, 'tnc': 7362, 'wwwldewcom1win150ppmx3age16subscription': 8120, 'jobs': 4057, 'available': 1240, 'course': 2172, '2yrs': 470, 'messages': 4758, 'messenger': 4765, 'lik': 4375, 'sending': 6395, 'freefone': 3143, '08006344447': 51, 'selected': 6379, 'gorgeous': 3382, 'pix': 5570, 'cumming': 2242, 'activate': 871, 'conditions': 2076, 'www07781482378com': 8103, 'fuuuuck': 3217, 'sleepin': 6611, 'nah': 4991, 'wasnt': 7845, 'dearshall': 2345, 'tonitebusy': 7411, 'streetshall': 6922, 'tonitethings': 7412, 'looking': 4468, 'okvarunnathu': 5265, 'edukkukayee': 2687, 'raksha': 5930, 'ollubut': 5270, 'sense': 6399, 'especially': 2798, 'missed': 4819, 'wednesday': 7890, 'probably': 5789, 'failed': 2908, 'test': 7203, 'vday': 7714, 'parachute': 5416, 'double': 2576, 'coins': 2004, 'must': 4973, 'nan': 4999, 'sonathaya': 6712, 'soladha': 6687, 'boss': 1536, 'started': 6850, 'skye': 6603, 'oktake': 5263, 'careumma': 1777, 'calicut': 1705, 'theyre': 7266, 'female': 2975, 'howre': 3725, 'throwing': 7304, 'deciding': 2355, 'mrng': 4921, 'spook': 6800, 'mob': 4849, 'halloween': 3499, 'collection': 2013, 'logo': 4446, 'pic': 5542, 'plus': 5609, 'eerie': 2691, '8007': 705, 'zed': 8282, '08701417012150p': 69, 'logopic': 4449, 'pictures': 5550, 'cell': 1826, 'tmorrowpls': 7358, 'accomodate': 852, 'wana': 7829, 'nightswe': 5086, 'port': 5668, 'step': 6873, 'liaotoo': 4352, 'ex': 2845, 'escalator': 2794, '1mcflyall': 363, 'ab': 824, 'sara': 6279, 'jorgeshock': 4078, 'smithswitch': 6654, 'follow': 3078, 'instructions': 3918, 'cheers': 1882, 'mins': 4800, 'txts': 7548, '6months': 666, 'bluetooth': 1500, 'sony': 6716, 'motorola': 4906, 'mobileupd8': 4854, '08000839402': 43, 'call2optoutn9dx': 1716, 'symptoms': 7082, '1u': 374, 'songs': 6714, '2u': 462, 'stopped': 6903, 'beloved': 1408, '3u': 524, 'whenevr': 7944, 'sad': 6245, 'gray': 3416, 'remembr': 6061, 'listn': 4412, 'watevr': 7858, 'wid': 7966, 'whileamp': 7953, 'promise': 5818, 'bring': 1606, 'person': 5502, 'friendship': 3172, 'alive': 993, 'bigger': 1438, 'age': 933, 'followed': 3079, 'gender': 3272, 'wither': 8006, 'eg23f': 2698, 'men': 4735, 'eg23g': 2699, 'living': 4422, 'perfect': 5490, 'partner': 5437, 'join': 4063, 'community': 2039, '100psms': 256, 'til': 7324, 'nite': 5098, 'shop': 6499, '10k': 265, '5k': 617, 'travel': 7470, '09064011000': 201, 'cr01327bt': 2182, 'fixedline': 3041, 'vary': 7710, 'goodnight': 3372, 'near': 5024, 'kalainar': 4110, 'tv': 7529, 'officethenampet': 5237, 'outta': 5367, 'gon': 3357, 'gym': 3479, 'linerental': 4393, 'mobiles': 4851, 'offers': 5233, 'call2optoutlf56': 1715, 'santa': 6274, 'calling': 1728, 'ones': 5281, '09058094583': 168, 'stink': 6889, 'forgotten': 3105, 'youve': 8262, 'wonderful': 8033, 'request': 6088, 'maangalyam': 4574, 'alaipayuthe': 976, 'callertune': 1725, 'callers': 1724, 'press': 5753, 'difference': 2464, 'versus': 7726, 'hrs': 3733, 'constant': 2101, 'requests': 6089, '1stchoicecouk': 371, '08707808226': 81, 'darling': 2301, 'whens': 7945, 'resuming': 6126, 'minimum': 4797, 'period': 5495, 'reapply': 5982, 'forwarded': 3117, '21870000hi': 393, 'mailbox': 4605, 'messaging': 4763, 'alert': 980, '40': 532, 'matches': 4664, '09056242159': 160, 'retrieve': 6128, 'cc100pmin': 1814, 'left': 4322, 'ba': 1273, 'dao': 2295, 'fri': 3163, 'hopefully': 3697, 'depends': 2401, 'individual': 3877, 'dresser': 2604, 'pretty': 5759, 'parents': 5424, 'look': 4464, 'gong': 3361, 'kaypoh': 4130, 'collecting': 2012, 'honeybee': 3683, 'sweetest': 7064, 'god': 3341, 'laughed': 4291, 'waitu': 7808, 'havnt': 3547, 'reading': 5969, 'moral': 4891, 'even': 2817, 'crack': 2185, 'jokes': 4069, 'gmgngegn': 3331, 'kadeem': 4107, 'aunt': 1227, 'nike': 5089, 'mind': 4790, 'happened': 3517, 'uncomfortable': 7585, 'september': 6409, 'places': 5576, 'hospitals': 3707, 'safe': 6248, 'girls': 3313, 'escape': 2795, 'theatre': 7245, 'kavalan': 4129, 'minutes': 4807, 'stupidits': 6959, 'possible': 5679, 'valued': 7702, 'pleased': 5598, 'advise': 908, 'following': 3080, 'recent': 5999, 'review': 6138, '1500': 308, '09066368470': 226, 'umma': 7578, 'geeeee': 3269, 'barely': 1323, 'ouch': 5350, 'id': 3801, 'stayed': 6862, 'longer': 4461, 'hiya': 3640, 'bristol': 1611, 'april': 1125, 'les': 4339, 'rudi': 6217, 'snoringthey': 6673, 'drunk': 2625, 'sends': 6396, 'ink': 3898, 'bath': 1342, 'heroi': 3599, 'qatar': 5883, 'tonite': 7410, 'apt': 1127, 'opportunitypls': 5313, 'ltemailgt': 4530, 'kerala': 4144, 'farm': 2934, 'open': 5300, 'mon': 4873, 'tonight': 7408, 'shits': 6489, 'roommate': 6190, 'cause': 1807, 'yelling': 8205, 'scrappy': 6332, 'lonely': 4459, '3g': 509, 'videophones': 7736, '09063458130': 199, 'videochat': 7735, 'java': 4024, 'games': 3234, 'dload': 2525, 'polyph': 5648, 'noline': 5130, 'rentl': 6074, 'carlos': 1781, 'weekend': 7896, 'convincing': 2123, 'aiyah': 967, 'nydc': 5203, 'wheellock': 7942, 'apart': 1094, 'genius': 3276, 'brother': 1623, 'skype': 6604, 'sick': 6541, '25': 405, 'credits': 2204, 'club4mobilescom': 1980, 'content': 2107, '87070': 761, '150pwk': 333, 'club4': 1979, 'box1146': 1551, 'mk45': 4836, '2wt': 466, 'ass': 1186, 'doggy': 2545, 'style': 6960, 'phoned': 5532, 'disconnected': 2500, '86688': 757, 'lets': 4345, '150pmsg': 319, 'rcvd': 5957, 'hgsuite3422landsroww1j6hl': 3613, 'ldn': 4304, 'treasure': 7475, 'moment': 4870, 'spend': 6778, 'coughing': 2158, 'city': 1945, 'break': 1587, '200': 381, 'summer': 7007, 'spree': 6808, 'wk': 8011, 'store': 6908, '88039skilgmetscs087147403231winawkage16å': 770, '150perwksub': 315, 'fyi': 3219, 'usf': 7672, 'whenever': 7943, 'texted': 7213, 'pshewmissing': 5842, 'shorter': 6510, 'ladies': 4249, 'gaze': 3256, 'eyes': 2894, 'wined': 7986, 'dined': 2478, 'todaysundaysunday': 7377, 'holidayso': 3669, 'din': 2476, 'yup': 8277, 'cut': 2259, 'familymay': 2925, 'stability': 6830, 'tranquility': 7458, 'vibrant': 7730, 'colourful': 2018, 'carso': 1789, 'ugh': 7563, 'exhausted': 2862, 'cuddle': 2236, 'nap': 5002, 'womdarfull': 8029, 'actor': 874, 'thinking': 7275, 'lifting': 4371, 'funny': 3213, 'bluff': 1503, 'izzit': 3998, 'impossible': 3844, 'doesnt': 2539, 'ploughing': 5603, 'pile': 5559, 'ironing': 3956, 'chinky': 1918, 'round': 6196, 'nitros': 5101, 'hurry': 3777, 'crash': 2190, 'seems': 6371, 'weird': 7906, 'timing': 7336, 'smoke': 6655, 'shitstorm': 6490, 'attributed': 1217, 'wondering': 8034, 'forgot': 3104, 'grandma': 3407, 'parade': 5417, 'yunny': 8274, 'persons': 5508, 'story': 6913, 'arrived': 1161, 'lt3': 4525, 'lt': 4524, 'pass': 5442, 'complacent': 2048, 'eye': 2892, 'sore': 6726, 'printer': 5775, 'groovy': 3436, 'wine': 7985, 'groovying': 3437, 'works': 8055, 'rushing': 6232, 'rush': 6231, 'hungry': 3767, 'talking': 7114, 'agree': 945, 'willing': 7978, 'posh': 5672, 'birds': 1451, 'chaps': 1847, 'trial': 7481, 'prods': 5804, 'champneys': 1840, 'put': 5875, 'address': 885, 'dob': 2527, 'darlings': 2302, 'coffee': 2000, 'run': 6226, 'tomocant': 7395, 'believe': 1401, 'thanx': 7229, 'lot': 4484, 'sipix': 6573, 'digital': 2471, '09061221066': 182, 'fromm': 3187, 'delivery': 2387, 'within': 8007, '28': 416, 'subscribed': 6973, 'ten': 7186, '83435': 737, 'helpline': 3590, '08706091795': 77, 'squishy': 6821, 'mwahs': 4978, 'iåõm': 4001, 'vtired': 7783, 'loads': 4432, 'planning': 5582, 'social': 6680, 'inspection': 3912, 'nursery': 5190, 'spk': 6790, 'sn': 6665, 'tas': 7128, 'earn': 2661, 'yoga': 8236, 'thinkin': 7274, 'heat': 3568, 'applyed': 1111, 'oil': 5251, 'computational': 2062, 'science': 6322, 'push': 5871, 'display': 2510, 'internal': 3928, 'subs': 6970, 'extract': 2888, 'wouldnt': 8077, 'least': 4316, 'sound': 6742, 'via': 7729, 'fullonsmscom': 3204, 'frm': 3176, 'wats': 7861, 'matter': 4673, 'baaaaabe': 1276, 'misss': 4822, 'youuuuu': 8261, 'teach': 7153, 'except': 2851, 'subscription': 6976, '5month': 620, '0800': 40, '0721072': 22, 'ee': 2689, 'poortiyagi': 5661, 'odalebeku': 5225, 'hanumanji': 3514, '1hanuman': 359, '2bajarangabali': 425, '3maruti': 514, '4pavanaputra': 580, '5sankatmochan': 623, '6ramaduth': 668, '7mahaveer': 694, 'janarige': 4017, 'ivatte': 3993, 'kalisidare': 4111, 'saturday': 6296, 'olage': 5267, 'ondu': 5278, 'keluviri': 4139, 'maretare': 4643, 'inde': 3869, 'dodda': 2535, 'problum': 5796, 'nalli': 4994, 'siguviri': 6552, 'idu': 3810, 'matra': 4672, 'neglet': 5042, 'yan': 8191, 'jiu': 4053, 'bugis': 1653, 'vill': 7746, '10': 248, 'hop': 3693, 'parco': 5423, 'nb': 5020, 'cine': 1942, '1030': 260, 'orc': 5327, 'mrt': 4922, 'hip': 3628, 'winner': 7989, 'hvae': 3783, '900': 799, 'reward': 6140, '09061701444': 183, '24': 399, 'acl03530150pm': 862, 'fighting': 2992, 'lose': 4478, 'fightng': 2993, 'some1': 6691, 'dificult': 2469, 'party': 5440, 'animal': 1053, 'buzz': 1684, 'reminding': 6066, 'adoring': 898, 'tht': 7308, 'incident': 3855, 'diddy': 2451, 'neighbor': 5043, 'toothpaste': 7421, 'brainy': 1578, 'theory': 7255, 'argument': 1143, 'wins': 7992, 'loses': 4480, 'argue': 1141, 'kick': 4159, '8th': 797, 'secret': 6354, 'admirer': 893, 'reveal': 6134, 'thinks': 7276, '09065174042': 212, 'recd': 5991, 'cust': 2251, '07821230901': 34, 'surprised': 7044, 'spent': 6780, 'french': 3157, 'town': 7445, 'fooled': 3087, 'juz': 4103, 'remembered': 6060, 'dog': 2541, 'swt': 7076, 'nver': 5197, 'lovable': 4498, 'cozsomtimes': 2180, 'occupy': 5219, 'biggest': 1439, 'hearts': 3566, 'ni8': 5071, 'garden': 3243, 'selection': 6380, 'bulbs': 1657, 'seeds': 6365, 'worth': 8069, '3350': 490, 'scotsman': 6329, 'go2': 3336, 'notxtcouk': 5159, 'bold': 1513, 'mistake': 4825, 'ummmmmaah': 7580, '08718738002': 137, '48922': 564, '211104': 392, 'looks': 4469, 'opportunity': 5311, 'confuses': 2088, 'sort': 6731, 'invited': 3941, 'tho': 7286, 'yeh': 8204, 'indians': 3875, 'kane': 4117, 'shud': 6532, 'sometime': 6703, 'mite': 4829, 'pete': 5512, 'importantly': 3842, 'discuss': 2503, 'warm': 7836, 'excuses': 2856, 'dahe': 2279, 'stupid': 6958, 'daalways': 2271, 'thisdon': 7280, 'messagepandy': 4757, 'mental': 4738, 'inpersonation': 3906, 'flea': 3051, 'forums': 3115, 'fair': 2912, 'weaknesses': 7873, 'pushes': 5873, 'knees': 4201, 'exposes': 2882, 'pulls': 5857, 'wicked': 7963, 'ic': 3795, 'lotta': 4489, 'childporn': 1909, 'cars': 1788, 'enjoyed': 2760, '61610': 636, 'help08712400602450p': 3587, 'provided': 5836, 'tones2youcouk': 7404, 'hot': 3711, 'air': 963, 'balloon': 1305, 'saying': 6307, 'slippers': 6626, 'returning': 6131, '09094100151': 238, 'cast': 1798, '10pmin': 267, 'aom': 1093, 'gbp5month': 3261, 'box61m60': 1564, '1er': 358, 'ages': 939, 'inside': 3911, 'officestill': 5236, 'filling': 3001, 'formsdon': 3112, 'jap': 4021, 'lect': 4320, 'fun': 3206, 'bored': 1530, 'james': 4011, 'farting': 2936, 'tacos': 7094, 'house': 3718, 'ruin': 6219, 'thesis': 7263, 'wun': 8102, 'youll': 8250, 'rcv': 5956, 'svc': 7051, 'hardcore': 3526, '69988': 659, 'verify': 7723, 'yr': 8268, 'freemessage': 3146, 'jamsterget': 4014, 'crazy': 2195, 'frog': 3185, 'mad1': 4586, 'mad2': 4587, '88888': 780, 'sounds': 6743, 'gbpweek': 3263, '16only': 343, 'tcs': 7149, 'gnarls': 3334, 'barkleys': 1325, 'totally': 7437, 'tmobile': 7357, 'upgrade': 7634, 'loyalty': 4519, '0845': 59, '021': 13, '3680offer': 497, 'ends': 2748, '28thfebtcs': 420, 'kkwhat': 4195, 'detail': 2424, 'transferacc': 7462, 'sit': 6581, 'licks': 4357, 'center': 1828, 'tootsie': 7422, 'pop': 5662, 'wow': 8079, 'boys': 1570, '2007': 386, 'tour': 7443, 'prebook': 5730, '81303': 720, 'trackmarque': 7450, 'infovipclub4u': 3891, 'vijay': 7741, 'jaya': 4026, 'dislikes': 2507, 'movie': 4913, 'netflix': 5049, 'power': 5700, 'easier': 2665, 'truekdo': 7494, 'knw': 4214, 'walking': 7817, 'saw': 6304, 'begin': 1394, 'eg': 2697, '24m': 403, 'comp': 2040, 'pod': 5633, '80182': 711, 'std': 6866, '08452810073': 62, 'greetings': 3429, 'consider': 2098, 'excused': 2855, 'paid': 5394, 'outstanding': 5366, 'commercial': 2036, 'hasbroin': 3533, 'august': 1226, 'jump': 4093, 'hoops': 3692, 'youwhen': 8264, 'wil': 7976, 'howz': 3728, 'profile': 5808, 'bpo': 1573, '250': 406, 'action': 869, '80608': 715, 'wwwmovietriviatv': 8122, 'custcare': 2252, '08712405022': 100, '1x150pwk': 378, 'chillin': 1914, 'super': 7021, 'plan': 5577, 'probs': 5797, 'obviously': 5216, 'catching': 1804, 'gang': 3238, 'grand': 3405, 'nature': 5014, 'adventure': 905, 'shd': 6462, 'oni': 5283, 'kkwhere': 4196, 'youhow': 8247, 'performed': 5492, 'cme': 1983, 'hos': 3705, 'jacket': 4004, 'used': 7668, 'multis': 4953, 'apparently': 1103, 'bffs': 1430, 'carly': 1782, 'quick': 5899, 'arun': 1166, 'transfr': 7465, 'amt': 1037, 'secure': 6361, 'drive': 2610, 'chill': 1912, 'freemsg': 3147, 'indicate': 3876, 'entitled': 2773, '3750': 499, 'pounds': 5696, 'accident': 849, 'ring': 6155, 'prince': 5770, 'charming': 1856, 'understand': 7593, 'loss': 4482, 'fucks': 3197, 'sake': 6255, 'tallahassee': 7117, 'write': 8084, 'dictionary': 2450, 'mode': 4859, '3cover': 505, 'screen': 6338, 'hand': 3502, '4press': 581, '5gently': 614, 'interesting': 3926, 'scores': 6325, 'sophas': 6725, 'secondary': 6352, 'application': 1108, 'schools': 6321, 'applying': 1112, 'research': 6095, 'joke': 4067, 'ogunrinde': 5245, '120': 281, 'isnt': 3967, 'sirsalam': 6577, 'alaikkumpride': 975, 'pleasure': 5599, 'tea': 7152, 'shopwe': 6503, 'qatarrakhesh': 5884, 'indianpls': 3874, 'save': 6300, 'numberrespectful': 5187, 'regards': 6040, 'vewy': 7728, 'lubly': 4535, 'xxx': 8175, '0776xxxxxxx': 26, 'uve': 7690, 'xchat': 8164, '150pmsgrcvdhgsuite3422landsroww1j6hl': 321, '18yrs': 351, 'okors': 5262, 'cherish': 1890, 'mojibiola': 4866, 'sight': 6546, 'remain': 6057, 'maintain': 4609, 'shjas': 6491, 'operate': 5306, 'goldviking': 3355, '29m': 423, 'inviting': 3942, 'yes762': 8216, 'no762': 5108, 'wwwsmsacugoldviking': 8131, 'frnd': 3177, '62468': 639, 'happening': 3518, 'hunt': 3774, 'waste': 7847, 'goodmorning': 3370, 'neft': 5039, 'transaction': 7459, 'beneficiary': 1413, 'lttimegt': 4532, 'pathaya': 5454, 'enketa': 2763, 'maraikara': 4641, 'deleted': 2381, 'websitenow': 7885, 'blogging': 1486, 'magicalsongsblogspotcom': 4600, 'bowls': 1549, '09066362220': 221, 'mums': 4959, 'somerset': 6699, 'goodno': 3374, 'problembut': 5792, 'american': 1023, 'voice': 7770, 'hui': 3760, 'xin': 8166, 'lib': 4353, 'lakhs': 4257, 'surely': 7038, 'comei': 2027, 'jokin': 4070, 'scratching': 6334, 'rooms': 6192, 'befor': 1389, 'activities': 873, 'accept': 845, 'dayu': 2326, 'lover': 4505, 'dear1': 2339, 'best1': 1418, 'clos1': 1971, 'lvblefrnd': 4558, 'jstfrnd': 4086, 'cutefrnd': 2261, 'lifpartnr': 4368, 'belovd': 1407, 'swtheart': 7077, 'bstfrnd': 1638, 'rply': 6204, 'enemy': 2750, 'small': 6636, 'prestige': 5756, 'kallis': 4113, 'dismissial': 2509, 'macha': 4578, 'upseti': 7644, 'assume': 1191, 'mindsetbelieve': 4792, 'uslet': 7676, 'againcall': 930, 'anytime': 1089, 'dinner': 2481, 'everything': 2832, 'value': 7701, 'realized': 5978, 'absence': 834, 'nosy': 5148, 'idk': 3808, 'reacting': 5964, 'freaked': 3135, 'anymore': 1081, 'greatest': 3422, 'courage': 2170, 'bear': 1366, 'defeat': 2369, 'without': 8008, 'losing': 4481, 'heartgn': 3564, 'tc': 7146, 'usually': 7683, 'unconscious': 7587, 'children': 1910, 'adults': 903, 'behave': 1398, 'abnormally': 832, 'mornin': 4895, 'thanku': 7228, 'sucks': 6985, 'planned': 5581, 'unlimited': 7614, 'collected': 2011, 'dough': 2583, 'control': 2116, 'sunshine': 7018, 'hols': 3672, 'med': 4703, 'stamped': 6839, 'self': 6381, 'envelope': 2779, 'drinks': 2609, '113': 272, 'bray': 1583, 'wicklow': 7965, 'eire': 2709, 'quiz': 5905, 'starts': 6853, 'unsub': 7624, 'axis': 1264, 'bank': 1313, 'smth': 6664, 'present': 5749, 'sign': 6547, 'fan': 2927, 'brainless': 1576, 'dolld': 2556, 'vehicle': 7718, 'sariyag': 6284, 'madoke': 4592, 'barolla': 1327, 'arabian': 1131, 'steed': 6871, 'mmmmmm': 4842, 'improved': 3850, 'sex': 6427, 'dogging': 2544, 'msgs150p': 4930, 'lunchyou': 4548, 'onlinewhy': 5285, 'hairdressers': 3491, 'appointment': 1113, 'four': 3121, 'shower': 6521, 'beforehand': 1390, 'prob': 5788, 'ham': 3500, 'stuff': 6951, 'empty': 2739, 'wisdom': 7995, 'dreams': 2600, 'alwys': 1019, 'normally': 5142, 'tried': 7482, 'offer': 5231, '750': 683, 'camcorder': 1736, '08000930705': 44, 'car': 1762, 'flirting': 3060, 'paperwork': 5414, 'nervous': 5046, 'knowing': 4208, 'fired': 3027, 'dull': 2641, 'relatives': 6048, 'salad': 6256, 'desert': 2412, 'beers': 1388, 'os': 5342, 'ubandu': 7558, 'installing': 3915, 'diskyou': 2506, 'files': 2999, 'system': 7085, 'repair': 6076, 'answering': 1072, 'texts': 7218, 'guessing': 3465, 'jb': 4030, 'access': 846, 'sport': 6801, '20': 380, 'photo': 5535, 'wwworangecoukow': 8124, 'drug': 2621, 'ad': 878, 'crap': 2189, 'borin': 1531, 'boggy': 1511, 'boring': 1532, 'biatch': 1434, 'nxt': 5201, 'ave': 1245, 'brand': 1579, '7250': 676, 'roww1j6hl': 6200, 'gudk': 3457, 'tke': 7352, 'mostly': 4899, 'sports': 6802, 'typelyk': 7553, 'footblcrckt': 3090, 'arpraveesh': 1155, 'face': 2899, 'delicious': 2383, 'weather': 7878, 'calis': 1707, 'complexities': 2058, 'move': 4910, 'freely': 3145, 'taxes': 7137, 'outrageous': 5361, 'flurries': 3069, 'melt': 4727, 'ground': 3438, 'eek': 2690, 'born': 1533, 'almost': 1003, 'bday': 1364, 'pin': 5562, 'december': 2352, 'co': 1988, '08002986906': 49, 'anand': 1044, 'takes': 7105, 'atyour': 1218, 'dead': 2330, 'telling': 7175, 'coulda': 2160, 'wonder': 8032, 'battery': 1345, 'urgh': 7655, 'coach': 1989, 'smells': 6645, 'chip': 1920, 'duvet': 2651, 'predictive': 5733, 'yep': 8210, 'pink': 5563, 'furniture': 3215, 'swimming': 7070, 'pool': 5657, 'jacuzzi': 4007, 'haunt': 3540, 'sorted': 6733, 'promoting': 5822, 'hex': 3608, 'single': 6571, 'area': 1135, '1000s': 254, 'nowsend': 5171, '62220cncl': 637, 'stopcs': 6902, '08717890890å': 119, 'guoyang': 3472, 'file': 2998, 'bagi': 1295, 'mei': 4718, 'airport': 964, '630': 640, 'eastenders': 2669, 'flower': 3065, 'dot': 2575, 'compare': 2044, 'violet': 7750, 'tulip': 7521, 'lily': 4383, '84025': 741, 'wkent150p16': 8013, 'turning': 7527, 'moms': 4872, 'cancer': 1749, 'hurts': 3779, 'ammaelife': 1026, 'turns': 7528, 'steering': 6872, 'hmmm': 3648, 'imagine': 3832, 'rub': 6214, 'feet': 2971, 'date': 2308, 'performance': 5491, 'award': 1256, 'calculated': 1702, 'monthnot': 4886, 'mys': 4982, 'morn': 4894, 'inclusive': 3860, 'goto': 3388, 'wwwcomuknet': 8112, 'login': 4445, 'extra': 2887, 'help08700469649': 3585, 'box420': 1561, 'ip4': 3946, '5we': 627, 'ths': 7307, 'iq': 3951, 'tis': 7344, 'ias': 3789, 'aftr': 928, '6pm': 667, 'avatar': 1244, 'nigro': 5088, 'nojst': 5123, 'tat': 7131, 'remet': 6062, 'alex': 984, 'nichols': 5076, 'middle': 4775, 'dealing': 2336, 'gt': 3451, 'misbehaved': 4812, 'slap': 6608, 'bcoz': 1359, 'fault': 2948, 'hospital': 3706, 'data': 2307, 'analysis': 1043, 'gone': 3359, 'discount': 2501, '85023': 747, 'savamob': 6299, 'cs': 2226, 'pobox84': 5627, 'm263uz': 4568, '300': 472, 'sub': 6964, 'midnight': 4776, 'earliest': 2659, 'oooh': 5296, 'ridden': 6148, 'ey': 2891, 'sec': 6350, 'breaking': 1589, 'cstore': 2228, 'issue': 3969, 'weigh': 7901, 'breathe': 1592, 'regret': 6044, 'webadres': 7882, 'geting': 3290, 'salary': 6258, 'hm': 3644, 'headache': 3550, 'came': 1737, 'mini': 4796, 'snap': 6667, 'quizclub': 5906, '80122300pwk': 708, 'sprwm': 6812, 'ph08704050406': 5519, 'handed': 3503, 'celebrations': 1825, 'morphine': 4897, 'completely': 2055, 'formclark': 3110, 'utter': 7685, 'notice': 5154, 'mirror': 4810, 'sux': 7049, 'snake': 6666, 'raiden': 5918, 'buff': 1650, 'manage': 4622, 'sunny': 7015, 'rays': 5953, 'worries': 8062, 'blue': 1499, 'bay': 1347, 'facebook': 2901, 'needa': 5032, 'mcat': 4689, 'hitechnical': 3634, 'supportproviding': 7031, 'assistance': 1189, 'email': 2727, 'blackberry': 1466, 'torch': 7428, 'wifi': 7973, 'ipad': 3947, 'aunts': 1230, 'anniversary': 1059, 'tarpon': 7127, 'springs': 6810, 'hppnss': 3730, 'sorrow': 6727, 'forevr': 3099, 'goodfriend': 3367, 'olowoyey': 5272, 'uscedu': 7666, 'argentina': 1139, 'blessing': 1480, 'wherever': 7949, 'bognor': 1512, 'splendid': 6794, 'brownie': 1627, 'taj': 7101, 'symbol': 7080, 'lesser': 4341, 'known': 4209, 'facts': 2904, 'mumtaz': 4960, 'shahjahans': 6444, '4th': 585, 'wife': 7969, 'wifes': 7972, 'shahjahan': 6443, 'killed': 4168, 'mumtazs': 4961, 'marry': 4653, 'married': 4652, 'arises': 1145, 'hari': 3530, 'japanese': 4022, 'proverb': 5835, 'none': 5132, 'itu': 3988, 'indian': 3873, 'itleave': 3978, 'finally': 3008, 'strike': 6929, '09090204448': 236, 'minded': 4791, 'arrange': 1157, 'aå': 1268, 'minapn': 4789, 'ls278bb': 4522, 'chikkugoing': 1905, 'nw': 5200, '1appledayno': 354, '1tulsi': 373, 'leafdayno': 4311, '1lemondayno': 362, '1cup': 356, 'milkdayno': 4783, 'bone': 1517, 'problms': 5795, 'litres': 4415, 'watrdayno': 7860, 'diseases': 2505, 'snd': 6669, 'checking': 1877, 'financial': 3010, 'problemi': 5793, 'studying': 6950, 'recycling': 6017, 'read': 5966, 'twice': 7535, 'earning': 2662, 'spending': 6779, 'smiling': 6652, '101mega': 259, 'pixels': 5571, '3optical': 518, '5digital': 610, 'dooms': 2568, 'journey': 4080, 'weeks': 7899, 'purity': 5867, 'messageits': 4755, 'seeing': 6366, 'evng': 2836, 'musthu': 4974, 'infra': 3893, 'slow': 6631, 'formallypls': 3107, 'prayingwill': 5727, 'sh': 6436, 'readyall': 5971, 'deep': 2366, 'meh': 4717, 'wahala': 7798, 'vomit': 7773, 'okay': 5254, 'responsibilities': 6111, 'choice': 1925, 'wwwldewcomsubs161win150ppmx3': 8121, 'imma': 3836, 'somethin': 6700, 'canåõt': 1757, 'cornwall': 2138, 'isnåõt': 3968, 'itåõs': 3992, 'rock': 6174, 'shite': 6485, 'kip': 4180, 'wet': 7931, 'porn': 5667, 'inc': 3853, 'vat': 7712, 'ni8swt': 5072, 'drmstake': 2616, 'china': 1915, 'asia': 1175, 'holla': 3670, 'pound': 5694, '08712101358': 88, '10p': 266, 'btnationalrate': 1642, 'la': 4239, 'pei': 5478, 'bf': 1429, 'wonders': 8035, '7th': 699, '6th': 670, '5th': 625, 'personality': 5505, '3rd': 521, 'erutupalam': 2791, 'thandiyachu': 7222, 'olympics': 5273, 'diff': 2461, 'cheese': 1883, 'hep': 3594, 'immunisation': 3838, 'select': 6378, 'astrology': 1195, 'grocers': 3434, 'appt': 1123, 'pose': 5671, 'comb': 2021, 'dryer': 2630, 'list': 4407, 'sppok': 6806, 'booked': 1521, 'kb': 4131, 'lessons': 4343, 'lodging': 4442, 'voda': 7767, 'numbers': 5188, 'ending': 2745, '7634': 685, '350': 491, 'match': 4663, '08712300220': 90, 'quoting': 5909, '7684': 686, 'standard': 6842, 'don': 2559, 'you': 8241, 'll': 4425, 'catch': 1802, 'velly': 7720, 'sleepwellamptake': 6617, 'yeahand': 8200, 'newquaysend': 5063, 'goneu': 3360, '1im': 361, 'talkin': 7113, 'boutxx': 1546, 'mr': 4919, 'foley': 3076, 'exciting': 2853, 'prizes': 5786, 'wwwwin82050couk': 8145, 'reserve': 6099, 'ticket': 7317, 'thirunelvali': 7279, 'tirunelvali': 7342, 'sunday': 7012, 'evei': 2816, 'netno': 5051, 'availablei': 1241, 'tackle': 7093, '25p': 410, 'alfie': 986, 'moons': 4890, 'song': 6713, 'm8s': 4571, 'charity': 1854, 'nokias': 5129, 'polys': 5650, '08701417012': 68, 'profit': 5810, 'cab': 1695, 'availablethey': 1242, 'steps': 6874, 'aiyo': 969, 'workin': 8051, 'bao': 1318, 'sugardad': 6997, 'ahgee': 950, 'shld': 6492, 'stretch': 6926, 'mca': 4688, 'conform': 2086, 'tall': 7116, 'bloody': 1493, 'mo': 4847, '730': 678, 'ortxt': 5340, 'jess': 4044, 'xx': 8173, 'gentleman': 3279, 'dignity': 2473, 'respect': 6106, 'anybody': 1078, 'asks': 1182, 'themp': 7252, 'fancy': 2929, 'gsoh': 3450, 'spam': 6756, 'ladiesu': 4250, 'male': 4618, 'gigolo': 3306, 'uks': 7573, 'fastest': 2940, 'growing': 3441, 'mens': 4737, 'oncall': 5277, 'mjzgroup': 4835, '087143423992stop': 105, 'msgå': 4936, '150rcvd': 334, 'squatting': 6817, 'evo': 2837, 'download': 2584, 'flash': 3047, 'jealous': 4033, 'kate': 4126, 'yck': 8197, 'showers': 6523, 'possessiveness': 5677, 'poured': 5697, 'lies': 4360, 'golden': 3354, 'truly': 7496, 'cthen': 2231, 'enuff': 2778, 'conclusion': 2074, 'contents': 2110, 'pg': 5517, 'references': 6027, 'cover': 2176, 'smoking': 6658, 'taking': 7107, 'bec': 1373, 'holder': 3665, 'lounge': 4495, 'passes': 5445, '08704439680': 76, 'booking': 1522, 'derp': 2410, 'complaint': 2051, 'three': 7298, 'abusers': 841, 'slice': 6620, 'breadstick': 1586, 'times': 7330, 'football': 3089, 'sky': 6602, 'gamestar': 3235, 'active': 872, '250k': 407, 'dream': 2598, 'team': 7158, 'scoring': 6326, 'register': 6041, 'nowsky': 5172, '88088': 772, 'mila': 4780, 'age23': 936, 'blonde': 1489, 'mtalk': 4940, '6986618': 654, '30pptxt': 478, '5free': 611, 'increments': 3868, 'help08718728876': 3588, 'tallent': 7118, 'wasting': 7849, 'knows': 4210, 'menu': 4742, 'caught': 1806, 'station': 6859, 'knew': 4202, 'dollar': 2554, 'piggy': 5557, 'bet': 1421, 'ure': 7650, 'freezing': 3155, 'craving': 2193, 'ice': 3797, 'keeping': 4136, 'away': 1258, 'specific': 6769, 'jaklin': 4010, 'apps': 1122, 'varaya': 7706, 'elaya': 2717, 'pride': 5768, 'shouldnt': 6515, 'takin': 7106, 'kid': 4163, 'deal': 2332, 'grownup': 3443, 'stuffwhy': 6956, 'yahoo': 8188, 'connection': 2093, 'page': 5392, 'format': 3108, 'disc': 2497, 'directly': 2487, 'internet': 3929, 'prey': 5764, 'teasing': 7163, 'callingforgot': 1729, 'onam': 5276, 'sirjii': 6576, 'insurance': 3919, 'personmeet': 5507, 'insha': 3909, 'allahrakhesh': 997, 'tata': 7132, 'aig': 960, 'joined': 4064, 'tisscotayseer': 7345, 'fishrman': 3034, 'dark': 2298, 'waited': 7803, 'sack': 6242, 'ful': 3201, 'stones': 6897, 'strtd': 6939, 'throwin': 7303, 'thm': 7283, 'atlast': 1202, '1stone': 372, 'diamonds': 2447, 'moraldont': 4892, 'lab': 4243, 'str': 6914, 'infront': 3894, 'stubborn': 6942, 'mark': 4645, 'weak': 7871, 'sucker': 6983, 'suckers': 6984, 'chechi': 1872, '50': 593, 'minus': 4805, 'paragraphs': 5419, 'wkend': 8012, 'terrible': 7197, 'huge': 3755, 'marking': 4648, '123': 286, 'competition': 2047, '1450': 304, '09050002311': 154, 'b4280703': 1271, 'tcsstop': 7151, '08718727868': 131, '31': 479, '2005': 385, 'drinkin': 2606, 'dancin': 2289, 'eatin': 2673, 'cinema': 1943, 'ref': 6024, 'r836': 5910, '09065069154': 209, 'lay': 4299, 'bimbo': 1447, 'ugos': 7564, 'appreciate': 1115, 'xy': 8183, 'freemsgfeelin': 3149, 'lnly': 4429, 'company': 2043, 'jst': 4085, 'cam': 1735, 'moby': 4858, 'pictxt': 5551, '82242': 722, 'msg150p': 4926, '2rcv': 459, 'hlp': 3643, '08712317606': 92, 'suggest': 6998, 'stays': 6865, 'ors': 5339, 'stool': 6898, 'messageno': 4756, 'responcewhat': 6107, 'happend': 3516, 'ki': 4157, 'malaria': 4616, 'relax': 6049, 'handle': 3505, 'gastroenteritis': 3248, 'replace': 6078, 'temp': 7183, 'reduce': 6022, 'meds': 4707, 'limiting': 4387, 'illness': 3825, 'search': 6346, 'itlet': 3979, 'ft': 3191, 'combination': 2022, '09061221061': 181, '28days': 419, 'box177': 1553, 'm221bp': 4565, '2yr': 469, 'warranty': 7841, 'på': 5882, '399': 503, 'ar': 1129, 'msgwe': 4935, 'billed': 1442, 'shortcode': 6509, '83332please': 732, '08081263000': 53, 'charges': 1853, 'refundedthis': 6035, 'burger': 1662, 'killing': 4169, 'picture': 5549, 'httpalto18coukwavewaveaspo44345': 3736, 'voicemail': 7771, '08719181513': 143, 'costa': 2150, 'del': 2378, 'sol': 6686, '5000': 595, 'await': 1253, '09050090044': 157, 'toclaim': 7369, 'sae': 6246, 'pobox334': 5622, 'stockport': 6892, 'sk38xh': 6594, 'costå': 2154, 'max10mins': 4679, 'confidence': 2080, 'aeronautics': 911, 'professors': 5807, 'wer': 7921, 'calld': 1721, 'askd': 1178, 'aeroplane': 912, 'plane': 5578, 'ws': 8095, 'dey': 2437, 'hurried': 3776, 'saidif': 6254, 'tells': 7177, 'chocolate': 1924, 'sunlight': 7014, 'bcozi': 1360, 'dick': 2448, 'greatbye': 3421, 'chachi': 1834, 'unable': 7581, 'pl': 5573, 'cal': 1701, 'tiz': 7351, 'kanagu': 4116, 'mood': 4888, 'figure': 2995, 'math': 4667, 'darren': 2304, 'guessed': 3462, 'short': 6507, 'leh': 4327, 'coveragd': 2177, 'vasai': 7711, '4o': 579, 'clock': 1970, 'shame': 6449, 'runs': 6229, 'blame': 1471, 'payments': 5467, 'fedex': 2963, 'lecture': 4321, 'simple': 6560, 'wtf': 8098, 'random': 5935, 'btw': 1644, 'machan': 4579, 'alivebetter': 994, 'cashbalance': 1794, 'currently': 2248, 'maximize': 4680, 'cashin': 1796, 'cc': 1813, '08718720201': 123, '11414': 274, 'tcrw1': 7148, 'mines': 4795, 'lookin': 4467, 'frens': 3158, 'speaking': 6763, 'expression': 2884, '1childish': 355, '2naughty': 448, '3sentiment': 522, '4rowdy': 582, '5ful': 612, 'attitude': 1214, '6romantic': 669, '7shy': 698, '8attractive': 791, '9funny': 811, 'irritating': 3958, 'sane': 6273, 'constantly': 2102, 'helping': 3589, 'dawhats': 2316, 'contacted': 2104, '09111032124': 245, 'pobox12n146tf150p': 5620, 'track': 7449, 'women': 8030, 'predict': 5731, 'ìll': 8292, 'omw': 5275, 'thus': 7313, 'peach': 5474, 'cake': 1698, 'tasts': 7130, 'lush': 4550, 'fantasies': 2930, 'appointments': 1114, 'shoving': 6518, 'couldnt': 2161, 'normal': 5141, 'body': 1510, 'kappa': 4122, '0906346330': 200, 'abta': 838, 'complimentary': 2059, 'spanish': 6757, '10000': 251, '47': 559, 'po19': 5615, '2ez': 432, 'ran': 5934, 'the4th': 7242, 'october': 5224, 'auctionpunj': 1220, 'tiwary': 7349, 'claims': 1948, '09050005321': 156, 'prominent': 5817, 'bite': 1461, 'cheek': 1879, 'wiskey': 8003, 'brandy': 1580, 'rum': 6223, 'gin': 3308, 'beer': 1386, 'vodka': 7769, 'scotch': 6327, 'shampain': 6450, 'kudiyarasu': 4229, 'dhina': 2440, 'vaazhthukkal': 7693, 'maths': 4671, 'chapter': 1848, '09061790121': 194, 'macedonia': 4577, 'goalsteam': 3339, '87077': 762, 'trywales': 7504, 'scotland': 6328, '4txtì¼120': 588, 'poboxox36504w45wq': 5628, 'handset': 3507, 'networks': 5054, 'happen': 3515, 'xxxmobilemovieclub': 8176, 'click': 1966, 'httpwap': 3742, 'xxxmobilemovieclubcomnqjkgighjjgcbl': 8177, 'shoppin': 6500, 'hotel': 3712, 'lmao': 4427, '125gift': 290, 'wkly': 8015, 'upset': 7643, 'priority': 5778, 'sleepingand': 6613, 'surfing': 7040, 'trip': 7483, 'barring': 1330, 'sudden': 6986, 'influx': 3883, 'si': 6537, 'mokka': 4867, 'players': 5589, 'broken': 1618, 'english': 2758, 'smart': 6638, '85222': 749, 'nowtcs': 5174, 'winnersclub': 7990, '84': 740, 'm26': 4567, '3uz': 526, 'gbp150week': 3259, 'returned': 6130, 'tescos': 7201, 'shadow': 6439, 'flippin': 3058, 'dorothykiefercom': 2572, 'granite': 3409, 'issues': 3970, 'strongbuy': 6936, 'explosive': 2881, 'members': 4729, 'nasdaq': 5004, 'cdgt': 1816, 'overtime': 5371, 'nigpun': 5087, 'hw': 3784, 'realy': 5981, 'mising': 4815, 'fool': 3086, 'cheat': 1870, 'others': 5346, 'hcl': 3548, 'requires': 6093, 'freshers': 3161, 'processexcellent': 5801, 'neededsalary': 5034, 'upto': 7647, 'mssuman': 4938, 'telephonic': 7172, 'interview': 3931, 'poor': 5659, 'meive': 4721, 'hardly': 3529, 'gotany': 3386, 'weightloss': 7905, 'ebay': 2675, 'mom': 4869, 'envy': 2780, 'sees': 6374, 'rcbbattle': 5954, 'bang': 1309, 'kochi': 4215, '6hrs': 663, 'surgical': 7041, 'emergency': 2733, 'unfolds': 7599, 'darlinim': 2303, '2morrow': 444, 'soonxxx': 6722, 'rain': 5920, 'get4an18th': 3288, 'boooo': 1526, 'quit': 5902, 'wordnot': 8045, 'merely': 4746, 'relationshipits': 6047, 'wherevr': 7950, 'gudnyt': 3460, 'ate': 1198, '121': 284, '60pmin': 634, 'connect': 2091, '09094646899': 239, 'cheap': 1868, 'vu': 7784, 'bcm1896wc1n3xx': 1356, 'unique': 7606, '1172': 277, 'removal': 6067, '87239': 766, '08708034412': 82, 'workout': 8054, 'muz': 4977, 'fats': 2946, 'meant': 4696, 'slept': 6619, 'nights': 5085, 'yijue': 8232, '3230': 485, 'textbook': 7211, 'intro': 3935, 'algorithms': 989, 'edition': 2683, 'selling': 6386, '400': 533, 'proze': 5838, 'norcorp': 5138, 'ltdå': 4529, '150mtmsgrcvd18': 312, 'bcums': 1362, 'dnt': 2526, 'childish': 1908, 'showing': 6524, 'affection': 915, 'kettoda': 4147, 'manda': 4627, 'inches': 3854, 'toa': 7364, 'payoh': 5468, '0796xxxxxx': 38, 'day2': 2319, 'prizeawaiting': 5785, 'jays': 4028, 'retard': 6127, 'horrible': 3703, 'idiot': 3807, 'girlie': 3312, 'cud': 2235, 'ppl': 5703, 'gona': 3358, 'l8': 4235, 'buses': 1671, 'waitin': 7805, 'bought': 1543, 'rons': 6187, 'swatch': 7059, '515': 601, '09066358361': 218, 'y87': 8184, 'specially': 6768, 'flights': 3056, '0871277810910pmin': 104, 'practicing': 5714, 'babies': 1280, 'eggspert': 2704, 'potato': 5690, 'thangam': 7223, 'held': 3576, 'prasad': 5721, 'group': 3439, 'parked': 5430, 'nimbomsons': 5091, 'ringtoneget': 6159, 'freesend': 3154, 'subpoly': 6969, '816183': 721, 'weekstop': 7900, 'sms08718727870': 6660, 'sentence': 6404, 'concentrate': 2068, 'educational': 2686, 'reason': 5983, 'risk': 6164, 'pack': 5386, 'storelike': 6909, 'cereals': 1830, 'food': 3085, 'gari': 3244, '9ja': 812, 'although': 1016, 'baig': 1298, 'watches': 7853, 'touched': 7440, 'luck': 4536, 'fortune': 3113, 'tkts': 7353, 'cup': 2243, '09058099801': 177, 'b4190604': 1270, '7876150ppm': 688, 'valentines': 7697, 'hundreds': 3765, 'handsomes': 3509, 'beauties': 1369, 'aunties': 1229, 'searching': 6347, 'medont': 4706, 'lm': 4426, 'goodnoon': 3375, 'korean': 4220, 'leonas': 4338, 'fave': 2952, 'lays': 4301, 'meaning': 4693, 'pleasured': 5600, 'tellmiss': 7176, 'impression': 3848, 'cl': 1946, 'arngd': 1153, 'marriage': 4650, 'walkin': 7816, 'unfortuntly': 7601, 'bites': 1462, 'dancing': 2290, 'frnt': 3183, 'sayin': 6306, 'pussy': 5874, 'wnt': 8023, 'bmw': 1506, 'urgentlyits': 7654, 'vry': 7781, 'urgentbut': 7653, 'hv': 3782, 'shortage': 6508, 'lacsthere': 4247, 'source': 6745, 'arng': 1152, 'lacsthats': 4246, 'preferably': 5735, 'kegger': 4138, 'ryder': 6235, 'unsoldnow': 7623, 'natalja': 5008, '25f': 409, 'yes440': 8215, 'no440': 5107, 'wwwsmsacunat27081980': 8133, 'keys': 4150, 'purse': 5870, 'attend': 1210, 'mid': 4774, 'fifteen': 2988, 'respond': 6108, 'rem': 6056, 'correctly': 2144, 'simply': 6562, '85069': 748, 'usher': 7674, 'britney': 1613, 'prospects': 5833, 'denis': 2394, 'mina': 4788, 'prices': 5766, 'general': 3273, 'oz': 5384, 'ifwhenhow': 3814, 'gautham': 3250, 'several': 6426, 'likely': 4378, 'parentsi': 5425, 'rayan': 5951, 'macleran': 4583, 'worried': 8061, 'caring': 1778, 'gods': 3344, '2004': 384, '89545': 786, 'www4tcbiz': 8104, '2optout': 454, '08718726270150gbpmtmsg18': 126, 'txtauction': 7543, 'decided': 2354, 'thru': 7306, 'trauma': 7468, 'swear': 7060, 'weight': 7903, 'thinkthis': 7277, 'dangerous': 2294, 'package': 5387, 'programs': 5811, 'hhahhaahahah': 3614, 'rofl': 6179, 'nig': 5079, 'leonardo': 4337, 'tuesday': 7517, 've': 7715, 'salt': 6265, 'wounds': 8078, 'hme': 3645, 'birthdate': 1455, 'partners': 5438, 'method': 4768, 'calculation': 1703, 'avoiding': 1251, 'burden': 1661, 'fill': 3000, 'shitload': 6488, 'absolutely': 835, 'recently': 6000, 'california': 1706, 'weathers': 7879, 'kkhow': 4192, 'kids': 4165, 'formatting': 3109, 'leona': 4336, 'ben': 1410, 'fingers': 3019, 'throat': 7301, 'scratches': 6333, 'printed': 5774, 'upstairs': 7646, 'flavour': 3050, 'tomorrowtoday': 7399, 'dubsack': 2635, 'natuition': 5012, 'invention': 3937, 'flyim': 3071, 'joking': 4071, 'ohi': 5248, 'hahatake': 3488, 'ttyl': 7514, 'tirupur': 7343, '09050000460': 149, 'j89': 4002, 'box245c2150pm': 1554, 'breeze': 1596, 'fresh': 3160, 'twittering': 7539, 'wereare': 7922, 'nalla': 4993, 'adi': 889, 'entey': 2771, 'nattil': 5011, 'kittum': 4185, 'anyways': 1091, 'smiles': 6650, '2nite': 452, 'annie': 1058, 'dedicated': 2364, 'dedicate': 2363, 'valuable': 7700, 'fa': 2896, '21st': 395, '87121': 763, 'questionstd': 5898, 'ratetcs': 5946, '08452810075over18s': 63, 'storming': 6912, 'lift': 4369, 'phne': 5527, 'wt': 8096, 'margaret': 4644, 'girlfrnd': 3311, 'grahmbell': 3401, 'invnted': 3943, 'telphone': 7179, 'moralone': 4893, '4get': 571, 'hostel': 3709, 'givits': 3320, 'kanoanyway': 4120, 'clothes': 1976, 'jewelry': 4047, 'trips': 7485, 'breathing': 1595, 'neck': 5028, 'bud': 1647, 'youd': 8244, 'kthen': 4226, '09066350750': 216, 'ibiza': 3792, '434': 546, 'sk3': 6593, '8wp': 798, 'ppm': 5705, 'lambu': 4259, 'ji': 4049, 'cometil': 2029, 'batchlor': 1341, 'sathya': 6290, 'dint': 2483, 'east': 2668, 'coast': 1990, 'inperialmusic': 3905, 'listening2the': 4411, 'weirdest': 7907, 'byåóleafcutter': 1692, 'johnåósounds': 4062, 'insects': 3908, 'molestedsomeone': 4868, 'plumbingremixed': 5607, 'evil': 2834, 'acid': 860, 'mumhas': 4956, 'beendropping': 1385, 'red': 6018, 'theplace': 7256, 'adress': 900, '07742676969': 25, '786': 687, '08719180248': 140, '45239': 557, 'refilled': 6030, 'successfully': 6982, 'inr': 3907, 'keralacircle': 4145, 'prepaid': 5740, 'balance': 1302, 'kr': 4224, 'putting': 5878, 'yar': 8192, 'ull': 7574, 'wah': 7797, 'exact': 2846, 'ovulatewhen': 5373, '3wks': 529, 'fret': 3162, 'history': 3632, 'diet': 2459, 'slices': 6621, 'pizza': 5572, 'salam': 6257, 'wahleykkumsharing': 7800, 'newsby': 5065, 'grace': 3399, 'tayseertissco': 7143, 'joinedhope': 4065, 'fineinshah': 3016, 'allahmeet': 996, 'sometimerakheshvisitor': 6704, 'honey': 3682, 'sweetheart': 7065, 'sugar': 6996, 'plum': 5605, 'smacks': 6635, 'jd': 4031, 'accounts': 857, 'executive': 2858, 'gandhipuram': 3236, 'cross': 2215, 'side': 6543, 'turn': 7525, 'contacts': 2105, 'redim': 6020, 'blueu': 1502, 'purpleu': 5868, 'pinku': 5564, 'orangei': 5325, 'thnk': 7284, 'lyk': 4562, 'greeni': 3426, 'yelowi': 8207, 'bck': 1354, 'blackim': 1467, 'browni': 1626, 'giv': 3315, 'color': 2016, 'business': 1673, 'serious': 6412, 'proper': 5827, 'tongued': 7407, 'latebut': 4283, 'kwish': 4232, 'floppy': 3063, 'snappy': 6668, 'upload': 7638, '08718730666': 135, '08712460324': 101, 'wwwfullonsmscom': 8114, 'heading': 3552, 'towards': 7444, 'prediction': 5732, 'goodmorningmy': 3371, 'grandfather': 3406, 'expiredso': 2876, 'elama': 2716, 'mudyadhu': 4947, 'nok': 5124, '87021': 759, 'txtin': 7545, '150ptone': 331, 'hl': 3641, '4info': 575, 'pours': 5698, 'sum1': 7005, 'becoz': 1378, 'limited': 4386, 'kkfrom': 4190, 'onwards': 5293, 'stuck': 6943, 'dads': 2277, 'philosophy': 5526, '08717898035': 121, 'gent': 3277, '09064012160': 202, 'protect': 5834, 'ethreats': 2807, 'sib': 6539, 'sensitive': 6401, 'passwordsatmsms': 5451, 'share': 6456, 'masters': 4661, 'giggle': 3305, 'possibly': 5681, 'person2die': 5503, 'nvq': 5199, 'gives': 3318, 'reasons': 5985, 'afraid': 921, '87131': 764, '0870737910216yrs': 78, '150wk': 336, 'unlike': 7613, 'patients': 5455, 'turkeys': 7524, 'updatenow': 7633, 'sonyericsson': 6717, 'call2optoutf4q': 1712, 'samus': 6271, 'shoulders': 6513, 'pickle': 5546, 'loxahatchee': 4517, 'tree': 7480, 'burning': 1666, 'sofa': 6681, 'curious': 2246, 'xuhui': 8172, 'lesson': 4342, 'jason': 4023, 'promises': 5820, 'gotten': 3389, 'bird': 1450, 'purchases': 5865, 'dave': 2315, 'tenerife': 7189, '09061743806': 189, 'box326': 1555, 'cw25wx': 2267, 'wesleys': 7926, 'hella': 3579, 'openings': 5305, 'thanksgiving': 7227, 'upcharge': 7629, 'grumpy': 3447, 'lying': 4561, 'dayshe': 2324, 'potential': 5691, 'talent': 7108, 'friendofafriend': 3169, 'actual': 875, 'flip': 3057, 'chile': 1911, 'subletting': 6966, 'febapril': 2961, 'audition': 1222, 'aathilove': 822, 'holby': 3663, 'meim': 4719, 'yuou': 8276, 'spot': 6804, 'mall': 4619, 'tbspersolvo': 7145, 'chasing': 1860, 'sept': 6408, 'forå': 3119, '38': 501, 'ignore': 3817, 'kath': 4128, 'manchester': 4626, 'fwiw': 3218, 'afford': 919, 'happens': 3519, 'glad': 3321, 'rupaul': 6230, 'tool': 7416, 'christmas': 1935, 'kisses': 4182, 'desires': 2415, 'liver': 4419, 'stylish': 6962, 'managed': 4624, 'wisheds': 7998, 'replied': 6081, 'management': 4625, 'alsoor': 1014, 'wiv': 8010, 'caroline': 1784, 'favourite': 2956, 'bless': 1477, 'steve': 6877, 'nonenowhere': 5133, 'ikno': 3821, 'doesdiscountshitinnit': 2537, 'configure': 2081, 'settings': 6421, 'srsly': 6823, 'yi': 8230, 'swoop': 7075, 'outbid': 5353, 'simonwatson5120': 6559, 'shinco': 6475, 'dvd': 2652, 'plyr': 5610, 'acsmsrewards': 865, 'notifications': 5155, 'boye': 1568, 'faded': 2905, 'glory': 3328, 'ralphs': 5932, 'syllabus': 7079, 'hockey': 3658, 'elections': 2719, 'shouldn': 6514, 'role': 6181, 'model': 4860, 'giving': 3319, 'miracle': 4809, 'looked': 4466, 'young': 8253, 'raping': 5943, 'dudes': 2638, 'poker': 5638, 'sunroof': 7016, 'popped': 5665, 'scrounge': 6340, 'scream': 6335, 'superb': 7022, 'grateful': 3412, 'happier': 3520, 'apologize': 1100, 'admit': 895, 'despite': 2420, 'cramps': 2188, 'wanting': 7833, 'allday': 998, 'piss': 5567, 'poyyarikaturkolathupalayamunjalur': 5702, 'posterode': 5687, 'offerthe': 5234, 'nokia6650': 5128, '81151': 719, '4tctxt': 584, '150pmtmsg': 323, 'anythings': 1087, 'thursday': 7312, 'hypertension': 3787, 'pansy': 5408, 'jungle': 4096, 'king': 4176, 'footy': 3093, 'stadium': 6832, 'large': 4277, 'cocacola': 1993, 'perpetual': 5499, 'dd': 2328, 'kkwhy': 4197, 'creepy': 2206, 'purchase': 5864, 'xavier': 8163, 'bag': 1294, 'msn': 4937, 'castor': 1799, 'soc': 6679, 'library': 4355, 'mention': 4739, 'served': 6414, '21': 391, 'jiayin': 4051, 'sell': 6385, 'blanked': 1473, 'maturity': 4677, 'propsd': 5832, 'gv': 3476, 'lv': 4557, 'lttrs': 4533, 'threw': 7299, 'aproach': 1126, 'dt': 2632, 'truck': 7492, 'speeding': 6775, 'girld': 3310, 'cn': 1985, 'boost': 1527, 'energy': 2751, 'instantly': 3916, 'shouted': 6516, 'thy': 7315, 'lived': 4418, 'happily': 3522, '2gthr': 436, 'drinking': 2607, 'evrydy': 2843, 'msgsd': 4931, 'boat': 1507, 'naked': 4992, 'weirdo': 7908, 'sef': 6375, 'meanwhile': 4697, 'anjie': 1055, 'sac': 6239, 'carry': 1786, 'stash': 6855, 'dry': 2629, 'ups': 7642, '3days': 507, 'shipping': 6481, '2wks': 465, 'usps': 7680, 'gets': 3291, 'lag': 4252, 'bribe': 1597, 'nipost': 5096, 'kkgoodstudy': 4191, 'blastin': 1476, 'tsunamis': 7511, 'occur': 5220, 'rajnikant': 5929, 'oceand': 5222, '3510i': 492, 'deliveredtomorrow': 2386, 'announcement': 1061, '07090298926': 20, 'reschedule': 6094, 'ref9307622': 6025, '83021': 727, '4the': 586, 'belive': 1402, 'godnot': 3343, 'jesus': 4045, 'half8th': 3495, 'x89ûò': 8157, 'incomm': 3861, 'celebrate': 1822, 'båõday': 1693, 'jabo': 4003, 'abi': 827, 'aint': 962, 'complaining': 2050, 'tyler': 7550, 'total': 7436, 'quarter': 5891, 'grr': 3445, 'prescription': 5747, 'pharmacy': 5520, '0871277810710pmin': 102, 'owe': 5376, 'okey': 5257, 'dokey': 2553, 'dock': 2530, 'rolled': 6183, 'newscaster': 5066, 'dabbles': 2272, 'jazz': 4029, 'flute': 3070, 'wheel': 7941, 'sitting': 6585, 'suite': 7000, 'teams': 7159, 'goal': 3338, 'walls': 7823, 'heartsnot': 3567, 'cares': 1775, 'closer': 1974, 'tick': 7316, 'die': 2456, 'loneliness': 4458, 'pouts': 5699, 'stomps': 6895, 'converted': 2119, 'costume': 2152, '3d': 506, 'imp': 3839, 'flies': 3054, 'hittng': 3638, 'reflex': 6032, 'bottom': 1542, 'mths': 4941, 'cameravideo': 1739, 'minstexts': 4803, 'bread': 1585, 'milk': 4782, 'lmaonice': 4428, 'anywhere': 1092, 'damn': 2284, 'hunting': 3775, 'dearme': 2343, 'cherthalain': 1891, 'cochin': 1995, 'bfore': 1431, 'starti': 6851, 'accordinglyor': 855, 'comingtmorow': 2033, 'engaged': 2753, 'cutest': 2262, 'elaborating': 2714, 'safety': 6250, 'aspects': 1185, '09066358152': 217, 'prompts': 5824, 'careful': 1771, 'refund': 6034, 'convenience': 2117, 'toledo': 7388, 'cha': 1833, 'quiteamuzing': 5904, 'thatåõscool': 7241, '82324': 724, 'spoiled': 6797, 'wylie': 8146, 'sarasota': 6280, 'answered': 1070, 'designation': 2414, 'software': 6683, 'developer': 2433, '2814032': 417, '3xå': 531, '150pw': 332, 'eå': 2895, 'nd': 5022, 'row': 6199, 'blu': 1498, 'concert': 2073, 'november': 5162, '09061104276': 178, '375max': 500, 'waitshould': 7807, 'texting': 7215, 'melle': 4724, 'oru': 5341, 'minnaminunginte': 4798, 'nurungu': 5192, 'vettam': 7727, 'report': 6086, 'reminder': 6065, 'downloaded': 2585, 'httpdoit': 3738, 'mymoby': 4980, 'warned': 7838, 'sprint': 6811, 'prolly': 5815, 'receivea': 5996, '09061701461': 184, 'kl341': 4199, 'casualty': 1800, 'stuff42moro': 6952, 'includes': 3858, 'sd': 6342, 'butt': 1676, 'prix': 5782, 'imin': 3835, 'towndontmatter': 7446, 'urgoin': 7657, 'outl8r': 5360, 'reckon': 6007, 'transport': 7466, 'olave': 5268, 'mandara': 4629, 'kano': 4119, 'trishul': 7486, '850': 746, '650': 644, 'bcum': 1361, 'country': 2166, 'liverpool': 4420, 'played': 5587, 'ansr': 1068, '82277': 723, 'sptyrone': 6814, 'survey': 7046, '80160': 710, 'wwwtxt43com': 8142, 'pilates': 5558, 'kickboxing': 4160, 'lil': 4382, 'fever': 2978, 'paris': 5426, 'flight': 3055, '69101': 648, 'wwwrtfsphostingcom': 8128, 'chastity': 1861, 'device': 2434, 'beatings': 1368, 'return': 6129, 'immediately': 3837, 'norm': 5139, '415': 539, 'tests': 7205, 'nauseous': 5017, 'pissed': 5568, 'sweets': 7067, 'pig': 5556, 'dieting': 2460, 'certificate': 1832, 'publish': 5852, 'wishes': 7999, 'obey': 5213, 'revealing': 6136, 'cashto': 1797, '08000407165': 41, 'getstop': 3293, '88222': 773, 'php': 5538, 'rg21': 6142, '4jx': 576, 'postcode': 5685, 'uncle': 7583, 'abbey': 825, 'weeddeficient': 7894, 'slaaaaave': 6607, 'summon': 7008, 'pray': 5724, 'ideas': 3804, 'forward': 3116, 'dai': 2281, 'exe': 2857, '4u': 589, 'title': 7346, 'dracula': 2591, 'titles': 7347, 'ghost': 3299, 'addamsfa': 880, 'munsters': 4963, 'exorcist': 2866, 'twilight': 7537, 'pobox36504w45wq': 5623, 'playing': 5593, 'basketball': 1336, 'outdoors': 5354, 'kkare': 4189, 'certainly': 1831, 'puts': 5876, 'perspective': 5509, 'inform': 3886, 'nhs': 5070, 'mistakeu': 4827, 'bornplease': 1534, 'yor': 8239, 'local': 4436, '2b': 424, 'terminatedwe': 7194, 'inconvenience': 3863, 'ym': 8233, 'tm': 7355, 'hint': 3627, 'forum': 3114, 'ron': 6186, 'creep': 2205, 'roomate': 6189, 'campus': 1741, 'graduated': 3400, 'attention': 1213, '09061213237': 180, 'luxury': 4556, 'canary': 1745, 'islands': 3964, '177': 344, 'm227xy': 4566, 'sheffield': 6465, 'tom': 7391, 'opinions': 5309, 'categories': 1805, 'measure': 4699, 'ethnicity': 2806, 'census': 1827, 'busy': 1674, 'transcribing': 7460, 'dagood': 2278, 'replacement': 6079, 'murali': 4964, 'dawhere': 2317, 'gs': 3448, 'ammo': 1027, 'ak': 971, 'sao': 6276, 'coherently': 2001, 'twenty': 7534, 'colleagues': 2009, '2nitetell': 453, 'every1': 2824, 'ava': 1238, 'goodtimeoli': 3378, 'rang': 5939, 'melnite': 4725, 'ifink': 3813, 'sortedbut': 6734, 'explain': 2878, 'everythin': 2831, 'monl8rsx': 4881, '1225': 285, '50award': 598, '3100': 480, 'app': 1102, 'bx420': 1688, 'trade': 7451, 'dr': 2590, 'lanre': 4270, 'fakeyes': 2917, 'eckankar': 2678, 'bedroom': 1382, 'minute': 4806, 'sed': 6363, 'minuts': 4808, 'latr': 4289, 'caken': 1699, 'appreciated': 1116, 'map': 4638, 'semi': 6389, '09066364589': 225, 'pookie': 5656, 'pie': 5552, 'bold2': 1514, 'selflessness': 6384, 'plenty': 5601, 'representative': 6087, '08714712394': 108, '10am7pm': 263, 'direct': 2486, '69855': 653, '24hrs': 402, '50p': 599, 'stopbcm': 6901, 'sf': 6433, 'wc1n3xx': 7869, 'sfirst': 6434, 'timedhoni': 7328, 'rocks': 6176, 'unfortunately': 7600, 'cakes': 1700, 'beerage': 1387, 'backa': 1288, 'necklace': 5029, 'token': 7383, 'youthats': 8259, 'likingbe': 4381, 'seeno': 6373, 'thatdont': 7234, 'rgent': 6143, 'uu': 7687, '1250': 289, '09071512433': 234, '050703': 14, 'tcsbcm4235wc1n3xx': 7150, 'callcost': 1719, 'mobilesvary': 4853, 'maxå': 4682, 'reached': 5962, 'net': 5047, 'finishes': 3022, 'sing': 6568, 'resend': 6096, 'text82228': 7209, 'ringtones': 6160, 'logos': 4450, 'wwwtxt82228com': 8143, 'infotxt82228couk': 3890, 'someplace': 6698, 'firmware': 3030, 'throw': 7302, '087147123779am7pm': 106, 'slowly': 6634, '09058091854': 162, 'revealed': 6135, 'box385': 1558, 'm6': 4569, '6wu': 671, 'adewale': 888, 'aka': 972, 'egbon': 2700, 'anthony': 1076, 'bringing': 1607, 'fees': 2970, 'ufind': 7562, 'rreveal': 6206, 'specialcall': 6765, '09058094599': 171, 'student': 6945, 'books': 1524, 'bloomberg': 1494, '447797706009': 548, 'future': 3216, 'httpcareers': 3737, 'bloombergcom': 1495, 'compensation': 2046, 'viveki': 7764, '11': 270, 'peace': 5472, 'blessed': 1478, 'discussed': 2504, 'mother': 4900, 'mmm': 4839, 'roast': 6171, 'iåõd': 3999, 'strong': 6935, 'hands': 3506, 'sale': 6259, 'seem': 6369, 'loan': 4433, 'purpose': 5869, '75000': 684, 'homeowners': 3677, 'tenants': 7187, 'previously': 5763, 'refused': 6036, '1956669': 353, 'excellent': 2850, 'totes': 7438, 'suppose': 7033, 'punto': 5862, 'woulda': 8076, 'sections': 6360, 'clearer': 1962, 'nowadays': 5165, 'notixiquating': 5157, 'laxinorficated': 4298, 'bambling': 1307, 'entropication': 2775, 'oblisingately': 5214, 'opted': 5317, 'masteriastering': 4660, 'amplikater': 1033, 'fidalfication': 2984, 'champlaxigating': 1839, 'atrocious': 1205, 'wotz': 8073, 'opinion': 5308, 'junna': 4097, 'hmmmhow': 3650, 'visa': 7755, 'gucci': 3455, 'bags': 1296, 'bills': 1444, 'sha': 6437, 'kim': 4172, '86888': 758, 'subscribe6gbpmnth': 6972, '3hrs': 511, 'stoptxtstop': 6906, 'lifted': 4370, 'hopes': 3699, 'approaches': 1117, 'freeringtone': 3152, 'real1': 5973, 'pushbutton': 5872, 'dontcha': 2565, 'babygoodbye': 1282, 'golddigger': 3353, 'webeburnin': 7883, '3wk': 528, 'crying': 2225, 'building': 1655, 'imprtant': 3851, 'tomorw': 7400, 'funk': 3211, 'tones2u': 7403, 'eh': 2705, 'passport': 5448, 'sts': 6940, 'five': 3037, 'jan': 4016, 'onlydon': 5289, 'possibility': 5678, 'etc': 2804, 'nose': 5146, 'essay': 2800, 'lovly': 4512, 'dub': 2634, 'je': 4032, 'detroit': 2430, 'hack': 3483, 'backdoor': 1289, 'fraction': 3127, 'neo69': 5045, '09050280520': 158, 'subscribe': 6971, 'dps': 2589, 'bcm': 1355, '8027': 712, 'steyn': 6880, 'wicket': 7964, '600': 630, 'landmark': 4265, 'bob': 1509, 'barry': 1331, '83738': 739, 'feb': 2960, 'evn': 2835, 'evr': 2839, 'edison': 2682, 'rightly': 6152, 'wise': 7996, 'speechless': 6772, 'viva': 7762, 'gm': 3330, 'sorta': 6732, 'blown': 1497, 'weed': 7893, 'mobs': 4855, 'breathe1': 1593, 'crazyin': 2196, 'sleepingwith': 6614, 'finest': 3017, 'ymca': 8234, 'getzedcouk': 3296, 'pobox365o4w45wq': 5624, '300p': 475, 'decision': 2357, 'spoke': 6798, 'maneesha': 4631, 'satisfied': 6291, 'toll': 7390, 'hang': 3510, 'starving': 6854, 'cooked': 2126, 'opening': 5304, 'death': 2348, 'note': 5149, 'robs': 6173, 'avenge': 1246, 'reg': 6037, 'ciao': 1941, 'london': 4457, 'smashed': 6643, 'driver': 2611, 'dent': 2395, 'sth': 6881, 'specs': 6771, 'membership': 4730, 'px3748': 5881, 'computer': 2063, 'fried': 3167, 'essential': 2801, 'spares': 6759, 'looovvve': 4472, 'running': 6227, '09065171142stopsms08718727870150ppm': 211, 'nohe': 5119, 'dollars': 2555, '2years': 468, 'strain': 6917, 'dime': 2474, 'expect': 2868, 'practical': 5712, 'spell': 6777, 'guild': 3468, 'mm': 4838, 'kanji': 4118, 'heavy': 3571, 'todayfrom': 7373, 'ore': 5331, 'owo': 5381, 'wa': 7792, 'moments': 4871, 'fro': 3184, '100603': 255, '09066368753': 227, '97n7qp': 805, 'deliver': 2384, 'costs': 2151, 'risks': 6165, 'benefits': 1414, 'progress': 5812, 'continue': 2112, '08717895698': 120, 'mobstorequiz10ppm': 4857, 'gurl': 3473, 'appropriate': 1118, 'laughing': 4292, 'winning': 7991, 'tooo': 7418, 'nte': 5179, 'flaky': 3045, 'interested': 3925, 'lap': 4271, 'shut': 6535, 'hill': 3622, 'monster': 4883, 'andre': 1047, 'virgils': 7752, 'cream': 2197, 'wud': 8099, 'dessert': 2421, 'suntec': 7019, 'byatch': 1690, 'whassup': 7936, 'specify': 6770, 'domain': 2558, 'nusstu': 5194, 'gwr': 3478, 'coccooning': 1994, 'compass': 2045, 'soul': 6741, 'guide': 3467, 'loose': 4473, 'worldgnun': 8057, 'way2smscom': 7865, 'iam': 3788, 'addicted': 882, 'msging': 4927, 'oic': 5250, 'problematic': 5791, 'definite': 2371, 'recieve': 6006, 'channel': 1845, 'teletext': 7173, 'gram': 3402, 'eighth': 2707, 'smarter': 6640, 'tunji': 7523, 'doc': 2529, 'prescribed': 5745, 'posting': 5688, 'chennaibecause': 1887, 'restrictions': 6119, 'buddys': 1648, 'x89ûïharry': 8156, 'cute': 2260, 'necessary': 5027, 'helloooo': 3583, 'welcomes': 7912, 'joy': 4081, 'holding': 3666, 'sthis': 6882, 'increase': 3866, 'boo': 1519, 'enjoyin': 2761, 'yourjob': 8257, 'seemed': 6370, 'hunnyhope': 3771, 'iåõllspeak': 4000, 'soonlots': 6721, 'loveme': 4504, 'xxxx': 8178, 'jada': 4008, 'kusruthi': 4230, 'spl': 6791, 'character': 1849, 'matured': 4676, 'dealers': 2334, 'impatient': 3840, 'reboot': 5988, 'pen': 5479, 'beyond': 1428, 'biro': 1453, 'fineabsolutly': 3015, 'rob': 6172, 'mack': 4582, 'theater': 7244, 'therell': 7258, 'minor': 4799, 'shindig': 6476, 'kkim': 4193, 'amount': 1031, 'dress': 2602, 'moneyi': 4878, 'biola': 1449, 'stage': 6835, 'aha': 948, 'pouch': 5693, 'mathews': 4670, 'tait': 7100, 'edwards': 2688, 'anderson': 1045, 'madam': 4588, 'ding': 2480, 'tai': 7099, 'feng': 2976, 'reservations': 6098, 'av': 1237, 'oneta': 5282, '169': 342, '6031': 631, '10am9pm': 264, 'lou': 4493, 'lancaster': 4260, 'neway': 5060, 'couldnåõt': 2162, 'natwest': 5015, 'intelligent': 3920, 'adjustable': 890, 'cooperative': 2131, 'allows': 1001, 'pounded': 5695, 'google': 3380, 'nearby': 5025, 'cliffs': 1968, 'thx': 7314, 'cuddling': 2237, 'sleeps': 6615, 'oi': 5249, 'ami': 1024, 'parchi': 5422, 'kicchu': 4158, 'kaaj': 4106, 'korte': 4222, 'iccha': 3796, 'korche': 4219, 'tul': 7520, 'film': 3003, '2day': 428, 'europe': 2812, 'germany': 3286, 'pence': 5480, 'fixed': 3040, '0844': 56, '861': 754, '85': 745, 'prepayment': 5743, 'wwwtelediscountcouk': 8137, 'unnecessarily': 7616, 'hostile': 3710, 'siva': 6588, 'checked': 1875, 'moneyas': 4877, 'youmoney': 8251, 'thinghow': 7271, 'atm': 1204, 'hasnt': 3534, 'paranoid': 5420, 'stress': 6923, 'dorm': 2571, 'tncs': 7363, 'wwwldewcom1win150ppmx3age16': 8119, 'uh': 7565, 'heads': 3553, 'vote': 7776, 'stars': 6848, 'karaoke': 4123, 'classmates': 1956, '10803': 261, '08714719523': 109, 'box95qu': 1565, '09064018838': 206, 'cro1327': 2213, 'eightish': 2708, 'carpark': 1785, 'reverse': 6137, 'cheating': 1871, 'mathematics': 4669, 'treated': 7477, 'digi': 2470, '9pm': 813, 'fab': 2897, 'coupla': 2168, 'wks': 8017, '4d': 568, '1405': 301, '1680': 341, '1843': 347, 'kidz': 4166, 'mnths': 4846, 'tariffs': 7125, 'callback': 1718, 'sooner': 6720, 'engagement': 2754, 'fixd': 3039, 'shocking': 6495, 'bthmm': 1640, 'njan': 5103, 'vilikkamt': 7745, 'sudn': 6988, 'daal': 2270, '07734396839': 24, 'ibh': 3790, 'nokia6600': 5127, 'txtauctiontxt': 7544, 'wordstart': 8048, 'no81151': 5109, 'now4t': 5164, 'foreign': 3097, 'stamps': 6840, 'evry': 2841, 'emotion': 2737, 'dsnt': 2631, 'wordsevry': 8047, 'prayrs': 5728, 'smiled': 6649, 'uothrwise': 7627, 'uso': 7679, 'lara': 4275, '09058094594': 169, 'chuckin': 1939, 'green': 3425, 'black': 1464, 'trainners': 7457, 'carryin': 1787, 'bac': 1286, '1000call': 253, '09071512432': 233, '300603tcsbcm4235wc1n3xxcallcost150ppmmobilesvary': 474, 'famous': 2926, 'develop': 2432, 'ability': 828, 'unconditionally': 7586, 'temper': 7184, 'rajitha': 5928, 'raj': 5924, 'ranju': 5942, 'blanket': 1474, 'fowler': 3124, 'nutter': 5196, 'cutter': 2264, 'ctter': 2233, 'cttergg': 2234, 'cttargg': 2232, 'ctargg': 2230, 'ctagg': 2229, 'ie': 3811, 'forgiven': 3103, 'prasanth': 5722, 'ettans': 2808, 'passed': 5444, 'print': 5773, 'outs': 5363, 'standing': 6843, 'drivin': 2612, '80878': 717, 'wwwtxt2shopcom': 8141, '08715705022': 114, 'ducking': 2636, 'chinchillas': 1916, 'someonone': 6697, '09064015307': 203, 'box334sk38ch': 1557, '087104711148': 87, 'callin': 1727, 'bruv': 1634, 'cmon': 1984, 'horny': 3702, 'sticky': 6884, 'replies': 6082, 'pages': 5393, 'tlk': 7354, 'di': 2443, 'esaplanade': 2793, 'complain': 2049, 'num': 5185, 'onlybettr': 5288, 'bsnl': 1637, 'offc': 5228, 'lock': 4439, 'keypad': 4149, 'rest': 6114, 'ashleys': 1173, 'redred': 6021, 'bloodblood': 1491, 'heartheart': 3565, 'including': 3859, '4some1': 583, 'luvs': 4555, 'praying': 5726, 'space': 6751, 'starting': 6852, 'setting': 6420, 'outif': 5359, 'greece': 3424, 'x49': 8149, 'colourredtextcolourtxtstar': 2019, 'eurodisinc': 2811, 'trav': 7469, 'acoentry41': 863, '186å': 348, '150morefrmmob': 310, 'shracomorsglsuplt10': 6528, 'ls1': 4520, '3aj': 504, 'eight': 2706, 'waiti': 7804, 'rats': 5949, 'themes': 7248, 'elvis': 2725, 'presleys': 5751, 'ha': 3481, 'judgementali': 4089, 'fridays': 3165, 'screwd': 6339, 'wrongly': 8092, 'eviction': 2833, 'spiral': 6787, 'michael': 4773, 'riddance': 6147, 'audrie': 1225, 'lousy': 4496, 'autocorrect': 1236, 'truro': 7497, 'ext': 2885, 'genus': 3282, '2mro': 446, 'toughest': 7442, 'asus': 1196, 'randomly': 5937, 'reformat': 6033, 'tomorro': 7396, 'tunde': 7522, 'authorise': 1234, 'payment': 5466, 'anythin': 1085, 'hor': 3701, 'mondaynxt': 4875, 'completing': 2057, 'sinco': 6566, 'payee': 5464, 'icicibankcom': 3798, 'urn': 7661, 'beware': 1427, 'frauds': 3133, 'disclose': 2498, 'downloads': 2586, 'deltomorrow': 2388, '08002888812': 47, 'goodo': 3376, 'eggpotato': 2702, 'ratio': 5948, 'tortilla': 7430, 'needed': 5033, 'multimedia': 4951, 'pocay': 5629, 'wocay': 8025, '4eva': 569, '2morrowxxxx': 445, 'sez': 6432, 'arab': 1130, 'evry1': 2842, 'eshxxxxxxxxxxx': 2797, 'bridge': 1598, 'lager': 4254, 'market': 4646, 'peoples': 5485, 'shy': 6536, 'guai': 3453, 'jogging': 4060, '84128': 743, 'wwwtextcompcom': 8138, '08712405020': 99, 'sbut': 6310, 'luck2': 4537, 'catches': 1803, '08452810071': 61, 'nofew': 5118, 'beforewent': 1391, 'photoshop': 5537, 'chillaxin': 1913, 'shell': 6467, 'unconsciously': 7588, 'unhappy': 7602, 'fuckin': 3194, 'showr': 6525, 'hmv': 3656, 'genuine': 3281, 'infowww100percentrealcom': 3892, 'depressed': 2404, 'sittin': 6584, 'wind': 7982, 'drops': 2619, 'scary': 6315, 'computerless': 2064, 'oreo': 5333, 'truffles': 7495, 'magic': 4598, 'we': 7870, 'ish': 3963, 'goigng': 3347, 'perfume': 5493, 'plm': 5602, 'lido': 4358, '930': 802, '116': 276, 'engalnd': 2755, 'telly': 7178, 'mia': 4772, 'elliot': 2721, 'kissing': 4183, 'walked': 7815, 'aah': 819, 'arm': 1147, '09095350301': 240, 'erotic': 2787, 'ecstacy': 2679, 'nat': 5006, 'fifty': 2990, 'destination': 2422, 'plural': 5608, 'noun': 5160, 'finishing': 3023, 'pressies': 5754, 'gokila': 3351, 'u4': 7556, 'knickers': 4203, 'beg': 1392, '01223585236': 2, 'nikiyu4net': 5090, 'housewives': 3721, '08717507711': 117, 'btnational': 1641, 'landlines': 4264, 'ntwk': 5182, '08001950382': 46, 'call2optout674': 1711, 'anna': 1057, 'nagar': 4990, 'pongaldo': 5653, 'budget': 1649, 'gary': 3246, 'dayexcept': 2321, 'er': 2783, 'didn': 2452, 'limping': 4389, 'aa': 818, 'exhaust': 2861, 'hanging': 3512, '1s': 369, 'jamster': 4012, 'videosound': 7738, 'gold': 3352, 'videosounds2': 7739, 'logosmusicnews': 4451, 'jamstercouk': 4013, '09701213186': 246, 'tiring': 7340, 'modules': 4864, 'concentrating': 2069, 'wear': 7875, 'shirts': 6483, 'jumpers': 4094, 'hat': 3536, 'belt': 1409, 'cribbs': 2208, 'eachother': 2656, 'broke': 1617, 'nobodys': 5115, 'sarcastic': 6282, 'faggy': 2906, 'hahahause': 3487, 'brain': 1575, 'cbe': 1812, 'nowadayslot': 5166, 'showroomscity': 6526, 'shaping': 6455, 'rich': 6146, 'vitamin': 7761, 'tog': 7379, 'qet': 5886, 'dare': 2297, 'alibi': 992, 'cutting': 2265, 'wan2': 7828, 'meetgreet': 4710, 'westlife': 7928, 'm8': 4570, '1unbreakable': 375, '2untamed': 463, '3unkempt': 525, '83049': 728, 'bhaskar': 1432, 'asleep': 1184, 'soooo': 6723, 'omg': 5274, 'provider': 5837, 'tming': 7356, 'ride': 6149, 'crashing': 2191, 'yeesh': 8203, 'tip': 7338, '10th': 269, '09050000555': 150, 'ba128nnfwfly150ppm': 1274, '88039': 769, 'skilgme': 6596, 'tscs08714740323': 7507, '1winawk': 377, 'age16': 934, '150perweeksub': 314, 'ashley': 1172, 'luckily': 4538, 'starring': 6847, 'sry': 6825, 'enters': 2768, 'flat': 3048, 'transfered': 7463, 'removed': 6069, 'banks': 1314, 'differ': 2462, 'differbe': 2463, 'pdatenow': 5471, 'call2optoutyhl': 1717, 'itll': 3980, 'tough': 7441, 'buzzzz': 1685, 'chest': 1893, 'cock': 1996, 'vibrator': 7732, 'shake': 6445, 'xclusiveclubsaisai': 8165, '285': 418, 'soiree': 6685, 'speciale': 6766, 'zouk': 8287, 'parisfree': 5427, 'roses': 6195, 'info': 3884, '0794674629107880867867': 37, 'films': 3004, '449071512431': 552, 'annoncement': 1060, '07046744435': 18, 'exactly': 2847, 'jide': 4052, 'visiting': 7758, 'schedule': 6319, 'lk': 4423, 'ithis': 3975, 'created': 2198, 'web': 7880, 'wwwasjesuscom': 8106, 'wrote': 8094, 'falling': 2921, 'force': 3094, 'smeone': 6646, 'bothering': 1540, 'def': 2368, 'hmmmstill': 3653, 'opener': 5302, 'cutie': 2263, 'wales': 7811, 'hills': 3623, 'hooch': 3688, 'toaday': 7365, 'fell': 2972, 'splat': 6793, 'grazed': 3417, 'smash': 6642, 'bros': 1620, 'religiously': 6054, 'daddy': 2275, 'wewa': 7934, '130': 297, 'iriver': 3954, '255': 408, '128': 291, 'mb': 4686, 'yogasana': 8237, 'requirements': 6092, 'thangamits': 7224, '08712402779': 96, 'ignorant': 3816, 'kkadvance': 4187, 'pongal': 5652, '2mrw': 447, 'ninish': 5094, 'icky': 3799, 'freek': 3144, 'jen': 4037, 'finns': 3025, 'aathiwhere': 823, 'accidentally': 850, 'archive': 1133, 'haiz': 3493, 'reaching': 5963, 'vava': 7713, 'restock': 6116, '08712402050': 94, 'lines': 4394, '10ppm': 268, 'ag': 929, 'promo': 5821, 'algarve': 987, 'deduct': 2365, 'pity': 5569, 'soany': 6678, 'suggestions': 6999, 'lit': 4413, 'fire': 3026, 'invitation': 3939, 'apologise': 1099, 'cali': 1704, 'blokes': 1488, 'weddin': 7887, 'ordered': 5330, 'delivered': 2385, 'sufficient': 6993, 'slower': 6632, 'faster': 2939, 'maniac': 4634, 'therere': 7259, '08712103738': 89, 'jackson': 4006, 'rec': 5990, '7ish': 693, 'captain': 1760, 'vijaykanth': 7742, 'comedy': 2025, 'tvhe': 7530, 'drunken': 2627, '4goten': 574, 'scammers': 6312, 'smartthough': 6641, 'regular': 6045, 'vodafone': 7768, 'prem': 5736, 'msgsubscription': 4933, 'iz': 3997, 'yellow': 8206, 'misscall': 4818, 'frndz': 3182, '6missed': 665, 'chief': 1899, 'bell': 1403, 'royal': 6202, 'june': 4095, '8am': 790, 'justbeen': 4100, 'overa': 5368, 'brains': 1577, 'mush': 4969, 'fit': 3035, 'shant': 6454, 'jia': 4050, 'relaxing': 6050, '7am': 690, '5ish': 615, 'alls': 1002, 'pull': 5855, 'derek': 2408, 'taylors': 7142, 'sonot': 6715, 'conveying': 2121, 'ese': 2796, 'twins': 7538, 'mega': 4716, 'asda': 1170, 'counts': 2167, 'celebration': 1824, 'result': 6123, 'thnx': 7285, '09066362231': 222, '07xxxxxxxxx': 39, 'galileo': 3229, 'lul': 4545, 'gossip': 3384, 'nurses': 5191, 'obese': 5212, 'oyea': 5382, 'flying': 3072, 'monkeys': 4880, 'marvel': 4655, 'ultimate': 7575, 'spiderman': 6783, 'spider': 6782, '83338': 733, '8ball': 792, 'wallpaper': 7821, 'trained': 7455, 'advisors': 910, 'dialling': 2445, '402': 535, 'kit': 4184, 'strip': 6931, 'netcollex': 5048, '1013': 258, 'ig11': 3815, 'oja': 5252, 'goodenvironment': 3365, 'terrific': 7198, 'garage': 3241, 'bookshelf': 1525, '09066660100': 232, '2309': 398, 'konw': 4218, 'waht': 7801, 'rael': 5916, 'gving': 3477, 'yuo': 8275, 'exmpel': 2864, 'jsut': 4087, 'tihs': 7322, 'evrey': 2840, 'splleing': 6796, 'wrnog': 8090, 'sitll': 6583, 'raed': 5915, 'wihtuot': 7974, 'ayn': 1266, 'mitsake': 4830, 'sleepsweet': 6616, 'pubs': 5853, 'frankie': 3130, 'bennys': 1415, 'warner': 7839, 'harri': 3531, 'shopthe': 6502, 'pleasant': 5596, 'statements': 6858, 'cashbincouk': 1795, 'wwwcashbincouk': 8109, 'locks': 4440, 'key': 4148, 'jenne': 4038, 'goodnite': 3373, 'gailxx': 3224, 'steam': 6869, 'salespee': 6262, 'eventually': 2821, 'build': 1654, 'tolerance': 7389, 'considering': 2099, 'smokes': 6657, 'fucked': 3193, 'hits': 3636, 'prashanthettans': 5723, 'swollen': 7074, 'glands': 3322, 'yun': 8273, 'ahthe': 957, 'ubi': 7559, 'tomorrowcall': 7398, '67441233': 646, 'ireneere': 3953, 'bus822656166382': 1670, 'cresubi': 2207, 'tech': 7164, 'park6ph': 5429, '5wkg': 628, 'daysì': 2325, 'hostbased': 3708, 'idps': 3809, 'linux': 4399, 'systems': 7086, '2stoptxt': 461, 'companion': 2042, 'chef': 1885, 'listener': 4409, 'organizer': 5336, 'boyfriend': 1569, 'clean': 1958, 'sympathetic': 7081, 'athletic': 1199, 'courageous': 2171, 'determined': 2429, 'dependable': 2400, 'psychologist': 5846, 'pest': 5511, 'exterminator': 2886, 'psychiatrist': 5844, 'healer': 3556, 'stylist': 6963, 'aaniye': 820, 'pudunga': 5854, 'venaam': 7721, 'sparkling': 6761, 'breaks': 1590, '45': 553, '0121': 1, '2025050': 387, 'wwwshortbreaksorguk': 8129, 'needy': 5037, '08719181503': 142, 'mids': 4777, 'teeth': 7167, 'hidden': 3616, 'jon': 4074, 'bin': 1448, 'spain': 6755, 'sum': 7004, 'dinero': 2479, 'åôrents': 8291, '12000pes': 282, '48': 562, 'tb': 7144, 'response': 6110, 'powerful': 5701, 'weapon': 7874, 'wwwldewcom': 8118, 'win150ppmx3age16': 7981, 'slob': 6628, 'prometazine': 5816, 'syrup': 7084, '5mls': 619, 'feed': 2964, 'headset': 3554, 'adp': 899, 'beach': 1365, 'expected': 2869, 'lighters': 4373, 'maggi': 4597, 'mee': 4708, 'mentionned': 4740, 'chinese': 1917, '12mths': 294, '400minscall': 534, 'call2optoutj5q': 1714, 'thout': 7295, 'neighbors': 5044, 'physics': 5540, 'feels': 2969, 'beth': 1423, 'charlie': 1855, 'helen': 3577, '087187272008': 130, 'now1': 5163, 'theoretically': 7254, '08712402578': 95, 'messagesome': 4760, 'sendername': 6394, 'sentdate': 6403, 'shanilrakhesh': 6453, 'herethanksi': 3595, 'exchanged': 2852, 'uncut': 7591, 'diamond': 2446, 'stuffleaving': 6954, 'dino': 2482, 'sexiest': 6428, 'dirtiest': 2490, '89070': 782, 'technical': 7165, 'associate': 1190, 'httpwwwwtlpcouktext': 3748, 'continent': 2111, 'kaiez': 4108, 'tuition': 7519, 'gee': 3267, 'option': 5320, 'beta': 1422, 'msgsometext': 4932, 'tylers': 7551, 'crisis': 2212, 'lyricalladie21f': 4563, 'yes910': 8217, 'no910': 5111, 'wwwsmsacuhmmross': 8132, 'waliking': 7812, 'cheesy': 1884, 'frosty': 3189, 'snowman': 6676, 'concerned': 2072, 'mushy': 4970, 'embarrassed': 2731, 'grumble': 3446, 'meetin': 4711, 'fetch': 2977, 'phasing': 5521, 'fourth': 3122, 'dimension': 2475, 'brah': 1574, 'exams': 2849, 'conacted': 2067, 'youto': 8260, '09111030116': 244, 'pobox12n146tf15': 5619, 'nobut': 5116, 'ericsson': 2785, 'salesman': 6261, 'sundayish': 7013, 'didt': 2455, 'youkwhere': 8248, 'enc': 2742, 'warwick': 7842, 'weve': 7933, 'tmw': 7361, 'canceled': 1747, '10am': 262, '8pm': 796, 'thurs': 7311, 'bears': 1367, 'nick': 5077, 'types': 7554, 'dentists': 2397, 'flood': 3061, 'dips': 2485, 'hmmmkbut': 3651, 'field': 2985, 'quickly': 5900, 'administrator': 892, 'significant': 6549, 'clear': 1960, 'copies': 2133, 'leads': 4310, 'easily': 2667, 'forgets': 3101, 'scraped': 6331, 'barrel': 1329, 'misfits': 4814, 'outhave': 5358, 'gravity': 3414, 'carefully': 1772, 'andrewsboy': 1049, 'answerin': 1071, 'reasonable': 5984, 'sleepy': 6618, 'folks': 3077, '150psms': 329, 'bsn': 1636, 'advising': 909, 'bootydelious': 1529, '32f': 488, 'yes434': 8214, 'no434': 5106, 'wwwsmsacubootydelious': 8130, 'eldest': 2718, 'literally': 4414, 'ne': 5023, 'wrking': 8087, 'langport': 4267, 'go2sri': 3337, 'lanka': 4269, 'jordan': 4076, '88600': 775, 'celeb': 1820, 'pocketbabecouk': 5631, '087016248': 70, '07801543489': 30, 'latests': 4288, 'wordcollect': 8044, 'no83355': 5110, 'tcllc': 7147, 'nyusa': 5206, '150pmt': 322, 'msgrcvd18': 4928, 'payback': 5462, 'jos': 4079, 'vomitin': 7774, 'goodmate': 3369, 'sary': 6285, 'asusual1': 1197, 'cheered': 1881, 'franyxxxxx': 3132, 'prakesh': 5720, 'affidavit': 918, 'twiggs': 7536, 'division': 2517, 'courtroom': 2174, 'ilol': 3826, 'personally': 5506, 'wuldnt': 8101, 'enufcredeit': 2777, 'tocallshall': 7368, 'ileave': 3823, 'dump': 2643, 'heap': 3558, 'lowes': 4516, 'drinkpa': 2608, 'srs': 6822, 'begging': 1393, 'waaaat': 7794, 'lololo': 4455, 'bar': 1319, 'uv': 7689, 'causes': 1808, 'mutations': 4976, 'sunscreen': 7017, 'thesedays': 7262, '150pmeg': 317, '087123002209am7pm': 91, 'jetton': 4046, 'hrishi': 3732, 'partys': 5441, 'contribute': 2115, 'greatly': 3423, '125': 288, 'freeentry': 3142, 'xt': 8171, 'somewhr': 6709, 'crushes': 2223, 'en': 2740, 'nange': 5000, 'bakra': 1301, 'kalstiyathen': 4114, 'teacoffee': 7157, 'goods': 3377, '8000930705': 703, '100000': 252, 'jackpot': 4005, '81010': 718, 'wwwdbuknet': 8113, 'lccltd': 4303, '4403ldnw1a7rw18': 547, 'openin': 5303, 'formal': 3106, 'tt': 7512, 'puttin': 5877, 'weighthaha': 7904, 'topped': 7425, 'httpwwwbubbletextcom': 3743, 'renewal': 6070, 'tgxxrz': 7220, 'fink': 3024, '09099726553': 243, 'promised': 5819, 'carlie': 1779, 'callså': 1733, '1minmobsmore': 365, 'lkpobox177hp51fl': 4424, 'thesmszonecom': 7264, 'anonymous': 1064, 'masked': 4658, 'messagesim': 4759, 'theredo': 7257, 'abuse': 840, '09053750005': 159, '310303': 481, '08718725756': 124, '140ppm': 302, 'brisk': 1609, 'walks': 7818, 'dearly': 2342, '2p': 456, '08448350055': 57, 'planettalkinstantcom': 5580, 'ts': 7505, 'gopalettan': 3381, 'participate': 5434, 'admin': 891, 'firsg': 3031, 'rounderso': 6197, 'required': 6091, 'clearly': 1964, 'begun': 1396, 'registration': 6043, 'permanent': 5496, 'residency': 6103, 'shu': 6531, 'singapore': 6569, 'hook': 3690, '08708800282': 83, 'welp': 7917, 'messagethanks': 4762, '150pmsgrcvd': 320, 'skip': 6600, 'customercare': 2256, 'swhrt': 7069, 'deyhope': 2438, '2daylove': 429, 'misstake': 4823, 'becausethey': 1375, '09058098002': 176, 'pobox1': 5617, 'w14rg': 7786, 'waythis': 7866, 'uniquei': 7607, 'mylife': 4979, 'belligerent': 1404, 'himthen': 3626, 'bunkers': 1659, 'peaceful': 5473, 'errors': 2789, 'difficulties': 2468, 'correction': 2142, 'melody': 4726, 'white': 7956, 'fudge': 3198, 'oreos': 5334, 'stores': 6910, 'realize': 5977, 'gn': 3333, 'chatim': 1864, 'w8in': 7791, '4utxt': 591, 'tightly': 7321, 'window': 7983, 'propose': 5830, 'seing': 6377, 'funky': 3212, 'faceasssssholeeee': 2900, 'betta': 1424, 'invest': 3938, 'anti': 1077, 'aging': 942, 'products': 5805, 'ooooooh': 5298, 'yoville': 8265, '09061702893': 187, 'buyer': 1680, 'melike': 4723, 'bb': 1348, 'seconds': 6353, 'warning': 7840, 'samantha': 6268, 'guitar': 3470, 'impress': 3846, 'doug': 2582, 'realizes': 5979, 'jay': 4025, 'buyers': 1681, 'wamma': 7826, 'laidwant': 4256, 'doggin': 2543, 'locations': 4438, 'largest': 4278, 'dogs': 2546, '69696': 651, 'nownyt': 5169, 'ec2a': 2676, '3lp': 513, '150msg': 311, 'salon': 6264, 'adding': 884, 'zeros': 8283, 'savings': 6303, 'art': 1163, 'grooved': 3435, 'jolly': 4072, 'wikipediacom': 7975, 'maps': 4640, 'chop': 1929, 'recharge': 6003, 'loo': 4463, 'helloed': 3582, 'splash': 6792, 'hon': 3679, 'doinat': 2549, 'timings': 7337, 'belongs': 1406, 'herwho': 3602, 'fated': 2943, 'shoranur': 6504, 'fuelled': 3199, 'concern': 2071, 'prior': 5777, 'grief': 3430, 'chain': 1836, 'violence': 7749, 'misundrstud': 4828, 'hate': 3537, 'tahan': 7098, 'anot': 1065, 'jerk': 4041, 'cooking': 2128, 'jjc': 4054, 'tendencies': 7188, 'vivek': 7763, 'deam': 2337, 'moon': 4889, 'musical': 4972, 'fundamentals': 3209, 'hire': 3630, 'hitman': 3635, 'checkmate': 1878, 'chess': 1892, 'persian': 5501, 'phrase': 5539, 'shah': 6442, 'maat': 4575, 'restrict': 6118, 'eating': 2674, 'likes': 4379, 'northampton': 5144, 'skyving': 6606, 'premier': 5738, 'aaooooright': 821, '4882': 563, '09064019014': 207, 'arguing': 1142, 'gam': 3232, 'innings': 3901, 'british': 1612, 'hotels': 3713, '02072069400': 9, 'bx': 1687, '526': 603, 'sw73ss': 7053, '49557': 565, '261104': 412, 'ayo': 1267, 'travelled': 7472, 'polyphonic': 5649, 'pobox202': 5621, 'nr31': 5176, '7zs': 701, '450pw': 556, 'blessings': 1481, 'gobi': 3340, 'beneath': 1412, 'pale': 5400, 'gosh': 3383, 'spose': 6803, 'lobby': 4435, 'submitting': 6968, 'papers': 5413, 'hyde': 3786, 'mel': 4722, 'opps': 5315, 'confused': 2087, 'tts': 7513, 'funeral': 3210, 'audrey': 1223, 'sliding': 6623, 'invite': 3940, 'radio': 5914, 'jade': 4009, 'paul': 5458, 'didnåõt': 2454, 'barmed': 1326, 'sorryi': 6730, 'recognise': 6008, '08719181259': 141, 'xxxxx': 8179, '260305': 411, 'ownyouve': 5380, 'tank': 7121, 'stressed': 6924, 'signing': 6551, 'taylor': 7141, 'walmart': 7824, 'mouse': 4908, 'desk': 2416, 'covers': 2178, 'tons': 7413, 'paypal': 5469, 'voila': 7772, 'pockets': 5632, 'slightly': 6624, 'disastrous': 2496, 'fav': 2951, 'wld': 8019, 'mary': 4656, 'jane': 4018, 'ga': 3222, 'sickness': 6542, 'breather': 1594, 'granted': 3410, 'fulfil': 3202, 'north': 5143, 'carolina': 1783, 'texas': 7207, 'gre': 3418, 'uawakefeellikw': 7557, 'shitjustfound': 6487, 'aletter': 983, 'thatmum': 7237, 'gotmarried': 3387, '4thnovbehind': 587, 'ourbacks': 5351, 'åð': 8288, 'fuckinniceselfish': 3196, 'rs5': 6208, 'wasted': 7848, 'chiong': 1919, 'meat': 4700, 'lovers': 4508, 'supreme': 7035, 'canteen': 1756, '85233': 750, 'freeringtonereply': 3153, 'hide': 3617, 'anythiing': 1084, 'distance': 2511, 'xins': 8167, 'manageable': 4623, 'laid': 4255, 'gravel': 3413, '69888': 656, '31pmsg150p': 483, 'lim': 4384, 'whether': 7952, '12price': 295, 'xnet': 8169, 'mins100txtmth': 4801, 'btooth': 1643, '2optoutd3wv': 455, '3miles': 515, 'losers': 4479, 'fireplace': 3029, 'icon': 3800, '2marrow': 440, 'romcapspam': 6185, 'presence': 5748, 'outgoing': 5357, 'breath': 1591, 'clarification': 1949, 'taxi': 7138, 'ing': 3895, '5226': 602, 'hava': 3542, '1131': 273, '09061743810': 190, '326': 487, 'loti': 4485, 'eggs': 2703, 'againloving': 931, 'sayy': 6309, 'nowi': 5168, 'candont': 1750, 'challenge': 1837, 'fren': 3156, 'drove': 2620, 'audreys': 1224, 'status': 6860, 'taken': 7103, 'teresa': 7192, 'received': 5997, 'dec': 2350, 'thot': 7288, 'yould': 8249, 'bam': 1306, 'aid': 959, 'usmle': 7677, 'bat': 1339, 'evenings': 2819, 'delay': 2379, 'jurong': 4098, 'buffet': 1651, 'amore': 1030, 'view': 7740, 'gays': 3254, 'happiest': 3521, 'characters': 1850, 'differences': 2465, 'luton': 4551, '0125698789': 4, 'dehydrated': 2376, 'dine': 2477, 'romantic': 6184, 'scenery': 6317, 'loosu': 4475, 'careless': 1774, 'acknowledgement': 861, 'astoundingly': 1194, 'tactless': 7096, 'generally': 3274, 'blood': 1490, 'oath': 5210, 'fo': 3075, 'cabin': 1696, 'receiving': 5998, 'triple': 7484, 'echo': 2677, 'shortly': 6511, 'tex': 7206, 'mecause': 4702, 'werebored': 7923, 'okden': 5256, 'hunny': 3770, 'uin': 7568, 'satsoundåõs': 6295, 'likeyour': 4380, 'havin': 3546, 'gr8fun': 3396, 'updat': 7631, 'countinlots': 2165, 'secretly': 6356, 'fancies': 2928, '09065394973': 213, 'datebox1282essexcm61xn': 2309, '150pmin': 318, 'strict': 6928, 'teacher': 7154, 'teaches': 7155, 'conducts': 2077, 'exam': 2848, 'desparate': 2417, 'recorded': 6011, 'messaged': 4753, 'highest': 3620, '54': 607, 'maximum': 4681, '71': 674, 'bids': 1436, '83383': 736, 'aww': 1261, 'nearly': 5026, 'deadwell': 2331, 'jez': 4048, 'todo': 7378, 'workand': 8050, 'whilltake': 7954, 'wwwtcbiz': 8136, 'polo': 5643, '373': 498, 'w1j': 7788, '6hl': 661, 'dats': 2313, 'woul': 8074, 'lead': 4307, 'curfew': 2245, 'gibe': 3301, 'getsleep': 3292, 'studdying': 6944, 'ear': 2657, 'training': 7456, 'xafter': 8161, 'cst': 2227, 'chg': 1895, 'situations': 6587, 'loosing': 4474, 'rubber': 6215, 'coolmob': 2130, 'frogaxel': 3186, 'akonlonely': 973, 'eyeddont': 2893, 'nuerologist': 5184, 'borrow': 1535, 'hourish': 3716, 'soo': 6718, 'donåõt': 2567, 'threats': 7297, 'sales': 6260, 'shifad': 6472, 'raised': 5923, 'reunion': 6133, 'wknd': 8016, 'yeshe': 8221, 'greatbhaji': 3420, 'cricketer': 2209, 'sachin': 6240, 'worldvery': 8060, 'ball': 1303, 'moving': 4916, 'lotwill': 4491, 'spin': 6785, 'torrents': 7429, 'particularly': 5436, 'legal': 4324, 'slowing': 6633, 'brought': 1625, 'spare': 6758, 'supplies': 7028, 'switch': 7073, 'sian': 6538, 'ummmawill': 7579, 'inour': 3904, 'deus': 2431, 'panic': 5406, 'surrender': 7045, 'freephone': 3151, '542': 608, '0578': 15, 'honesty': 3681, 'decisions': 2358, 'deary': 2347, 'resubbing': 6122, 'galcan': 3228, 'boyy': 1572, 'galno': 3230, 'heaven': 3569, 'princegn': 5771, 'arr': 1156, 'oscar': 5343, '09061749602': 193, '528': 604, 'hp20': 3729, '1yf': 379, 'stressfull': 6925, 'adds': 887, 'avoid': 1250, 'missunderstding': 4824, 'relieved': 6053, 'westonzoyland': 7929, 'reserves': 6101, '88066': 771, '3pound': 519, 'callon': 1730, 'matthew': 4675, '09063440451': 197, '4lux': 577, 'ppm150': 5706, 'box334': 1556, 'filthy': 3006, 'stories': 6911, 'gua': 3452, 'mt': 4939, 'faber': 2898, 'yest': 8225, 'textsweekend': 7219, 'orno': 5338, 'dropped': 2618, 'stairs': 6836, 'phews': 5523, 'explicitly': 2880, 'nora': 5137, 'railway': 5919, 'corporation': 2139, 'gap': 3239, 'shock': 6494, 'reaction': 5965, 'babyhope': 1283, 'urfeeling': 7651, 'bettersn': 1426, 'probthat': 5798, 'overdose': 5369, 'lovejen': 4502, 'police': 5641, 'toilet': 7382, 'stolen': 6893, 'cops': 2135, 'karnan': 4124, '0825': 55, 'letters': 4347, 'x89ûªm': 8154, 'isn': 3966, 'x89ûªt': 8155, 'babes': 1278, '5iåõm': 616, 'knackered': 4200, 'dreading': 2597, 'thou': 7289, 'kindly': 4175, 'buffy': 1652, 'satisfy': 6292, 'randy': 5938, 'qlynnbv': 5889, 'help08700621170150p': 3586, 'knock': 4204, 'whose': 7961, 'wwwtklscom': 8140, 'stoptxtstopå': 6907, '150week': 335, 'shot': 6512, 'describe': 2411, 'salmon': 6263, 'ingredients': 3896, 'crammed': 2187, 'earlier': 2658, 'efficient': 2695, 'sumthinxx': 7010, 'packing': 5389, 'corect': 2137, 'speling': 6776, 'sarcasm': 6281, 'hanks': 3513, 'lotsly': 4488, 'watts': 7862, 'yetunde': 8229, 'forgive': 3102, 'kvb': 4231, 'sdryb8i': 6343, 'oclock': 5223, 'bash': 1333, 'knowhe': 4207, 'spys': 6816, 'mails': 4608, 'lasting': 4281, 'iouri': 3945, 'kaila': 4109, 'slots': 6629, 'healthy': 3557, 'unconvinced': 7589, 'elaborate': 2713, 'willpower': 7979, 'staff': 6833, 'placement': 5575, 'amrita': 1035, 'ree': 6023, 'stereo': 6875, 'mi': 4771, 'unknown': 7611, 'album': 978, 'elsewhere': 2724, '447801259231': 549, '09058094597': 170, 'fondly': 3082, 'bein': 1400, '1month': 367, 'smartcall': 6639, '68866': 647, 'subscriptn3gbpwk': 6978, '08448714184': 58, 'stoptxt': 6905, 'landlineonly': 4263, 'prabhaim': 5709, 'sorydarealyfrm': 6738, 'sory': 6737, 'tight': 7320, 'stalking': 6838, 'crickiting': 2210, 'ohas': 5247, 'usc': 7665, 'portal': 5669, 'everyso': 2830, 'often': 5243, 'panicks': 5407, 'stayin': 6863, 'strangersaw': 6920, 'heåõs': 3611, 'nowstill': 5173, 'bloke': 1487, 'mrur': 4923, '2getha': 433, 'coping': 2134, 'welli': 7914, 'blakes': 1470, 'occurs': 5221, 'fix': 3038, 'ew': 2844, 'decades': 2351, 'cheaper': 1869, 'petrol': 5516, 'goverment': 3391, 'expects': 2871, 'grab': 3398, 'professional': 5806, 'tiger': 7319, 'woods': 8038, 'bw': 1686, 'skillgame1winaweek': 6598, 'age16150ppermesssubscription': 935, 'kills': 4170, 'buttons': 1678, 'julianaland': 4091, 'oblivious': 5215, 'upsetits': 7645, 'ache': 858, '09058094455': 165, 'image': 3829, 'painhope': 5397, 'awww': 1262, 'missin': 4820, 'guilty': 3469, 'bitch': 1459, 'laready': 4276, 'kkyesterday': 4198, 'snickering': 6671, 'chords': 1930, 'cloud': 1977, 'river': 6167, 'textbuddy': 7212, 'gaytextbuddycom': 3255, '89693': 788, '08715500022': 113, 'rpl': 6203, 'cnl': 1986, 'cardiff': 1764, 'radiator': 5913, 'call2optout4qf2': 1710, 'rr': 6205, 'soz': 6749, 'imat': 3833, '2moro': 441, '430': 545, 'tease': 7162, 'poo': 5655, 'ignoring': 3818, 'sorts': 6736, 'yavnt': 8193, 'typical': 7555, 'becz': 1379, 'undrstndng': 7598, 'avoids': 1252, 'suffer': 6990, 'whn': 7957, 'lindsay': 4390, 'sighs': 6545, 'bars': 1332, 'ptbo': 5848, 'heron': 3600, 'stillmaybe': 6888, 'sameso': 6270, 'itor': 3984, 'admiti': 896, 'madthen': 4594, 'correctionor': 2143, 'lifeand': 4362, 'worldmay': 8058, 'runninglets': 6228, 'auntys': 1232, 'dual': 2633, 'mag': 4595, 're': 5959, '24th': 404, 'babesozi': 1279, 'culdnt': 2238, 'talkbut': 7111, 'wannatell': 7830, 'wenwecan': 7920, 'chatting': 1867, 'swell': 7068, '020903': 12, '08718729755': 132, 'chicken': 1898, 'broth': 1621, 'ramen': 5933, 'heavily': 3570, '6230': 638, 'pobox11414tcrw1': 5618, 'rude': 6216, '01223585334': 3, '2c': 426, 'shagged': 6441, '8552': 751, '2end': 430, 'goodfine': 3366, 'toopray': 7419, 'inshah': 3910, 'motherfucker': 4901, 'textand': 7210, '08002988890': 50, 'ax': 1263, 'aslamalaikkuminsha': 1183, 'tohar': 7381, 'beeen': 1384, 'muht': 4950, 'albi': 977, 'mufti': 4948, 'mahfuuzmeaning': 4603, 'fridge': 3166, 'angels': 1051, 'snowball': 6675, 'fights': 2994, 'ac': 842, 'blind': 1483, 'rodds1': 6177, '21m': 394, 'aberdeen': 826, 'united': 7608, 'kingdom': 4177, 'httpimg': 3740, 'acwicmb3cktz8r74': 877, '09061701939': 186, 's89': 6238, 'thatnow': 7238, 'grandmas': 3408, 'hungover': 3766, 'learned': 4315, 'fake': 2915, 'iron': 3955, 'kkapo': 4188, 'kgood': 4155, 'secured': 6362, 'unsecured': 7620, '195': 352, '6669': 645, 'dobbys': 2528, '09061790126': 196, 'capital': 1759, 'unbelievable': 7582, 'faglord': 2907, 'process': 5799, 'aunty': 1231, 'gifts': 3304, 'cliff': 1967, 'cruisin': 2222, 'alertfrom': 981, 'jeri': 4040, 'stewartsize': 6879, '2kbsubject': 439, 'lowcost': 4514, 'prescripiton': 5746, 'drvgsto': 2628, 'evaporated': 2813, 'violated': 7748, 'privacy': 5780, 'stealing': 6868, 'employers': 2738, 'innocent': 3902, 'plate': 5584, 'leftovers': 4323, 'painit': 5398, 'todaydo': 7372, 'ystrdayice': 8270, 'february': 2962, 'freemsgfav': 3148, 'tonesreply': 7405, 'explicit': 2879, '30': 471, 'secs': 6358, '02073162414': 10, '20pmin': 390, 'gsex': 3449, '2667': 413, 'wc1n': 7868, '3xx': 530, 'costumes': 2153, 'yowifes': 8266, 'straight': 6916, 'dogg': 2542, 'modelsony': 4861, 'ericson': 2784, 'der': 2407, 'luks': 4544, 'modl': 4862, 'passthey': 5449, 'silently': 6555, 'ntswt': 5180, 'drms': 2615, 'shesil': 6471, 'length': 4332, 'fringe': 3175, 'distract': 2512, 'voucherstext': 7780, 'nowsavamobmember': 5170, '07008009200': 17, 'bani': 1312, 'shanghai': 6452, 'instead': 3917, 'cya': 2268, 'gep': 3284, 'alexs': 985, 'turned': 7526, 'avo': 1249, 'reache': 5961, 'corvettes': 2146, 'lately': 4284, 'choices': 1926, 'toss': 7434, 'coin': 2003, 'settle': 6422, 'gudni8': 3458, 'expert': 2875, 'yettys': 8228, 'easiest': 2666, 'barcelona': 1321, 'lo': 4430, 'andros': 1050, 'monkey': 4879, 'asshole': 1188, 'deserve': 2413, '2hrs': 437, 'noice': 5121, 'airtel': 965, 'batch': 1340, 'wwwgambtv': 8115, 'santha': 6275, 'corrct': 2140, 'dane': 2291, 'fring': 3174, 'gudnitetcpractice': 3459, '09058095201': 173, 'everyday': 2828, 'fatty': 2947, 'legs': 4326, 'amigos': 1025, 'burn': 1665, 'commit': 2037, 'tmrw': 7360, 'afternon': 925, 'interviews': 3932, 'table': 7089, 'cleared': 1961, 'birla': 1452, 'soft': 6682, 'pierre': 5555, 'cardin': 1765, 'cook': 2125, 'ngage': 5069, 'deck': 2359, 'wwwcnupdatescomnewsletter': 8111, 'alerts': 982, 'wee': 7892, 'wifehow': 7971, 'murder': 4965, 'satanic': 6288, 'imposter': 3845, 'meneed': 4736, 'priceso': 5767, 'itmay': 3981, 'destiny': 2423, 'simpler': 6561, 'magical': 4599, 'kfc': 4152, 'meals': 4691, 'gravy': 3415, 'upping': 7641, 'grams': 3403, 'cried': 2211, 'spunout': 6815, 'wrld': 8089, 'changes': 1844, 'previous': 5762, 'timeslil': 7331, 'busyi': 1675, 'okies': 5259, 'blah': 1469, 'clever': 1965, 'guesses': 3463, 'attach': 1206, 'chitchat': 1921, 'logon': 4448, '8883': 777, 'cm': 1982, '4217': 543, 'w1a': 7787, '6zf': 672, '118pmsg': 278, '32000': 484, 'legitimat': 4325, 'efreefone': 2696, 'friendships': 3173, 'grow': 3440, 'shoes': 6496, 'okok': 5261, 'okthenwhats': 5264, 'tension': 7191, 'ahwhat': 958, 'machiany': 4580, 'timin': 7335, 'lodge': 4441, 'zoom': 8286, 'joanna': 4055, 'dudette': 2639, 'uncountable': 7590, 'pieces': 5554, 'stu': 6941, '2im': 438, 'truble': 7491, 'evone': 2838, 'hates': 3538, 'dan': 2285, '5p': 621, 'pisces': 5566, 'aquarius': 1128, 'appy': 1124, 'fizz': 3042, 'contains': 2106, 'causing': 1809, 'embarassed': 2729, 'accomodations': 853, 'cave': 1810, 'offered': 5232, 'embarassing': 2730, 'blur': 1504, 'muhommad': 4949, 'penny': 5483, 'avalarr': 1243, 'hollalater': 3671, 'senthilhsbc': 6406, 'boston': 1537, 'location': 4437, 'nyc': 5202, 'signin': 6550, 'ahhh': 951, 'vaguely': 7694, 'handsome': 3508, 'finding': 3012, '0089my': 0, 'digits': 2472, '09063442151': 198, 'treats': 7478, 'released': 6051, 'wi': 7962, 'nz': 5207, 'unsold': 7621, 'chk': 1922, 'ms': 4924, 'dict': 2449, 'allowed': 1000, 'receipts': 5994, 'x89ûówell': 8158, 'what': 7937, 'university': 7610, 'florida': 3064, 'miles': 4781, 'keeps': 4137, '22': 396, '146tf150p': 305, 'harder': 3527, 'nbme': 5021, 'nanny': 5001, 'raise': 5922, 'rounds': 6198, 'todaybut': 7371, 'call09050000327': 1709, 'gained': 3226, 'kg': 4153, 'pressure': 5755, 'limits': 4388, '08719899230': 146, '41685': 540, '071104': 21, 'pattern': 5456, 'emerging': 2734, 'fiendmake': 2987, 'muchimpede': 4946, 'hesitant': 3605, 'weåõve': 7935, '2geva': 434, 'mint': 4804, 'uxxxx': 7692, 'woah': 8024, 'realising': 5975, 'ello': 2722, 'somewhat': 6706, 'event': 2820, 'laden': 4248, 'wrecked': 8082, 'six': 6590, 'thread': 7296, 'chikkudb': 1904, 'stops': 6904, 'bits': 1463, 'southern': 6747, 'sells': 6387, 'thkin': 7282, 'resolution': 6105, 'replybe': 6084, 'frankgood': 3129, 'ijust': 3819, 'talked': 7112, 'realise': 5974, 'itnow': 3983, 'backwards': 1290, 'uworld': 7691, 'qbank': 5885, 'assessment': 1187, 'antelope': 1075, 'toplay': 7424, 'fieldof': 2986, 'selfindependence': 6382, 'contention': 2109, 'growrandom': 3444, '0808': 52, '145': 303, '4742': 561, '9am11pm': 809, 'horse': 3704, 'racing': 5912, 'rice': 6145, 'poking': 5639, 'canada': 1743, 'shrek': 6529, '3db': 508, 'dose': 2573, 'tablet': 7091, 'barred': 1328, 'lifethis': 4365, 'twat': 7532, 'dungerees': 2645, 'decking': 2360, 'punch': 5859, 'repent': 6077, 'macs': 4584, 'toot': 7420, 'prepared': 5742, 'otside': 5348, 'leu': 4348, 'maga': 4596, 'possession': 5675, 'offense': 5230, 'tiime': 7323, 'tears': 7161, 'wwwidewcom': 8117, 'skillgame': 6597, '1winaweek': 376, '150ppermesssubscription': 325, 'interflora': 3927, 'åòits': 8290, 'flowers': 3066, '505060': 597, 'shipped': 6480, 'veggie': 7717, 'bottle': 1541, 'amused': 1038, 's8': 6237, 'hmmbad': 3647, 'newshype': 5067, 'plaza': 5595, '700': 673, 'studio': 6948, 'takenonly': 7104, 'bedrm900': 1381, 'knocking': 4205, 'playng': 5594, 'doors': 2570, 'crab': 2184, 'shorethe': 6506, 'waves': 7863, 'footprints': 3092, 'clearing': 1963, 'fox': 3125, 'frndsship': 3181, 'dwn': 2653, 'doesn': 2538, 'videos': 7737, 'smsshsexnetun': 6663, 'fgkslpopw': 2983, 'fgkslpo': 2982, 'drunkard': 2626, 'rimac': 6154, 'function': 3207, 'wedding': 7888, 'madamregret': 4589, 'disturbancemight': 2514, 'dlf': 2524, 'premaricakindly': 5737, 'informedrgdsrakheshkerala': 3889, '07732584351': 23, 'rodger': 6178, 'burns': 1667, 'wining': 7988, '946': 803, 'tops': 7426, '7pm': 696, 'disagreeable': 2493, 'bridgwater': 1599, 'banter': 1317, 'detailsi': 2427, 'youmy': 8252, 'hugging': 3756, 'resume': 6125, 'goin2bed': 3349, 'only1more': 5287, 'exp': 2867, '30apr': 477, 'messy': 4766, '09064017305': 205, 'pobox75ldns7': 5626, 'frequently': 3159, 'skyped': 6605, 'kz': 4234, 'given': 3317, 'ultimatum': 7577, 'countin': 2164, 'aburo': 839, '09058097189': 174, 'ls15hb': 4521, 'ditto': 2515, 'convincingjust': 2124, 'neglect': 5041, 'itjust': 3977, 'playerwhy': 5590, 'nottingham': 5158, '63miles': 641, '40mph': 538, 'gbpsms': 3262, 'garments': 3245, 'passable': 5443, 'score': 6324, 'phd': 5522, '5years': 629, 'taxt': 7140, 'massagetiepos': 4659, 'argh': 1140, 'lool': 4470, 'needle': 5035, 'meetitz': 4714, '4few': 570, 'conected': 2078, '9t': 814, 'hellodrivby0quit': 3581, 'edrunk': 2684, 'iff': 3812, 'pthis': 5849, 'senrddnot': 6398, 'dancce': 2287, 'drum': 2624, 'basqihave': 1338, '2nhite': 450, 'ros': 6193, 'xxxxxxx': 8181, '08718726971': 128, 'talents': 7109, 'ssnervous': 6828, 'dismay': 2508, '08700621170150p': 65, 'apo': 1098, 'hmmmy': 3654, 'woman': 8028, 'youdoing': 8246, 'sar': 6278, 'youdearwith': 8245, 'loverakhesh': 4506, 'nri': 5177, 'up4': 7628, 'supose': 7026, 'babysit': 1285, 'therexx': 7261, 'spjanuary': 6789, '08709222922': 84, '15pmin': 339, '78pmin': 689, 'peak': 5475, '09090900040': 237, 'extreme': 2889, 'dirty': 2491, 'sic': 6540, '60p': 633, '247mp': 401, '0870753331018': 80, '08718726978': 129, '08712400200': 93, 'teethif': 7168, 'asapok': 1169, 'doinghow': 2550, 'senor': 6397, 'useless': 7670, 'broadband': 1616, 'processed': 5800, 'installation': 3914, 'boltblue': 1516, 'poly3': 5646, 'slide': 6622, 'jamz': 4015, 'toxic': 7447, 'babyjontet': 1284, 'danalla': 2286, 'hubbys': 3752, '89938': 789, 'strings': 6930, '150ea': 309, 'otbox': 5345, '731': 681, 'la1': 4240, '7ws': 700, 'chloe': 1923, 'sp': 6750, 'visionsmscom': 7756, '150ptext': 330, 'honeymoon': 3684, 'outfit': 5355, 'scarcasim': 6313, 'poorly': 5660, 'punishment': 5861, 'worst': 8068, 'brb': 1584, 'kill': 4167, 'arms': 1151, 'shijutta': 6474, 'successful': 6981, 'noncomittal': 5131, 'brum': 1633, 'loud': 4494, 'free2day': 3140, 'georges': 3283, 'jordantxt': 4077, '89080': 783, 'saucy': 6298, 'celeb4': 1821, '0870241182716': 72, 'understood': 7595, 'acted': 867, 'upon': 7640, 'hunnywot': 3772, 'bedroomlove': 1383, 'applespairsall': 1107, 'malarky': 4617, '46': 558, 'hangin': 3511, 'dereks': 2409, 'woo': 8037, 'hoo': 3687, 'alian': 991, 'bluray': 1505, '645': 642, 'processnetworking': 5803, '0207': 7, '153': 338, '9996': 806, '14thmarch': 306, 'availa': 1239, 'zahers': 8279, 'weighed': 7902, 'woohoo': 8039, 'apology': 1101, 'stuffs': 6955, 'youcarlos': 8242, 'isare': 3961, 'vibrate': 7731, 'acting': 868, 'seventeen': 6425, 'hundred': 3764, 'ml': 4837, 'notified': 5156, 'marketing': 4647, '84122': 742, '08450542832': 60, 'unni': 7617, 'rechargerakhesh': 6005, 'str8': 6915, 'classic': 1955, 'nokia150p': 5126, 'poly200p': 5645, 'exorcism': 2865, 'emily': 2736, 'hugs': 3758, 'snogs': 6672, 'brison': 1610, 'language': 4268, 'yesbut': 8218, 'lifetime': 4366, '83600': 738, 'custcare08718720201': 2253, 'nys': 5204, 'seekers': 6367, 'elaine': 2715, 'confirmed': 2085, 'ssi': 6826, 'thinl': 7278, 'sachinjust': 6241, 'loooooool': 4471, 'couch': 2155, 'rents': 6075, 'crossing': 2216, 'durham': 2648, 'reserved': 6100, 'ams': 1036, 'rugby': 6218, 'desparately': 2418, 'entertain': 2769, 'rajipls': 5927, 'favour': 2955, 'convey': 2120, 'nimya': 5092, 'star': 6846, '09066364349': 224, 'box434sk38wp150ppm18': 1563, 'ashwini': 1174, 'install': 3913, 'browse': 1629, 'artists': 1164, 'unmits': 7615, 'plumbers': 5606, 'wrench': 8083, 'mineall': 4794, 'annoyin': 1062, 'accommodation': 851, 'global': 3326, 'wwwphb1com': 8125, 'ph08700435505150p': 5518, 'ger': 3285, 'toking': 7384, 'syd': 7078, 'lehhaha': 4328, 'inconvenient': 3864, 'mallika': 4620, 'sherawat': 6469, 'lturlgt': 4534, 'paragon': 5418, '449050000301': 551, '09050000301': 148, 'ffffffffff': 2980, 'prevent': 5760, 'dehydration': 2377, 'fluids': 3067, 'abstract': 836, 'donno': 2562, 'genes': 3275, 'restaurant': 6115, '08718726970': 127, 'toldshe': 7387, 'esplanade': 2799, '08715205273': 112, 'cedar': 1818, '09058097218': 175, 'washob': 7843, 'nobbing': 5112, 'nickey': 5078, 'platt': 5585, 'conference': 2079, 'appendix': 1105, 'range': 5940, '09066361921': 219, '5terror': 624, '6cruel': 660, '7romantic': 697, '8lovable': 794, '9decent': 810, 'joker': 4068, 'arsenal': 1162, 'dartboard': 2305, 'condition': 2075, 'doubles': 2579, 'trebles': 7479, '09061744553': 192, 'polyh': 5647, 'spreadsheet': 6807, 'determine': 2428, 'entire': 2772, 'godi': 3342, 'youclean': 8243, 'bloodsend': 1492, 'itplspls': 3985, 'intrude': 3936, 'lambda': 4258, 'manky': 4635, 'scouse': 6330, 'stevelike': 6878, 'travelling': 7473, 'homewot': 3678, 'inmind': 3900, 'recreation': 6016, 'holy': 3673, 'werent': 7924, 'kidding': 4164, 'heehee': 3574, 'whatsup': 7940, 'phone750': 5530, '08000776320': 42, '69669': 650, 'gprs': 3393, 'consent': 2096, 'forms': 3111, 'lifeis': 4364, 'daywith': 2327, 'thoughts': 7292, 'somewheresomeone': 6708, 'tosend': 7432, 'greeting': 3428, 'smith': 6653, 'gayle': 3253, 'yoyyooo': 8267, 'permissions': 5498, 'mac': 4576, 'usb': 7664, '69888nyt': 657, 'gim': 3307, 'lip': 4404, 'caveboy': 1811, 'feelin': 2966, 'wuld': 8100, 'nuther': 5195, 'rewarding': 6141, 'playin': 5592, 'attracts': 1216, 'brothas': 1622, 'ahnow': 954, 'wkg': 8014, 'wherebtw': 7947, 'nus': 5193, 'sc': 6311, 'specialise': 6767, 'wad': 7795, 'jod': 4058, 'revision': 6139, 'keris': 4146, 'smidgin': 6647, 'collegexx': 2015, 'ganesh': 3237, 'everybodys': 2826, 'hectic': 3572, 'millers': 4784, '02070836089': 8, 'opportunityall': 5312, 'fastpls': 2941, 'prayers': 5725, 'dearrakhesh': 2344, 'burgundy': 1663, 'captaining': 1761, 'epsilon': 2782, 'rhythm': 6144, 'establish': 2802, 'major': 4610, 'roles': 6182, 'outreach': 5362, 'subscribers': 6975, 'gb': 3257, 'senthil': 6405, 'hsbc': 3734, 'christmassy': 1937, '1million': 364, 'ppt150x3normal': 5707, 'box403': 1560, 'w1t1jy': 7789, 'misplaced': 4816, 'hamster': 3501, '1pm': 368, 'b4u': 1272, 'wc': 7867, '2703': 415, 'marsms': 4654, 'wwwb4utelecom': 8107, '08717168528': 115, 'havenåõt': 3545, '4ui': 590, 'intend': 3921, 'iwasmarinethatåõs': 3996, 'itried2tell': 3986, 'urmomi': 7660, 'careabout': 1768, 'timeyou': 7332, 'disappointment': 2494, 'craziest': 2194, 'simulate': 6564, 'readiness': 5968, 'dayhas': 2322, 'valuemorning': 7703, 'hopeafternoon': 3695, 'faithevening': 2914, 'luvnight': 4554, 'restwish': 6121, 'todaygood': 7374, 'attached': 1207, 'durban': 2647, 'wishin': 8000, 'bcaz': 1353, 'twelve': 7533, 'intentions': 3923, 'lacking': 4245, 'particular': 5435, 'dramastorms': 2592, 'amy': 1040, '07808726822': 32, '08718729758': 133, 'documents': 2534, 'submitted': 6967, 'stapati': 6845, 'chgs': 1896, 'pure': 5866, 'hearted': 3563, 'hisher': 3631, 'enemies': 2749, 'smiley': 6651, 'ceiling': 1819, 'gei': 3270, 'tron': 7487, 'dl': 2522, 'auntie': 1228, 'huai': 3750, 'juan': 4088, 'temales': 7182, 'error': 2788, 'rtking': 6211, 'pro': 5787, 'inforingtonekingcouk': 3885, '08701237397': 67, 'redeemable': 6019, 'wwwringtonekingcouk': 8126, 'nighters': 5083, 'persevered': 5500, 'resizing': 6104, 'skallis': 6595, 'odi': 5226, 'atleast': 1203, 'shakespeare': 6446, 'appeal': 1104, 'thriller': 7300, 'director': 2488, '830': 726, 'coco': 1998, '3mobile': 517, 'chatlines': 1865, 'inclu': 3856, 'servs': 6418, 'l8er': 4236, 'bailiff': 1299, 'mesages': 4749, 'lunchtime': 4547, 'organise': 5335, 'lingerie': 4395, 'wwwbridalpetticoatdreamscouk': 8108, 'weddingfriend': 7889, 'pract': 5711, 'flung': 3068, 'grl': 3433, 'hogolo': 3661, 'kodstini': 4216, 'agalla': 932, 'madstini': 4593, 'hogli': 3660, 'mutai': 4975, 'eerulli': 2692, 'kodthini': 4217, 'oranges': 5326, 'upd8': 7630, 'ringtonefrom': 6158, 'httptms': 3741, 'widelivecomindex': 7967, 'wmlid1b6a5ecef91ff937819firsttrue180430jul05': 8020, 'intention': 3922, 'visitors': 7759, '09061743811': 191, '09050001295': 152, 'a21': 816, 'frying': 3190, 'pan': 5402, 'it': 3971, 'that': 7232, 'silly': 6556, 'watever': 7857, 'built': 1656, 'remains': 6058, 'lonlines': 4462, 'lotz': 4492, 'memories': 4733, 'burial': 1664, 'wtc': 8097, 'weiyi': 7910, 'iraq': 3952, 'afghanistan': 920, 'stable': 6831, 'honest': 3680, 'traveling': 7471, 'hooked': 3691, 'props': 5831, 'ovulation': 5374, 'strips': 6933, 'postal': 5683, 'addressull': 886, 'alrightokay': 1010, 'picked': 5544, '09061743386': 188, 'pee': 5476, 'parkin': 5431, 'kent': 4142, 'vale': 7695, 'shb': 6461, 'westshore': 7930, 'village': 7747, '0871277810810': 103, 'doke': 2552, 'dressed': 2603, 'laying': 4300, 'gauge': 3249, 'pattys': 5457, 'armands': 1149, 'sculpture': 6341, 'bot': 1538, 'notes': 5151, 'divorce': 2518, 'barbie': 1320, 'kens': 4141, 'pt2': 5847, '87575': 767, 'haiyoh': 3492, 'million': 4785, 'sigh': 6544, 'cafe': 1697, 'strongly': 6937, 'sacrifice': 6244, 'creativity': 2200, 'stifled': 6885, 'rayman': 5952, 'golf': 3356, 'arcade': 1132, 'activ8': 870, 'termsapply': 7196, 'voted': 7777, 'steak': 6867, 'inever': 3880, 'sweetie': 7066, 'baaaaaaaabe': 1275, 'league': 4312, 'rebtel': 5989, 'firefox': 3028, 'gaps': 3240, 'uniform': 7605, 'wishlist': 8002, 'section': 6359, 'nitro': 5100, 'gloucesterroad': 3329, 'uup': 7688, 'chosen': 1931, '09066364311': 223, 'lookatme': 4465, 'clip': 1969, '35p': 493, 'mmsto': 4844, '32323': 486, 'solve': 6689, '1his': 360, '2police': 457, 'questioned': 5896, '3wife': 527, 'siri': 6575, '4cook': 567, '5gardener': 613, 'vegetables': 7716, '6housemaid': 662, '7children': 692, '8neighbour': 795, 'arrested': 1159, 'brilliant': 1602, 'bishan': 1457, 'knowyetunde': 4213, 'involve': 3944, 'imposed': 3843, '09061701851': 185, 'k61': 4105, '12hours': 292, 'lengths': 4333, 'behalf': 1397, 'stunning': 6957, 'sptv': 6813, 'jersey': 4043, 'devils': 2435, 'wings': 7987, 'incorrect': 3865, 'billy': 1445, 'moved': 4911, 'fffff': 2979, 'ikea': 3820, '08715203694': 111, '40533': 536, '311004': 482, 'flatter': 3049, 'pints': 5565, 'carlin': 1780, '88877free': 779, '88877': 778, 'gran': 3404, 'onlyfound': 5290, 'afew': 913, 'agocusoon': 944, 'honi': 3685, 'disconnect': 2499, 'callcoz': 1720, 'terrorist': 7199, 'itz': 3991, 'confirmd': 2083, 'verified': 7722, 'cnn': 1987, 'ibn': 3793, 'multiply': 4952, 'independently': 3871, 'count': 2163, 'decimal': 2356, 'showed': 6520, 'lastest': 4280, 'stereophonics': 6876, 'marley': 4649, 'dizzee': 2521, 'racal': 5911, 'libertines': 4354, 'strokes': 6934, 'nookii': 5134, 'themob': 7249, 'bookmark': 1523, '82468': 725, '83370': 735, 'wwwmusictrivianet': 8123, 'youso': 8258, 'solved': 6690, 'cat': 1801, 'xam': 8162, '532': 606, '924': 801, '863': 755, '725': 675, 'brilliant1thingi': 1603, 'answr': 1074, 'recorder': 6012, 'canname': 1752, 'australia': 1233, 'mquiz': 4918, 'consistently': 2100, 'practicum': 5715, 'links': 4398, 'ears': 2663, 'hu': 3749, 'navigate': 5019, 'choosing': 1928, 'require': 6090, 'guidance': 3466, 'doubt': 2581, 'birth': 1454, '8lb': 793, '7oz': 695, 'brilliantly': 1604, '08002986030': 48, '0789xxxxxxx': 36, 'day2find': 2320, '730pm': 680, 'homelove': 3676, 'lavender': 4296, 'thgt': 7267, 'clash': 1952, 'miserable': 4813, 'pandy': 5405, '4w': 592, 'technologies': 7166, 'todayhe': 7375, 'someday': 6693, 'usualiam': 7682, 'petey': 5514, 'whereare': 7946, 'friendsare': 3171, 'thekingshead': 7246, 'canlove': 1751, 'strange': 6918, 'grinule': 3432, 'greet': 3427, 'humans': 3762, 'natural': 5013, 'footie': 3091, 'blow': 1496, 'phil': 5524, 'neville': 5057, 'taunton': 7136, 'ahsen': 956, 'ooh': 5295, '4got': 573, 'moseley': 4898, 'weds': 7891, 'kilos': 4171, 'tix': 7350, 'lolnice': 4454, 'fish': 3033, 'leo': 4335, 'meare': 4698, 'perf': 5489, 'recpt': 6015, '13': 296, 'promotion': 5823, '8714714': 765, 'tscs087147403231winawkage16': 7508, 'saibaba': 6252, 'colany': 2005, 'italian': 3972, 'consensus': 2095, 'command': 2034, 'keng': 4140, 'rocking': 6175, 'ashes': 1171, 'bunch': 1658, 'lotto': 4490, 'wetherspoons': 7932, 'forced': 3095, 'significance': 6548, 'faith': 2913, 'possiblehope': 5680, 'worklove': 8053, 'beautifulmay': 1371, 'christmasmerry': 1936, 'dahow': 2280, 'macho': 4581, 'sized': 6592, 'kitty': 4186, 'shaved': 6460, 'yesgauti': 8220, 'sehwag': 6376, 'selfish': 6383, 'drastic': 2593, 'hen': 3592, 'brolly': 1619, 'franxx': 3131, 'bangbabes': 1311, 'bangb': 1310, 'internetservice': 3930, 'staffsciencenusedusgphyhcmkteachingpc1323': 6834, 'applebees': 1106, 'recdthirtyeight': 5992, 'hont': 3686, 'parking': 5432, 'bawling': 1346, 'failure': 2911, 'failing': 2909, 'httpwwwetlpcoukreward': 3745, 'ahold': 955, 'nudist': 5183, 'themed': 7247, 'stone': 6896, 'epi': 2781, 'lov': 4497, 'nevr': 5058, 'unrecognized': 7618, 'somone': 6710, 'mistakes': 4826, 'valuing': 7705, 'definitly': 2373, 'undrstnd': 7597, '74355': 682, 'hlday': 3642, 'camp': 1740, 'amrca': 1034, 'serena': 6410, 'nachos': 4988, 'eta': 2803, 'tensed': 7190, 'sindu': 6567, 'studies': 6947, 'anyones': 1083, 'yesim': 8223, 'impressed': 3847, 'funs': 3214, '69969': 658, 'bcmsfwc1n3xx': 1358, '08712402972': 98, 'dont4get2text': 2564, 'sweater': 7061, 'mango': 4633, 'size': 6591, 'wrks': 8088, 'becomes': 1377, 'habit': 3482, 'goggles': 3346, 'cheque': 1889, 'showered': 6522, 'erything': 2792, 'rules': 6222, 'responsibility': 6112, 'bend': 1411, 'rule': 6221, 'thia': 7268, 'inlude': 3899, 'previews': 5761, 'yalrigu': 8189, 'heltiniiyo': 3591, 'kothi': 4223, 'shared': 6457, 'meso': 4751, 'uttered': 7686, 'trusting': 7499, 'meok': 4743, 'chikkub': 1903, 'shiny': 6478, 'warming': 7837, 'cared': 1769, 'practising': 5716, 'curtsey': 2250, 'agent': 937, 'goodies': 3368, 'mat': 4662, 'semiobscure': 6390, 'bro': 1614, 'amongst': 1029, 'comedycant': 2026, 'hmmmbut': 3649, 'lucyxx': 4543, 'loans': 4434, 'optimistic': 5318, 'improve': 3849, 'hillsborough': 3624, 'drugdealer': 2622, 'miiiiiiissssssssss': 4779, 'bare': 1322, 'computers': 2065, 'rip': 6162, 'uterus': 7684, 'denying': 2398, 'connections': 2094, 'egg': 2701, 'daplease': 2296, 'kbut': 4132, 'hitteranyway': 3637, 'concentration': 2070, 'thousands': 7294, 'tattoos': 7133, 'attending': 1212, 'talks': 7115, 'mmmmmmm': 4843, 'snuggles': 6677, 'contented': 2108, 'whispers': 7955, 'singing': 6570, 'a30': 817, 'divert': 2516, 'wadebridgei': 7796, '69200': 649, 'chrgd50p': 1932, '2exit': 431, 'ana': 1041, 'sathy': 6289, 'rto': 6212, 'initiate': 3897, 'low': 4513, 'wallet': 7820, 'soup': 6744, 'fumbling': 3205, 'cps': 2181, 'outages': 5352, 'conserve': 2097, 'onum': 5292, 'ela': 2712, 'mc': 4687, 'flew': 3053, '5903': 609, '09064019788': 208, 'box42wr29c': 1562, 'sumfing': 7006, 'gotto': 3390, '3qxj9': 520, '08702840625': 74, 'comuk220cm2': 2066, '9ae': 807, 'stitch': 6890, 'trouser': 7490, 'effects': 2694, 'brighten': 1601, 'teaching': 7156, 'teluguthts': 7181, 'spark': 6760, 'flame': 3046, 'rawring': 5950, 'xoxo': 8170, 'agents': 938, 'experiment': 2874, 'x29': 8148, '09065989180': 214, 'hiwhat': 3639, 'dippeditinadew': 2484, 'lovingly': 4511, 'itwhichturnedinto': 3989, 'gifted': 3303, 'tomeandsaidthis': 7393, 'fifth': 2989, 'woozles': 8041, 'weasels': 7877, 'exeter': 2860, 'tablets': 7092, 'ktv': 4227, 'worc': 8042, 'foregate': 3096, 'shrub': 6530, 'x89ûthanks': 8153, 'banneduk': 1316, '89555': 787, 'textoperator': 7216, 'g696ga': 3221, 'split': 6795, 'btwn': 1645, 'dado': 2276, 'vikkyim': 7744, '420': 542, 'lotr': 4486, 'noisy': 5122, 'woot': 8040, 'stuffing': 6953, 'opened': 5301, 'kkits': 4194, 'goodwhen': 3379, 'wall': 7819, 'poem': 5634, 'fear': 2958, 'cheer': 1880, 'officially': 5240, 'philosophical': 5525, 'hole': 3667, 'blank': 1472, 'uploaded': 7639, '0784987': 35, '08719180219': 139, '060505': 16, 'alter': 1015, '08702840625comuk': 75, '220cm2': 397, 'prin': 5769, '09058094507': 166, 'httpwwwetlpcoukexpressoffer': 3744, 'headin': 3551, 'busetop': 1672, '09050000878': 151, 'pobox45w2tg150p': 5625, 'panasonic': 5404, 'bluetoothhdset': 1501, 'doublemins': 2578, 'doubletxt': 2580, 'dammit': 2283, 'audiitions': 1221, 'relocate': 6055, 'limit': 4385, 'boundaries': 1544, 'endless': 2746, 'juswoke': 4102, 'boatin': 1508, 'docks': 2531, 'spinout': 6786, 'loyal': 4518, 'customers': 2257, '09066380611': 228, 'surname': 7042, 'clue': 1981, 'begins': 1395, 'picsfree1': 5548, 'vid': 7733, 'keyword': 4151, 'wipro': 7993, 'owl': 5377, 'ukmobiledate': 7571, '08719839835': 144, 'mgs': 4770, '89123': 785, 'coat': 1991, 'hiphop': 3629, 'blessget': 1479, 'deari': 2341, 'chik': 1900, '100s': 257, 'filth': 3005, 'saristar': 6283, 'e14': 2655, '9yt': 815, '08701752560': 71, '450p': 555, 'stop2': 6900, 'kgive': 4154, 'apply2': 1110, 'pocked': 5630, 'foot': 3088, '2waxsto': 464, 'basic': 1334, 'draws': 2596, '09058094565': 167, 'smaller': 6637, 'capacity': 1758, 'nasty': 5005, 'cough': 2157, 'phony': 5534, 'rahul': 5917, 'dengra': 2393, 'suffering': 6991, 'dysentry': 2654, 'mandy': 4630, 'sullivan': 7003, 'hotmix': 3714, 'fmyou': 3074, '500000': 596, 'easter': 2670, 'drawplease': 2595, 'telephone': 7171, '09041940223': 147, '290305': 421, 'transferred': 7464, 'wating': 7859, 'rv': 6233, 'hol': 3662, 'roadsrvx': 6170, 'windows': 7984, 'logoff': 4447, 'dept': 2406, '13404': 299, '08717507382': 116, 'yeshere': 8222, 'cancelled': 1748, 'coimbatore': 2002, 'yupz': 8278, 'delete': 2380, 'tag': 7097, 'laundry': 4293, 'underwear': 7596, 'bras': 1581, 'strewn': 6927, 'pillows': 5560, '69698': 652, 'christ': 1933, 'shelf': 6466, 'ahhhhjust': 952, 'woken': 8027, 'uphad': 7637, 'thoso': 7287, 'fujitsu': 3200, 'lifebook': 4363, '50s': 600, 'alot': 1006, '2nights': 451, 'wildest': 7977, 'younger': 8254, 'desperate': 2419, 'gals': 3231, '08714712388': 107, 'presnts': 5752, 'bcz': 1363, 'mis': 4811, 'jeevithathile': 4035, 'irulinae': 3960, 'neekunna': 5038, 'prakasamanu': 5719, 'sneham': 6670, 'prakasam': 5718, 'ennal': 2764, 'prabha': 5708, 'mns': 4845, 'islove': 3965, '08715203652': 110, '42810': 544, '29100': 422, 'chikkuwat': 1907, 'kdo': 4133, 'daurgent': 2314, 'gumbys': 3471, 'fran': 3128, 'anal': 1042, 'wrk': 8085, 'lst': 4523, 'foned': 3084, 'chuck': 1938, 'effect': 2693, 'irritation': 3959, 'fellow': 2973, 'shag': 6440, 'dointerested': 2551, 'sextextukcom': 6429, 'xxuk': 8174, 'suzy': 7050, '69876': 655, 'shattered': 6459, 'replacing': 6080, 'amanda': 1020, 'regard': 6038, 'renewing': 6071, 'upgrading': 7635, '3680': 496, 'subject': 6965, '09058095107': 172, 's3xy': 6236, 'everyboy': 2827, 'xxxxxxxx': 8182, 'opposed': 5314, 'miwa': 4832, 'gr8prizes': 3397, '8800': 768, 'psp': 5843, 'wktxt': 8018, 'httpwwwgr8prizescom': 3746, 'gently': 3280, 'withdraw': 8005, 'anyhow': 1080, 'hopeing': 3698, 'wasn': 7844, 'sisters': 6580, 'ksry': 4225, 'sivatats': 6589, 'fassyole': 2937, 'blacko': 1468, 'londn': 4456, 'pendent': 5481, 'rstm': 6210, 'sw7': 7052, '3ss': 523, 'minstand': 4802, 'nowcan': 5167, 'yagoing': 8186, 'cards': 1766, 'ssindia': 6827, 'african': 923, 'soil': 6684, 'smoked': 6656, '07090201529': 19, 'x2': 8147, 'taught': 7135, 'ranjith': 5941, 'becaus': 1374, 'verifying': 7724, 'prabu': 5710, 'shore': 6505, 'gmw': 3332, 'connected': 2092, 'txtjourney': 7547, 'gdnow': 3265, 'beauty': 1372, 'hides': 3618, 'secrets': 6357, 'n8': 4986, 'watchin': 7854, 'chikkuil': 1906, 'mapquest': 4639, 'dogwood': 2547, '80086': 707, 'wwwtxttowincouk': 8144, 'bike': 1440, 'downon': 2587, 'theacusations': 7243, 'itxt': 3990, 'iwana': 3995, 'wotu': 8072, 'thewend': 7265, 'haventcn': 3544, 'agesring': 940, 'nething': 5050, 'satlove': 6293, 'collapsed': 2008, 'west': 7927, 'palm': 5401, 'timi': 7334, 'wnevr': 8022, 'fal': 2918, 'vth': 7782, 'fals': 2923, 'yen': 8208, 'madodu': 4591, 'nav': 5018, 'pretsorginta': 5757, 'nammanna': 4998, 'pretsovru': 5758, 'alwa': 1017, 'memorable': 4732, 'printing': 5776, 'handing': 3504, 'beside': 1416, 'ucall': 7560, 'wrki': 8086, 'dabooks': 2273, 'nite2': 5099, 'ffffuuuuuuu': 2981, 'accessible': 847, '08709501522': 85, '139': 300, 'la3': 4241, '2wu': 467, 'watched': 7852, 'depression': 2405, 'named': 4996, 'tau': 7134, 'piah': 5541, 'ned': 5030, 'donate': 2560, 'unicefs': 7604, 'asian': 1176, 'tsunami': 7510, 'disaster': 2495, 'fund': 3208, '864233': 756, 'nigh': 5081, 'jeans': 4034, 'apes': 1096, '2stoptx': 460, 'yesfrom': 8219, 'steamboat': 6870, 'cosign': 2148, 'toshiba': 7433, 'portege': 5670, 'm100': 4564, '09066649731from': 231, 'freenokia': 3150, 'or2optouthv9d': 5322, 'jaykwon': 4027, 'thuglyfe': 7310, 'falconerf': 2919, 'ofcourse': 5227, 'tonght': 7406, 'yah': 8187, 'payed': 5463, 'suganya': 6995, 'doublefaggot': 2577, 'bitching': 1460, 'jontin': 4075, 'mountain': 4907, 'deer': 2367, 'howda': 3723, 'mathe': 4668, 'samachara': 6267, 'comingdown': 2032, 'unsubscribed': 7626, 'hunks': 3768, 'httpgotbabescouk': 3739, 'subscriptions': 6977, 'wherres': 7951, '330': 489, '1120': 271, '1205': 283, 'browsin': 1631, 'compulsory': 2061, '09050001808': 153, 'm95': 4572, 'valid12hrs': 7699, 'spaces': 6753, 'embassy': 2732, 'reminded': 6064, 'waheed': 7799, 'fathima': 2945, 'olol': 5271, 'gpu': 3394, 'spiritual': 6788, 't91': 7087, 'gbp': 3258, '09057039994': 161, 'heygreat': 3610, 'dealfarm': 2335, '9am': 808, '5pm': 622, '95pax': 804, 'deposit': 2402, 'ow': 5375, 'deyi': 2439, '60400thousadi': 632, 'ay': 1265, 'satì': 6297, 'univ': 7609, 'pump': 5858, 'hii': 3621, 'qi': 5887, 'suddenly': 6987, 'knowwait': 4212, '2morro': 443, 'somethings': 6702, 'tim': 7326, 'bollox': 1515, 'tol': 7385, 'africa': 922, 'avin': 1248, 'silver': 6557, 'grasp': 3411, 'creative': 2199, 'messagestext': 4761, 'nowuse': 5175, 'web2mobile': 7881, 'txt250com': 7542, 'box139': 1552, 'la32wu': 4242, 'txtx': 7549, 'roads': 6169, 'slippery': 6627, 'dhoni': 2441, 'titleso': 7348, 'khelate': 4156, 'kintu': 4178, 'opponenter': 5310, 'dhorte': 2442, 'lage': 4253, 'feelingwavering': 2968, 'individualtime': 3878, 'heal': 3555, 'tantrums': 7122, 'adventuring': 906, 'referin': 6028, 'meis': 4720, 'liaoso': 4351, 'shirt': 6482, 'pants': 5410, 'oooooh': 5297, 'jerry': 4042, 'irritates': 3957, 'fails': 2910, 'smell': 6644, 'tobacco': 7366, 'debating': 2349, 'items': 3974, '7cfca1a': 691, 'styles': 6961, 'torture': 7431, 'ku': 4228, 'huiming': 3761, 'dusk': 2649, 'puzzles': 5880, 'exwife': 2890, 'youphone': 8255, 'athome': 1200, 'youwanna': 8263, 'cartons': 1790, 'shelves': 6468, 'janx': 4020, 'attended': 1211, '09065171142stopsms08': 210, 'decorating': 2362, 'apnt': 1097, 'sexychat': 6431, 'ola': 5266, 'partnership': 5439, 'restuwud': 6120, 'reliant': 6052, 'incredible': 3867, 'o2fwd': 5209, '18ptxt': 350, 'memory': 4734, 'drizzling': 2614, 'feathery': 2959, 'bowa': 1547, 'justify': 4101, 'ruining': 6220, 'wesley': 7925, 'howve': 3727, 'enjoying': 2762, 'prefer': 5734, 'swan': 7055, 'infact': 3881, 'sue': 6989, 'lapdancer': 4272, 'g2': 3220, '1da': 357, '150ppmsg': 328, 'gooddhanush': 3364, 'wrc': 8081, 'rally': 5931, 'lucozade': 4540, 'le': 4306, '61200': 635, 'packs': 5390, 'lucozadecoukwrc': 4541, 'itcould': 3973, 'entrepreneurs': 2774, 'colours': 2020, '241': 400, '3lions': 512, 'blankets': 1475, 'velachery': 7719, 'dust': 2650, 'uhhhhrmm': 7566, 'call2optouthf8': 1713, 'detailed': 2425, 'witin': 8009, 'bye': 1691, 'dang': 2292, 'thatd': 7233, 'scenario': 6316, 'finewhen': 3018, 'compliments': 2060, 'crowd': 2217, 'permission': 5497, 'themobhit': 7250, 'panther': 5409, 'sugababes': 6994, 'zebra': 8281, 'animation': 1054, 'badass': 1292, 'hoody': 3689, 'wallpaperall': 7822, 'restocked': 6117, 'swiss': 7072, 'directors': 2489, 'lac': 4244, 'crore': 2214, 'deposited': 2403, 'taxless': 7139, 'lane': 4266, 'suply': 7025, 'projects': 5814, 'imf': 3834, 'blocked': 1485, 'politicians': 5642, 'corrupt': 2145, 'itna': 3982, 'karo': 4125, 'pura': 5863, 'padhegm': 5391, 'wasnåõt': 7846, 'spouse': 6805, 'pmt': 5613, 'sumthin': 7009, '4give': 572, 'shldxxxx': 6493, 'tables': 7090, 'occupied': 5218, 'mittelschmertz': 4831, 'paracetamol': 5415, '08702490080': 73, 'solihull': 6688, 'meaningless': 4694, 'annoying': 1063, 'surya': 7047, 'pokkiri': 5640, 'cousin': 2175, 'dial': 2444, 'bx526': 1689, 'arithmetic': 1146, 'percentages': 5488, 'glorious': 3327, 'finds': 3013, 'coaxing': 1992, 'images': 3830, 'fond': 3081, 'souveniers': 6748, 'cougarpen': 2156, 'upgrdcentre': 7636, '9153': 800, 'ajith': 970, 'vldo': 7766, 'adsense': 901, 'approved': 1120, 'natalie': 5007, '20f': 388, 'yes165': 8213, 'no165': 5105, 'wwwsmsacunatalie2k9': 8134, 'lucy': 4542, 'hubby': 3751, 'meetins': 4713, 'cumin': 2241, '09099726395': 241, '1minmobsmorelkpobox177hp51fl': 366, 'factory': 2903, 'knowthis': 4211, 'tirunelvai': 7341, 'alcohol': 979, 'safely': 6249, 'dearslp': 2346, 'welltake': 7915, 'careswt': 1776, 'dreamsmuah': 2601, 'attractioni': 1215, 'meshe': 4750, 'thoughtsi': 7293, 'hershe': 3601, 'dreamlove': 2599, 'namemy': 4997, 'hermy': 3598, 'heri': 3596, 'cry': 2224, 'herwill': 3603, 'sorrowsi': 6728, 'herlove': 3597, 'proove': 5826, 'planeti': 5579, 'praises': 5717, 'curry': 2249, 'makiing': 4613, 'sambarlife': 6269, 'thenwill': 7253, 'subtoitles': 6979, 'stalk': 6837, 'profiles': 5809, 'treadmill': 7474, 'craigslist': 2186, 'kanowhr': 4121, 'smsing': 6662, '08718730555': 134, 'banned': 1315, 'guessin': 3464, '80488biz': 714, 'motivating': 4903, 'sharing': 6458, 'randomlly': 5936, '5min': 618, 'satsgettin': 6294, '447per': 550, 'cultures': 2239, 'module': 4863, '08712402902': 97, 'accordin': 854, 'soso': 6740, 'smsd': 6661, 'term': 7193, 'passion': 5446, '09099726481': 242, 'dena': 2392, 'onluy': 5286, 'matters': 4674, 'offcampus': 5229, 'zhong': 8284, 'se': 6344, 'qing': 5888, 'act': 866, '09071517866': 235, '150ppmpobox10183bhamb64xe': 327, '3650': 494, '09066382422': 229, '300603': 473, 'bcm4284': 1357, 'wondarfull': 8031, 'tessypls': 7202, 'favor': 2953, 'nimyapls': 5093, 'shijas': 6473, 'recharged': 6004, 'dled': 2523, 'stil': 6886, 'tobed': 7367, 'entertaining': 2770, 'hugh': 3757, 'laurie': 4294, 'stick': 6883, 'indeed': 3870, 'spageddies': 6754, 'supports': 7032, 'srt': 6824, 'ps3': 5841, 'pap': 5411, 'synced': 7083, 'shangela': 6451, 'dentist': 2396, '8830': 774, 'cld': 1957, 'nosh': 5147, 'anybodys': 1079, 'tactful': 7095, 'awkward': 1260, 'baskets': 1337, 'penis': 5482, 'fredericksburg': 3138, 'chapel': 1846, 'frontierville': 3188, 'perumbavoor': 5510, 'hadya': 3484, 'sapna': 6277, 'manege': 4632, 'yday': 8198, 'hogidhechinnu': 3659, 'swalpa': 7054, 'agidhane': 941, 'dizzamn': 2520, 'suitemates': 7001, 'badrith': 1293, 'chennaii': 1888, 'usno': 7678, 'strt': 6938, 'ltdhelpdesk': 4528, '02085076972': 11, 'ujhhhhhhh': 7569, 'sandiago': 6272, 'parantella': 5421, 'poop': 5658, 'crucify': 2220, 'shades': 6438, 'textpod': 7217, 'wwwtextpodnet': 8139, 'ultimately': 7576, 'tor': 7427, 'motive': 4904, 'tui': 7518, 'achieve': 859, 'korli': 4221, '07808': 31, 'xxxxxx': 8180, '08719899217': 145, 'themobyo': 7251, 'yohere': 8238, 'whore': 7959, 'block': 1484, 'armenia': 1150, 'swann': 7056, 'howard': 3722, 'lorgoin': 4477, 'onedge': 5280, 'hassling': 3535, 'andres': 1048, 'haughaighgtujhyguj': 3539, 'endowed': 2747, 'lightly': 4374, 'custom': 2254, 'checkboxes': 1874, 'fiting': 3036, 'load': 4431, 'hwkeep': 3785, 'mj': 4834, 'cocksuckers': 1997, 'ipads': 3949, 'worthless': 8070, 'garbage': 3242, 'novelty': 5161, '89105': 784, 'www80488biz': 8105, 'suffers': 6992, 'silence': 6553, 'freaking': 3136, 'myspace': 4983, 'logged': 4444, 'messageit': 4754, 'thatåõs': 7240, 'gail': 3223, 'wrongtake': 8093, 'worryc': 8064, 'l8tr': 4238, 'hunlove': 3769, 'yaxxx': 8195, 'afterwards': 927, 'worrying': 8065, 'quizzes': 5907, 'popcorn': 5663, 'success': 6980, 'outsider': 5365, 'thasa': 7231, 'messed': 4764, 'upyeh': 7648, 'sos': 6739, 'reassuring': 5987, 'tamilnaduthen': 7119, 'speed': 6773, 'speedchat': 6774, '80155': 709, 'swap': 7057, 'chatter': 1866, 'chat80155': 1863, 'rcd': 5955, 'textin': 7214, 'ripped': 6163, 'wwwclubmobycom': 8110, '08717509990': 118, 'polytruepixringtonesgames': 5651, 'arranging': 1158, 'edge': 2680, 'underdtand': 7592, 'taste': 7129, 'squeezed': 6819, 'worryuse': 8066, 'cloth': 1975, 'packalso': 5388, 'squeeeeeze': 6818, 'frndshp': 3180, 'luvd': 4553, '83118': 730, 'colin': 2007, 'farrell': 2935, 'swat': 7058, 'popcornjust': 5664, 'msgticketkioskvalid': 4934, '4712': 560, 'kiosk': 4179, 'mre': 4920, '08701213186': 66, 'confirmdeny': 2084, 'can': 1742, 'shun': 6534, 'bian': 1433, 'glass': 3324, 'exhibition': 2863, 'bari': 1324, 'hudgi': 3753, 'yorge': 8240, 'pataistha': 5453, 'ertini': 2790, 'lennon': 4334, 'nightnight': 5084, 'foward': 3123, '1230': 287, 'okday': 5255, 'punish': 5860, 'doesnåõt': 2540, 'urination': 7658, 'linear': 4392, 'algebra': 988, '730ish': 679, '02': 5, 'simpsons': 6563, 'band': 1308, 'agreen': 946, 'bblue': 1351, 'cred': 2201, 'rajas': 5925, 'burrito': 1668, 'okmail': 5260, 'defer': 2370, 'admission': 894, 'shouting': 6517, 'pre': 5729, 'sacked': 6243, 'clarify': 1950, 'preponed': 5744, 'affectionate': 916, 'loveable': 4500, 'eternal': 2805, 'noble': 5113, 'truthful': 7501, 'intimate': 3934, 'enamous': 2741, 'hall': 3496, 'hesitation': 3607, 'intha': 3933, 'ponnungale': 5654, 'ipaditan': 3948, '09066612661': 230, 'complementary': 2052, 'wa14': 7793, '2px': 458, 'sender': 6393, 'saeed': 6247, 'stranger': 6919, 'stands': 6844, 'nitz': 5102, 'occasion': 5217, 'celebrated': 1823, 'reflection': 6031, 'values': 7704, 'affectionsamp': 917, 'traditions': 7452, 'ideal': 3803, '09058091870': 163, 'wellyou': 7916, 'lifeyou': 4367, 'convinced': 2122, 'thati': 7235, 'conversations': 2118, 'usget': 7673, 'timeyour': 7333, 'sensesrespect': 6400, 'overemphasiseor': 5370, 'jelly': 4036, 'browser': 1630, 'surf': 7039, 'tp': 7448, 'ambitious': 1022, 'jsco': 4084, '2channel': 427, 'leadership': 4308, 'skills': 6599, 'psychic': 5845, 'wquestion': 8080, 'atten': 1209, 'puzzeles': 5879, 'sfrom': 6435, 'manual': 4636, 'processits': 5802, 'reset': 6102, 'troubleshooting': 7489, 'ship': 6479, 'arestaurant': 1137, 'squid': 6820, 'dosomething': 2574, 'yummmm': 8271, 'freaky': 3137, '08718738034': 138, 'tarot': 7126, '85555': 752, 'asa': 1167, 'el': 2711, 'nino': 5095, 'stripes': 6932, 'skirt': 6601, 'resent': 6097, 'queries': 5893, 'customersqueriesnetvisionukcom': 2258, 'jog': 4059, 'tshirt': 7509, 'glo': 3325, 'dealer': 2333, 'freedom': 3141, 'lunsford': 4549, 'ryans': 6234, 'gek1510': 3271, '0870k': 86, 'champ': 1838, 'glasgow': 3323, 'ìïll': 8294, 'ou': 5349}\n"
     ]
    }
   ],
   "source": [
    "# fit the tfidf part...\n",
    "tfidfVect.fit(X_train['clean_text'])\n",
    "print(\"Vocabulary of the Dataset is : \")\n",
    "print(tfidfVect.vocabulary_)"
   ]
  },
  {
   "cell_type": "code",
   "execution_count": 64,
   "metadata": {
    "id": "d71TiOD2HKtY"
   },
   "outputs": [],
   "source": [
    "# Perform tfidf on train and test dataset to create a sparse matrix...\n",
    "X_train_vect = tfidfVect.transform(X_train['clean_text'])\n",
    "X_test_vect = tfidfVect.transform(X_test['clean_text'])"
   ]
  },
  {
   "cell_type": "code",
   "execution_count": 70,
   "metadata": {
    "colab": {
     "base_uri": "https://localhost:8080/"
    },
    "id": "4T5v-AgvHncj",
    "outputId": "a59603dc-8aa0-43b4-d5d9-797e9cfa1843"
   },
   "outputs": [
    {
     "name": "stdout",
     "output_type": "stream",
     "text": [
      "Sparse Matrix of the Training data...\n"
     ]
    },
    {
     "data": {
      "text/plain": [
       "<1x8295 sparse matrix of type '<class 'numpy.float64'>'\n",
       "\twith 12 stored elements in Compressed Sparse Row format>"
      ]
     },
     "execution_count": 70,
     "metadata": {
      "tags": []
     },
     "output_type": "execute_result"
    }
   ],
   "source": [
    "# How are these vectors stored...\n",
    "print(\"Sparse Matrix of the Training data...\")\n",
    "X_train_vect[0]"
   ]
  },
  {
   "cell_type": "code",
   "execution_count": 71,
   "metadata": {
    "colab": {
     "base_uri": "https://localhost:8080/"
    },
    "id": "MdOkUmSVIL4A",
    "outputId": "d75a354a-7bea-4495-c46f-be5ecde90656"
   },
   "outputs": [
    {
     "name": "stdout",
     "output_type": "stream",
     "text": [
      "Sparse Matrix of the Testing data...\n"
     ]
    },
    {
     "data": {
      "text/plain": [
       "<1x8295 sparse matrix of type '<class 'numpy.float64'>'\n",
       "\twith 1 stored elements in Compressed Sparse Row format>"
      ]
     },
     "execution_count": 71,
     "metadata": {
      "tags": []
     },
     "output_type": "execute_result"
    }
   ],
   "source": [
    "print(\"Sparse Matrix of the Testing data...\")\n",
    "X_test_vect[0]"
   ]
  },
  {
   "cell_type": "code",
   "execution_count": 72,
   "metadata": {
    "colab": {
     "base_uri": "https://localhost:8080/"
    },
    "id": "S0Hj7YHeIU_x",
    "outputId": "c13e1c4f-8973-40a1-baa8-bee0babc5879"
   },
   "outputs": [
    {
     "data": {
      "text/plain": [
       "array([[0., 0., 0., ..., 0., 0., 0.]])"
      ]
     },
     "execution_count": 72,
     "metadata": {
      "tags": []
     },
     "output_type": "execute_result"
    }
   ],
   "source": [
    "# Can we convert these vectors to arrays...\n",
    "X_test_vect[0].toarray()"
   ]
  },
  {
   "cell_type": "code",
   "execution_count": 77,
   "metadata": {
    "colab": {
     "base_uri": "https://localhost:8080/"
    },
    "id": "jmeN9_-PIhF5",
    "outputId": "21d5a8e0-8e2f-4d85-f877-dc6d4524382f"
   },
   "outputs": [
    {
     "data": {
      "text/plain": [
       "RandomForestClassifier(bootstrap=True, ccp_alpha=0.0, class_weight=None,\n",
       "                       criterion='gini', max_depth=None, max_features='auto',\n",
       "                       max_leaf_nodes=None, max_samples=None,\n",
       "                       min_impurity_decrease=0.0, min_impurity_split=None,\n",
       "                       min_samples_leaf=1, min_samples_split=2,\n",
       "                       min_weight_fraction_leaf=0.0, n_estimators=100,\n",
       "                       n_jobs=None, oob_score=False, random_state=None,\n",
       "                       verbose=0, warm_start=False)"
      ]
     },
     "execution_count": 77,
     "metadata": {
      "tags": []
     },
     "output_type": "execute_result"
    }
   ],
   "source": [
    "# Instantiate the RandomForest Classifier...\n",
    "modelRF = RandomForestClassifier()\n",
    "modelRF"
   ]
  },
  {
   "cell_type": "code",
   "execution_count": 79,
   "metadata": {
    "colab": {
     "base_uri": "https://localhost:8080/"
    },
    "id": "gxlERv8ZNovb",
    "outputId": "7497375c-7deb-4139-88b1-100b823bf492"
   },
   "outputs": [
    {
     "data": {
      "text/plain": [
       "RandomForestClassifier(bootstrap=True, ccp_alpha=0.0, class_weight=None,\n",
       "                       criterion='gini', max_depth=None, max_features='auto',\n",
       "                       max_leaf_nodes=None, max_samples=None,\n",
       "                       min_impurity_decrease=0.0, min_impurity_split=None,\n",
       "                       min_samples_leaf=1, min_samples_split=2,\n",
       "                       min_weight_fraction_leaf=0.0, n_estimators=100,\n",
       "                       n_jobs=None, oob_score=False, random_state=None,\n",
       "                       verbose=0, warm_start=False)"
      ]
     },
     "execution_count": 79,
     "metadata": {
      "tags": []
     },
     "output_type": "execute_result"
    }
   ],
   "source": [
    "# Fit it into the train set\n",
    "modelRF_fit = modelRF.fit(X_train_vect, y_train.values.ravel())\n",
    "modelRF_fit"
   ]
  },
  {
   "cell_type": "code",
   "execution_count": 81,
   "metadata": {
    "id": "8hZs4DzaN-Wf"
   },
   "outputs": [],
   "source": [
    "y_pred = modelRF_fit.predict(X_test_vect)"
   ]
  },
  {
   "cell_type": "code",
   "execution_count": 87,
   "metadata": {
    "colab": {
     "base_uri": "https://localhost:8080/"
    },
    "id": "wKgzgpjeOWmR",
    "outputId": "826958f7-10cf-430f-e8a1-6d0f5b94135e"
   },
   "outputs": [
    {
     "name": "stdout",
     "output_type": "stream",
     "text": [
      "Accuracy : 0.9695067264573991 / Precision : 1.0 / Recall : 0.7553956834532374 / F1-Score : 0.860655737704918\n"
     ]
    }
   ],
   "source": [
    "# Evaluate the performance of the model on the unseen text data...\n",
    "accuracy = accuracy_score(y_test, y_pred)\n",
    "precision = precision_score(y_test, y_pred)\n",
    "recall = recall_score(y_test, y_pred)\n",
    "f1_score = f1_score(y_test, y_pred)\n",
    "\n",
    "print('Accuracy : {} / Precision : {} / Recall : {} / F1-Score : {}'.format(accuracy, precision, recall, f1_score))"
   ]
  },
  {
   "cell_type": "code",
   "execution_count": 90,
   "metadata": {
    "colab": {
     "base_uri": "https://localhost:8080/"
    },
    "id": "S8o-GOkDO0lP",
    "outputId": "8c47b97a-dbb1-45ee-8711-3a248146b5a5"
   },
   "outputs": [
    {
     "name": "stdout",
     "output_type": "stream",
     "text": [
      "Classification Report is : \n",
      "              precision    recall  f1-score   support\n",
      "\n",
      "           0       0.97      1.00      0.98       976\n",
      "           1       1.00      0.76      0.86       139\n",
      "\n",
      "    accuracy                           0.97      1115\n",
      "   macro avg       0.98      0.88      0.92      1115\n",
      "weighted avg       0.97      0.97      0.97      1115\n",
      "\n"
     ]
    }
   ],
   "source": [
    "# get the Clssification report...\n",
    "print(\"Classification Report is : \")\n",
    "print(classification_report(y_test, y_pred))"
   ]
  },
  {
   "cell_type": "markdown",
   "metadata": {
    "id": "n5yl6McAQBaU"
   },
   "source": [
    "## Create Word2Vec Models"
   ]
  },
  {
   "cell_type": "code",
   "execution_count": 92,
   "metadata": {
    "id": "Ry3EzYlWQDhQ"
   },
   "outputs": [],
   "source": [
    "# Train a basic word2vec model...\n",
    "model_w2v = Word2Vec(X_train, size=100, \n",
    "                     window=5, min_count=2)"
   ]
  },
  {
   "cell_type": "code",
   "execution_count": 95,
   "metadata": {
    "colab": {
     "base_uri": "https://localhost:8080/"
    },
    "id": "YI507iArQcgB",
    "outputId": "7d18c078-b2b3-4441-8b38-464112f55d61"
   },
   "outputs": [
    {
     "data": {
      "text/plain": [
       "<gensim.models.word2vec.Word2Vec at 0x7fe81b19b5d0>"
      ]
     },
     "execution_count": 95,
     "metadata": {
      "tags": []
     },
     "output_type": "execute_result"
    }
   ],
   "source": [
    "model_w2v"
   ]
  },
  {
   "cell_type": "code",
   "execution_count": 105,
   "metadata": {
    "id": "B1jK_JCVQkkL"
   },
   "outputs": [],
   "source": [
    "# Replace the words in each text with their appropriate Word2Vec model...\n",
    "words = set(model_w2v.wv.index2word)\n",
    "X_train_w2v_vect = np.array([np.array([model_w2v.wv[i] for i in ls if i in words])\n",
    "                             for ls in X_train['clean_text']])\n",
    "\n",
    "# Create Word vectors for the test set...\n",
    "X_test_w2v_vect = np.array([np.array([model_w2v.wv[i] for i in ls if i in words])\n",
    "                             for ls in X_test['clean_text']])"
   ]
  },
  {
   "cell_type": "code",
   "execution_count": 107,
   "metadata": {
    "colab": {
     "base_uri": "https://localhost:8080/"
    },
    "id": "tUaEpeJtR-YW",
    "outputId": "543a4041-f82e-4a09-eaab-2d465b68f577"
   },
   "outputs": [
    {
     "name": "stdout",
     "output_type": "stream",
     "text": [
      "Length of the Word2Vec vectors are : \n",
      "4457\n",
      "\n",
      "The vectors for first word are : \n",
      "[ 0.00396732 -0.00328892  0.00370869 -0.00305372 -0.00270917  0.00237351\n",
      "  0.00405673 -0.00280194  0.00264076 -0.00297807 -0.00289587 -0.00362911\n",
      " -0.00014753  0.00167454  0.0001826   0.00087488 -0.0045652   0.0035915\n",
      "  0.00245221  0.00160005  0.00112918  0.00257055  0.00012684  0.00214202\n",
      "  0.0004434  -0.00479697  0.00273362 -0.00374223  0.00377407  0.00361084\n",
      " -0.00431967 -0.00160431 -0.00123606 -0.00307783 -0.00477444 -0.00343499\n",
      " -0.00341241 -0.00196227 -0.00462878  0.00228309 -0.00482763 -0.00401682\n",
      "  0.00461745 -0.00214594 -0.00470943  0.00062895 -0.00313762 -0.00188191\n",
      " -0.00383911 -0.00070366  0.00376175 -0.0010646  -0.00037402  0.00381775\n",
      " -0.0026288   0.00108672 -0.00014367 -0.00357763 -0.0021635   0.00331943\n",
      "  0.00379137  0.0013573  -0.000731    0.00269206 -0.00094731 -0.00489419\n",
      " -0.00360579 -0.00349347  0.00144218  0.00263324 -0.003264    0.0034466\n",
      "  0.00112027 -0.00474528  0.00374748  0.00230701 -0.00151289  0.00406825\n",
      " -0.00233242  0.00162453  0.00091259  0.0047637  -0.00499881 -0.00385976\n",
      "  0.00390078 -0.00287614  0.00180945 -0.00179936 -0.00231555  0.00053027\n",
      " -0.00445919  0.00214122 -0.00258087 -0.00450352 -0.00222513  0.00361238\n",
      "  0.00442659 -0.00433804  0.00183146 -0.00101297]\n",
      "\n",
      "Length of the Word2Vect test vectors are : \n",
      "1115\n",
      "\n",
      "The vectors for the first word are : \n",
      "[-2.3693284e-03  2.2285266e-03 -4.1085994e-03  4.1090599e-03\n",
      " -4.9084336e-03 -4.4520437e-03 -7.6832552e-04 -4.2574611e-03\n",
      " -3.9410987e-03  4.3579889e-03  3.5380849e-03  2.2129747e-03\n",
      " -3.4099277e-03 -1.1596387e-03  1.7859827e-03  1.7129338e-03\n",
      "  1.5721625e-03 -8.4641259e-05  2.7348511e-03  2.7310285e-03\n",
      " -4.1742590e-03  1.9250037e-03 -2.5602735e-03  3.0311462e-03\n",
      "  3.9379639e-03 -3.6657569e-03  2.7489793e-03  4.0378203e-04\n",
      " -3.3104357e-03  3.9881645e-03 -1.5149956e-03 -2.2975327e-03\n",
      " -4.8651332e-03  2.9817019e-03  3.0816193e-03 -1.2428636e-03\n",
      " -4.0632905e-03 -2.2435498e-03 -8.1594172e-04 -8.8319846e-04\n",
      "  2.4549554e-03 -4.7665336e-03 -5.6421640e-04 -4.0153582e-03\n",
      " -4.3552327e-03 -2.8783231e-04  3.7691221e-03 -4.6495590e-03\n",
      "  1.7347686e-03 -9.9130697e-04 -4.5631863e-03 -2.2064282e-03\n",
      "  4.8391568e-03 -1.1156721e-03 -5.4961775e-04  2.6602987e-03\n",
      " -4.2042397e-03  1.6618612e-03  3.7425256e-03  3.5289908e-03\n",
      "  4.7106310e-03 -9.6841715e-04  7.1973173e-04 -1.3420795e-04\n",
      "  2.8721173e-03 -3.1338143e-03 -4.3488382e-03 -3.9213719e-03\n",
      "  2.8575203e-04  2.2397293e-03 -2.2775980e-03 -1.4125663e-03\n",
      "  3.3400578e-03 -1.0873455e-03 -4.1866251e-03 -1.7956462e-03\n",
      " -2.2481231e-03 -3.6908081e-03 -7.4083077e-06  3.9443956e-03\n",
      "  3.2823146e-03  8.2273921e-04 -3.2385788e-03 -5.6223042e-04\n",
      "  1.0859282e-03 -2.1889447e-03 -3.8045463e-03  3.0375165e-03\n",
      "  3.5347056e-03 -1.7976767e-03  1.7462837e-03  1.9554805e-03\n",
      "  3.5092917e-03 -6.4218265e-04 -3.7683183e-03 -4.0071555e-03\n",
      " -4.3876120e-03  4.8440760e-03  1.0662561e-03  3.1584487e-03]\n"
     ]
    }
   ],
   "source": [
    "print(\"Length of the Word2Vec vectors are : \")\n",
    "print(len(X_train_w2v_vect))\n",
    "print()\n",
    "print(\"The vectors for first word are : \")\n",
    "print(X_train_w2v_vect[0][0])\n",
    "print()\n",
    "print(\"Length of the Word2Vect test vectors are : \")\n",
    "print(len(X_test_w2v_vect))\n",
    "print()\n",
    "print(\"The vectors for the first word are : \")\n",
    "print(X_test_w2v_vect[0][0])"
   ]
  },
  {
   "cell_type": "code",
   "execution_count": 110,
   "metadata": {
    "id": "3-9K5YR4SiQy"
   },
   "outputs": [],
   "source": [
    "# Average the word vectors for each text message to get a single vector representation of each length..\n",
    "X_train_w2v_vect_avg = []\n",
    "for vec in X_train_w2v_vect:\n",
    "    if vec.size:\n",
    "       X_train_w2v_vect_avg.append(vec.mean(axis=0))\n",
    "    else:\n",
    "       X_train_w2v_vect_avg.append(np.zeros(100, dtype=float))\n",
    "    \n",
    "X_test_w2v_vect_avg = []\n",
    "for vec in X_test_w2v_vect:\n",
    "    if vec.size:\n",
    "       X_test_w2v_vect_avg.append(vec.mean(axis=0))\n",
    "    else:\n",
    "       X_test_w2v_vect_avg.append(np.zeros(100, dtype=float))\n"
   ]
  },
  {
   "cell_type": "code",
   "execution_count": 111,
   "metadata": {
    "colab": {
     "base_uri": "https://localhost:8080/"
    },
    "id": "6VSyBPVXUkmF",
    "outputId": "a7588dfb-21b7-42ea-fba4-5b6a2442e314"
   },
   "outputs": [
    {
     "data": {
      "text/plain": [
       "array([[ 3.9673205e-03, -3.2889210e-03,  3.7086927e-03, -3.0537243e-03,\n",
       "        -2.7091699e-03,  2.3735124e-03,  4.0567252e-03, -2.8019396e-03,\n",
       "         2.6407621e-03, -2.9780688e-03, -2.8958677e-03, -3.6291122e-03,\n",
       "        -1.4753372e-04,  1.6745386e-03,  1.8259943e-04,  8.7488414e-04,\n",
       "        -4.5652045e-03,  3.5915005e-03,  2.4522089e-03,  1.6000535e-03,\n",
       "         1.1291822e-03,  2.5705537e-03,  1.2683877e-04,  2.1420228e-03,\n",
       "         4.4339529e-04, -4.7969706e-03,  2.7336217e-03, -3.7422336e-03,\n",
       "         3.7740713e-03,  3.6108363e-03, -4.3196674e-03, -1.6043123e-03,\n",
       "        -1.2360616e-03, -3.0778258e-03, -4.7744447e-03, -3.4349938e-03,\n",
       "        -3.4124071e-03, -1.9622743e-03, -4.6287780e-03,  2.2830863e-03,\n",
       "        -4.8276251e-03, -4.0168175e-03,  4.6174549e-03, -2.1459446e-03,\n",
       "        -4.7094305e-03,  6.2895002e-04, -3.1376162e-03, -1.8819101e-03,\n",
       "        -3.8391091e-03, -7.0365664e-04,  3.7617502e-03, -1.0646011e-03,\n",
       "        -3.7402139e-04,  3.8177450e-03, -2.6287993e-03,  1.0867170e-03,\n",
       "        -1.4366680e-04, -3.5776319e-03, -2.1635031e-03,  3.3194288e-03,\n",
       "         3.7913686e-03,  1.3572982e-03, -7.3100475e-04,  2.6920575e-03,\n",
       "        -9.4731228e-04, -4.8941909e-03, -3.6057860e-03, -3.4934722e-03,\n",
       "         1.4421819e-03,  2.6332370e-03, -3.2639971e-03,  3.4466030e-03,\n",
       "         1.1202742e-03, -4.7452785e-03,  3.7474777e-03,  2.3070092e-03,\n",
       "        -1.5128871e-03,  4.0682480e-03, -2.3324187e-03,  1.6245281e-03,\n",
       "         9.1258826e-04,  4.7636977e-03, -4.9988111e-03, -3.8597586e-03,\n",
       "         3.9007764e-03, -2.8761437e-03,  1.8094543e-03, -1.7993560e-03,\n",
       "        -2.3155510e-03,  5.3027307e-04, -4.4591916e-03,  2.1412205e-03,\n",
       "        -2.5808737e-03, -4.5035160e-03, -2.2251343e-03,  3.6123767e-03,\n",
       "         4.4265939e-03, -4.3380447e-03,  1.8314599e-03, -1.0129728e-03],\n",
       "       [-2.3693284e-03,  2.2285266e-03, -4.1085994e-03,  4.1090599e-03,\n",
       "        -4.9084336e-03, -4.4520437e-03, -7.6832552e-04, -4.2574611e-03,\n",
       "        -3.9410987e-03,  4.3579889e-03,  3.5380849e-03,  2.2129747e-03,\n",
       "        -3.4099277e-03, -1.1596387e-03,  1.7859827e-03,  1.7129338e-03,\n",
       "         1.5721625e-03, -8.4641259e-05,  2.7348511e-03,  2.7310285e-03,\n",
       "        -4.1742590e-03,  1.9250037e-03, -2.5602735e-03,  3.0311462e-03,\n",
       "         3.9379639e-03, -3.6657569e-03,  2.7489793e-03,  4.0378203e-04,\n",
       "        -3.3104357e-03,  3.9881645e-03, -1.5149956e-03, -2.2975327e-03,\n",
       "        -4.8651332e-03,  2.9817019e-03,  3.0816193e-03, -1.2428636e-03,\n",
       "        -4.0632905e-03, -2.2435498e-03, -8.1594172e-04, -8.8319846e-04,\n",
       "         2.4549554e-03, -4.7665336e-03, -5.6421640e-04, -4.0153582e-03,\n",
       "        -4.3552327e-03, -2.8783231e-04,  3.7691221e-03, -4.6495590e-03,\n",
       "         1.7347686e-03, -9.9130697e-04, -4.5631863e-03, -2.2064282e-03,\n",
       "         4.8391568e-03, -1.1156721e-03, -5.4961775e-04,  2.6602987e-03,\n",
       "        -4.2042397e-03,  1.6618612e-03,  3.7425256e-03,  3.5289908e-03,\n",
       "         4.7106310e-03, -9.6841715e-04,  7.1973173e-04, -1.3420795e-04,\n",
       "         2.8721173e-03, -3.1338143e-03, -4.3488382e-03, -3.9213719e-03,\n",
       "         2.8575203e-04,  2.2397293e-03, -2.2775980e-03, -1.4125663e-03,\n",
       "         3.3400578e-03, -1.0873455e-03, -4.1866251e-03, -1.7956462e-03,\n",
       "        -2.2481231e-03, -3.6908081e-03, -7.4083077e-06,  3.9443956e-03,\n",
       "         3.2823146e-03,  8.2273921e-04, -3.2385788e-03, -5.6223042e-04,\n",
       "         1.0859282e-03, -2.1889447e-03, -3.8045463e-03,  3.0375165e-03,\n",
       "         3.5347056e-03, -1.7976767e-03,  1.7462837e-03,  1.9554805e-03,\n",
       "         3.5092917e-03, -6.4218265e-04, -3.7683183e-03, -4.0071555e-03,\n",
       "        -4.3876120e-03,  4.8440760e-03,  1.0662561e-03,  3.1584487e-03],\n",
       "       [-2.3693284e-03,  2.2285266e-03, -4.1085994e-03,  4.1090599e-03,\n",
       "        -4.9084336e-03, -4.4520437e-03, -7.6832552e-04, -4.2574611e-03,\n",
       "        -3.9410987e-03,  4.3579889e-03,  3.5380849e-03,  2.2129747e-03,\n",
       "        -3.4099277e-03, -1.1596387e-03,  1.7859827e-03,  1.7129338e-03,\n",
       "         1.5721625e-03, -8.4641259e-05,  2.7348511e-03,  2.7310285e-03,\n",
       "        -4.1742590e-03,  1.9250037e-03, -2.5602735e-03,  3.0311462e-03,\n",
       "         3.9379639e-03, -3.6657569e-03,  2.7489793e-03,  4.0378203e-04,\n",
       "        -3.3104357e-03,  3.9881645e-03, -1.5149956e-03, -2.2975327e-03,\n",
       "        -4.8651332e-03,  2.9817019e-03,  3.0816193e-03, -1.2428636e-03,\n",
       "        -4.0632905e-03, -2.2435498e-03, -8.1594172e-04, -8.8319846e-04,\n",
       "         2.4549554e-03, -4.7665336e-03, -5.6421640e-04, -4.0153582e-03,\n",
       "        -4.3552327e-03, -2.8783231e-04,  3.7691221e-03, -4.6495590e-03,\n",
       "         1.7347686e-03, -9.9130697e-04, -4.5631863e-03, -2.2064282e-03,\n",
       "         4.8391568e-03, -1.1156721e-03, -5.4961775e-04,  2.6602987e-03,\n",
       "        -4.2042397e-03,  1.6618612e-03,  3.7425256e-03,  3.5289908e-03,\n",
       "         4.7106310e-03, -9.6841715e-04,  7.1973173e-04, -1.3420795e-04,\n",
       "         2.8721173e-03, -3.1338143e-03, -4.3488382e-03, -3.9213719e-03,\n",
       "         2.8575203e-04,  2.2397293e-03, -2.2775980e-03, -1.4125663e-03,\n",
       "         3.3400578e-03, -1.0873455e-03, -4.1866251e-03, -1.7956462e-03,\n",
       "        -2.2481231e-03, -3.6908081e-03, -7.4083077e-06,  3.9443956e-03,\n",
       "         3.2823146e-03,  8.2273921e-04, -3.2385788e-03, -5.6223042e-04,\n",
       "         1.0859282e-03, -2.1889447e-03, -3.8045463e-03,  3.0375165e-03,\n",
       "         3.5347056e-03, -1.7976767e-03,  1.7462837e-03,  1.9554805e-03,\n",
       "         3.5092917e-03, -6.4218265e-04, -3.7683183e-03, -4.0071555e-03,\n",
       "        -4.3876120e-03,  4.8440760e-03,  1.0662561e-03,  3.1584487e-03],\n",
       "       [-2.3693284e-03,  2.2285266e-03, -4.1085994e-03,  4.1090599e-03,\n",
       "        -4.9084336e-03, -4.4520437e-03, -7.6832552e-04, -4.2574611e-03,\n",
       "        -3.9410987e-03,  4.3579889e-03,  3.5380849e-03,  2.2129747e-03,\n",
       "        -3.4099277e-03, -1.1596387e-03,  1.7859827e-03,  1.7129338e-03,\n",
       "         1.5721625e-03, -8.4641259e-05,  2.7348511e-03,  2.7310285e-03,\n",
       "        -4.1742590e-03,  1.9250037e-03, -2.5602735e-03,  3.0311462e-03,\n",
       "         3.9379639e-03, -3.6657569e-03,  2.7489793e-03,  4.0378203e-04,\n",
       "        -3.3104357e-03,  3.9881645e-03, -1.5149956e-03, -2.2975327e-03,\n",
       "        -4.8651332e-03,  2.9817019e-03,  3.0816193e-03, -1.2428636e-03,\n",
       "        -4.0632905e-03, -2.2435498e-03, -8.1594172e-04, -8.8319846e-04,\n",
       "         2.4549554e-03, -4.7665336e-03, -5.6421640e-04, -4.0153582e-03,\n",
       "        -4.3552327e-03, -2.8783231e-04,  3.7691221e-03, -4.6495590e-03,\n",
       "         1.7347686e-03, -9.9130697e-04, -4.5631863e-03, -2.2064282e-03,\n",
       "         4.8391568e-03, -1.1156721e-03, -5.4961775e-04,  2.6602987e-03,\n",
       "        -4.2042397e-03,  1.6618612e-03,  3.7425256e-03,  3.5289908e-03,\n",
       "         4.7106310e-03, -9.6841715e-04,  7.1973173e-04, -1.3420795e-04,\n",
       "         2.8721173e-03, -3.1338143e-03, -4.3488382e-03, -3.9213719e-03,\n",
       "         2.8575203e-04,  2.2397293e-03, -2.2775980e-03, -1.4125663e-03,\n",
       "         3.3400578e-03, -1.0873455e-03, -4.1866251e-03, -1.7956462e-03,\n",
       "        -2.2481231e-03, -3.6908081e-03, -7.4083077e-06,  3.9443956e-03,\n",
       "         3.2823146e-03,  8.2273921e-04, -3.2385788e-03, -5.6223042e-04,\n",
       "         1.0859282e-03, -2.1889447e-03, -3.8045463e-03,  3.0375165e-03,\n",
       "         3.5347056e-03, -1.7976767e-03,  1.7462837e-03,  1.9554805e-03,\n",
       "         3.5092917e-03, -6.4218265e-04, -3.7683183e-03, -4.0071555e-03,\n",
       "        -4.3876120e-03,  4.8440760e-03,  1.0662561e-03,  3.1584487e-03],\n",
       "       [ 3.9673205e-03, -3.2889210e-03,  3.7086927e-03, -3.0537243e-03,\n",
       "        -2.7091699e-03,  2.3735124e-03,  4.0567252e-03, -2.8019396e-03,\n",
       "         2.6407621e-03, -2.9780688e-03, -2.8958677e-03, -3.6291122e-03,\n",
       "        -1.4753372e-04,  1.6745386e-03,  1.8259943e-04,  8.7488414e-04,\n",
       "        -4.5652045e-03,  3.5915005e-03,  2.4522089e-03,  1.6000535e-03,\n",
       "         1.1291822e-03,  2.5705537e-03,  1.2683877e-04,  2.1420228e-03,\n",
       "         4.4339529e-04, -4.7969706e-03,  2.7336217e-03, -3.7422336e-03,\n",
       "         3.7740713e-03,  3.6108363e-03, -4.3196674e-03, -1.6043123e-03,\n",
       "        -1.2360616e-03, -3.0778258e-03, -4.7744447e-03, -3.4349938e-03,\n",
       "        -3.4124071e-03, -1.9622743e-03, -4.6287780e-03,  2.2830863e-03,\n",
       "        -4.8276251e-03, -4.0168175e-03,  4.6174549e-03, -2.1459446e-03,\n",
       "        -4.7094305e-03,  6.2895002e-04, -3.1376162e-03, -1.8819101e-03,\n",
       "        -3.8391091e-03, -7.0365664e-04,  3.7617502e-03, -1.0646011e-03,\n",
       "        -3.7402139e-04,  3.8177450e-03, -2.6287993e-03,  1.0867170e-03,\n",
       "        -1.4366680e-04, -3.5776319e-03, -2.1635031e-03,  3.3194288e-03,\n",
       "         3.7913686e-03,  1.3572982e-03, -7.3100475e-04,  2.6920575e-03,\n",
       "        -9.4731228e-04, -4.8941909e-03, -3.6057860e-03, -3.4934722e-03,\n",
       "         1.4421819e-03,  2.6332370e-03, -3.2639971e-03,  3.4466030e-03,\n",
       "         1.1202742e-03, -4.7452785e-03,  3.7474777e-03,  2.3070092e-03,\n",
       "        -1.5128871e-03,  4.0682480e-03, -2.3324187e-03,  1.6245281e-03,\n",
       "         9.1258826e-04,  4.7636977e-03, -4.9988111e-03, -3.8597586e-03,\n",
       "         3.9007764e-03, -2.8761437e-03,  1.8094543e-03, -1.7993560e-03,\n",
       "        -2.3155510e-03,  5.3027307e-04, -4.4591916e-03,  2.1412205e-03,\n",
       "        -2.5808737e-03, -4.5035160e-03, -2.2251343e-03,  3.6123767e-03,\n",
       "         4.4265939e-03, -4.3380447e-03,  1.8314599e-03, -1.0129728e-03],\n",
       "       [-2.3693284e-03,  2.2285266e-03, -4.1085994e-03,  4.1090599e-03,\n",
       "        -4.9084336e-03, -4.4520437e-03, -7.6832552e-04, -4.2574611e-03,\n",
       "        -3.9410987e-03,  4.3579889e-03,  3.5380849e-03,  2.2129747e-03,\n",
       "        -3.4099277e-03, -1.1596387e-03,  1.7859827e-03,  1.7129338e-03,\n",
       "         1.5721625e-03, -8.4641259e-05,  2.7348511e-03,  2.7310285e-03,\n",
       "        -4.1742590e-03,  1.9250037e-03, -2.5602735e-03,  3.0311462e-03,\n",
       "         3.9379639e-03, -3.6657569e-03,  2.7489793e-03,  4.0378203e-04,\n",
       "        -3.3104357e-03,  3.9881645e-03, -1.5149956e-03, -2.2975327e-03,\n",
       "        -4.8651332e-03,  2.9817019e-03,  3.0816193e-03, -1.2428636e-03,\n",
       "        -4.0632905e-03, -2.2435498e-03, -8.1594172e-04, -8.8319846e-04,\n",
       "         2.4549554e-03, -4.7665336e-03, -5.6421640e-04, -4.0153582e-03,\n",
       "        -4.3552327e-03, -2.8783231e-04,  3.7691221e-03, -4.6495590e-03,\n",
       "         1.7347686e-03, -9.9130697e-04, -4.5631863e-03, -2.2064282e-03,\n",
       "         4.8391568e-03, -1.1156721e-03, -5.4961775e-04,  2.6602987e-03,\n",
       "        -4.2042397e-03,  1.6618612e-03,  3.7425256e-03,  3.5289908e-03,\n",
       "         4.7106310e-03, -9.6841715e-04,  7.1973173e-04, -1.3420795e-04,\n",
       "         2.8721173e-03, -3.1338143e-03, -4.3488382e-03, -3.9213719e-03,\n",
       "         2.8575203e-04,  2.2397293e-03, -2.2775980e-03, -1.4125663e-03,\n",
       "         3.3400578e-03, -1.0873455e-03, -4.1866251e-03, -1.7956462e-03,\n",
       "        -2.2481231e-03, -3.6908081e-03, -7.4083077e-06,  3.9443956e-03,\n",
       "         3.2823146e-03,  8.2273921e-04, -3.2385788e-03, -5.6223042e-04,\n",
       "         1.0859282e-03, -2.1889447e-03, -3.8045463e-03,  3.0375165e-03,\n",
       "         3.5347056e-03, -1.7976767e-03,  1.7462837e-03,  1.9554805e-03,\n",
       "         3.5092917e-03, -6.4218265e-04, -3.7683183e-03, -4.0071555e-03,\n",
       "        -4.3876120e-03,  4.8440760e-03,  1.0662561e-03,  3.1584487e-03],\n",
       "       [-2.3693284e-03,  2.2285266e-03, -4.1085994e-03,  4.1090599e-03,\n",
       "        -4.9084336e-03, -4.4520437e-03, -7.6832552e-04, -4.2574611e-03,\n",
       "        -3.9410987e-03,  4.3579889e-03,  3.5380849e-03,  2.2129747e-03,\n",
       "        -3.4099277e-03, -1.1596387e-03,  1.7859827e-03,  1.7129338e-03,\n",
       "         1.5721625e-03, -8.4641259e-05,  2.7348511e-03,  2.7310285e-03,\n",
       "        -4.1742590e-03,  1.9250037e-03, -2.5602735e-03,  3.0311462e-03,\n",
       "         3.9379639e-03, -3.6657569e-03,  2.7489793e-03,  4.0378203e-04,\n",
       "        -3.3104357e-03,  3.9881645e-03, -1.5149956e-03, -2.2975327e-03,\n",
       "        -4.8651332e-03,  2.9817019e-03,  3.0816193e-03, -1.2428636e-03,\n",
       "        -4.0632905e-03, -2.2435498e-03, -8.1594172e-04, -8.8319846e-04,\n",
       "         2.4549554e-03, -4.7665336e-03, -5.6421640e-04, -4.0153582e-03,\n",
       "        -4.3552327e-03, -2.8783231e-04,  3.7691221e-03, -4.6495590e-03,\n",
       "         1.7347686e-03, -9.9130697e-04, -4.5631863e-03, -2.2064282e-03,\n",
       "         4.8391568e-03, -1.1156721e-03, -5.4961775e-04,  2.6602987e-03,\n",
       "        -4.2042397e-03,  1.6618612e-03,  3.7425256e-03,  3.5289908e-03,\n",
       "         4.7106310e-03, -9.6841715e-04,  7.1973173e-04, -1.3420795e-04,\n",
       "         2.8721173e-03, -3.1338143e-03, -4.3488382e-03, -3.9213719e-03,\n",
       "         2.8575203e-04,  2.2397293e-03, -2.2775980e-03, -1.4125663e-03,\n",
       "         3.3400578e-03, -1.0873455e-03, -4.1866251e-03, -1.7956462e-03,\n",
       "        -2.2481231e-03, -3.6908081e-03, -7.4083077e-06,  3.9443956e-03,\n",
       "         3.2823146e-03,  8.2273921e-04, -3.2385788e-03, -5.6223042e-04,\n",
       "         1.0859282e-03, -2.1889447e-03, -3.8045463e-03,  3.0375165e-03,\n",
       "         3.5347056e-03, -1.7976767e-03,  1.7462837e-03,  1.9554805e-03,\n",
       "         3.5092917e-03, -6.4218265e-04, -3.7683183e-03, -4.0071555e-03,\n",
       "        -4.3876120e-03,  4.8440760e-03,  1.0662561e-03,  3.1584487e-03],\n",
       "       [-2.3693284e-03,  2.2285266e-03, -4.1085994e-03,  4.1090599e-03,\n",
       "        -4.9084336e-03, -4.4520437e-03, -7.6832552e-04, -4.2574611e-03,\n",
       "        -3.9410987e-03,  4.3579889e-03,  3.5380849e-03,  2.2129747e-03,\n",
       "        -3.4099277e-03, -1.1596387e-03,  1.7859827e-03,  1.7129338e-03,\n",
       "         1.5721625e-03, -8.4641259e-05,  2.7348511e-03,  2.7310285e-03,\n",
       "        -4.1742590e-03,  1.9250037e-03, -2.5602735e-03,  3.0311462e-03,\n",
       "         3.9379639e-03, -3.6657569e-03,  2.7489793e-03,  4.0378203e-04,\n",
       "        -3.3104357e-03,  3.9881645e-03, -1.5149956e-03, -2.2975327e-03,\n",
       "        -4.8651332e-03,  2.9817019e-03,  3.0816193e-03, -1.2428636e-03,\n",
       "        -4.0632905e-03, -2.2435498e-03, -8.1594172e-04, -8.8319846e-04,\n",
       "         2.4549554e-03, -4.7665336e-03, -5.6421640e-04, -4.0153582e-03,\n",
       "        -4.3552327e-03, -2.8783231e-04,  3.7691221e-03, -4.6495590e-03,\n",
       "         1.7347686e-03, -9.9130697e-04, -4.5631863e-03, -2.2064282e-03,\n",
       "         4.8391568e-03, -1.1156721e-03, -5.4961775e-04,  2.6602987e-03,\n",
       "        -4.2042397e-03,  1.6618612e-03,  3.7425256e-03,  3.5289908e-03,\n",
       "         4.7106310e-03, -9.6841715e-04,  7.1973173e-04, -1.3420795e-04,\n",
       "         2.8721173e-03, -3.1338143e-03, -4.3488382e-03, -3.9213719e-03,\n",
       "         2.8575203e-04,  2.2397293e-03, -2.2775980e-03, -1.4125663e-03,\n",
       "         3.3400578e-03, -1.0873455e-03, -4.1866251e-03, -1.7956462e-03,\n",
       "        -2.2481231e-03, -3.6908081e-03, -7.4083077e-06,  3.9443956e-03,\n",
       "         3.2823146e-03,  8.2273921e-04, -3.2385788e-03, -5.6223042e-04,\n",
       "         1.0859282e-03, -2.1889447e-03, -3.8045463e-03,  3.0375165e-03,\n",
       "         3.5347056e-03, -1.7976767e-03,  1.7462837e-03,  1.9554805e-03,\n",
       "         3.5092917e-03, -6.4218265e-04, -3.7683183e-03, -4.0071555e-03,\n",
       "        -4.3876120e-03,  4.8440760e-03,  1.0662561e-03,  3.1584487e-03]],\n",
       "      dtype=float32)"
      ]
     },
     "execution_count": 111,
     "metadata": {
      "tags": []
     },
     "output_type": "execute_result"
    }
   ],
   "source": [
    "# Unaveraged version...\n",
    "X_train_w2v_vect[0]"
   ]
  },
  {
   "cell_type": "code",
   "execution_count": 112,
   "metadata": {
    "colab": {
     "base_uri": "https://localhost:8080/"
    },
    "id": "NjaGlCkif28s",
    "outputId": "c58a4136-f550-4ab6-e558-bb9e4467c7cf"
   },
   "outputs": [
    {
     "data": {
      "text/plain": [
       "array([-2.3693284e-03,  2.2285266e-03, -4.1085994e-03,  4.1090599e-03,\n",
       "       -4.9084336e-03, -4.4520437e-03, -7.6832552e-04, -4.2574611e-03,\n",
       "       -3.9410987e-03,  4.3579889e-03,  3.5380849e-03,  2.2129747e-03,\n",
       "       -3.4099277e-03, -1.1596387e-03,  1.7859827e-03,  1.7129338e-03,\n",
       "        1.5721625e-03, -8.4641259e-05,  2.7348511e-03,  2.7310285e-03,\n",
       "       -4.1742590e-03,  1.9250037e-03, -2.5602735e-03,  3.0311462e-03,\n",
       "        3.9379639e-03, -3.6657569e-03,  2.7489793e-03,  4.0378203e-04,\n",
       "       -3.3104357e-03,  3.9881645e-03, -1.5149956e-03, -2.2975327e-03,\n",
       "       -4.8651332e-03,  2.9817019e-03,  3.0816193e-03, -1.2428636e-03,\n",
       "       -4.0632905e-03, -2.2435498e-03, -8.1594172e-04, -8.8319846e-04,\n",
       "        2.4549554e-03, -4.7665336e-03, -5.6421640e-04, -4.0153582e-03,\n",
       "       -4.3552327e-03, -2.8783231e-04,  3.7691221e-03, -4.6495590e-03,\n",
       "        1.7347686e-03, -9.9130697e-04, -4.5631863e-03, -2.2064282e-03,\n",
       "        4.8391568e-03, -1.1156721e-03, -5.4961775e-04,  2.6602987e-03,\n",
       "       -4.2042397e-03,  1.6618612e-03,  3.7425256e-03,  3.5289908e-03,\n",
       "        4.7106310e-03, -9.6841715e-04,  7.1973173e-04, -1.3420795e-04,\n",
       "        2.8721173e-03, -3.1338143e-03, -4.3488382e-03, -3.9213719e-03,\n",
       "        2.8575203e-04,  2.2397293e-03, -2.2775980e-03, -1.4125663e-03,\n",
       "        3.3400578e-03, -1.0873455e-03, -4.1866251e-03, -1.7956462e-03,\n",
       "       -2.2481231e-03, -3.6908081e-03, -7.4083077e-06,  3.9443956e-03,\n",
       "        3.2823146e-03,  8.2273921e-04, -3.2385788e-03, -5.6223042e-04,\n",
       "        1.0859282e-03, -2.1889447e-03, -3.8045463e-03,  3.0375165e-03,\n",
       "        3.5347056e-03, -1.7976767e-03,  1.7462837e-03,  1.9554805e-03,\n",
       "        3.5092917e-03, -6.4218265e-04, -3.7683183e-03, -4.0071555e-03,\n",
       "       -4.3876120e-03,  4.8440760e-03,  1.0662561e-03,  3.1584487e-03],\n",
       "      dtype=float32)"
      ]
     },
     "execution_count": 112,
     "metadata": {
      "tags": []
     },
     "output_type": "execute_result"
    }
   ],
   "source": [
    "# Averaged Version..\n",
    "X_test_w2v_vect_avg[0]"
   ]
  },
  {
   "cell_type": "markdown",
   "metadata": {
    "id": "jGY-Ml9rgj1L"
   },
   "source": [
    "## Fit a RandomForest Model on top of Word2Vec vectors"
   ]
  },
  {
   "cell_type": "code",
   "execution_count": 113,
   "metadata": {
    "id": "pJtoa_ZNgoBD"
   },
   "outputs": [],
   "source": [
    "model_rf_w2v = RandomForestClassifier()"
   ]
  },
  {
   "cell_type": "code",
   "execution_count": 114,
   "metadata": {
    "colab": {
     "base_uri": "https://localhost:8080/"
    },
    "id": "za9fvrikgwSM",
    "outputId": "9000684e-de0c-4c9e-caa4-828b898a835d"
   },
   "outputs": [
    {
     "data": {
      "text/plain": [
       "RandomForestClassifier(bootstrap=True, ccp_alpha=0.0, class_weight=None,\n",
       "                       criterion='gini', max_depth=None, max_features='auto',\n",
       "                       max_leaf_nodes=None, max_samples=None,\n",
       "                       min_impurity_decrease=0.0, min_impurity_split=None,\n",
       "                       min_samples_leaf=1, min_samples_split=2,\n",
       "                       min_weight_fraction_leaf=0.0, n_estimators=100,\n",
       "                       n_jobs=None, oob_score=False, random_state=None,\n",
       "                       verbose=0, warm_start=False)"
      ]
     },
     "execution_count": 114,
     "metadata": {
      "tags": []
     },
     "output_type": "execute_result"
    }
   ],
   "source": [
    "model_rf_w2v"
   ]
  },
  {
   "cell_type": "code",
   "execution_count": 115,
   "metadata": {
    "id": "_JLwfHZLgzWO"
   },
   "outputs": [],
   "source": [
    "# Fit the model\n",
    "model_rf_w2v = model_rf_w2v.fit(X_train_w2v_vect_avg, y_train.values.ravel())"
   ]
  },
  {
   "cell_type": "code",
   "execution_count": 116,
   "metadata": {
    "id": "zJGwTZ7Gg_IW"
   },
   "outputs": [],
   "source": [
    "# perform predictions on the test set...\n",
    "y_pred = model_rf_w2v.predict(X_test_w2v_vect_avg)"
   ]
  },
  {
   "cell_type": "code",
   "execution_count": 124,
   "metadata": {
    "colab": {
     "base_uri": "https://localhost:8080/"
    },
    "id": "z-ivQ3-YhJEY",
    "outputId": "2945562d-ff80-4db0-c5ac-363267c8ad6f"
   },
   "outputs": [
    {
     "name": "stdout",
     "output_type": "stream",
     "text": [
      "Accuracy : 0.8780269058295964 / Precision : 0.5194805194805194 / Recall : 0.28776978417266186\n"
     ]
    }
   ],
   "source": [
    "# Evaluate the model...\n",
    "accuracy_w2v = accuracy_score(y_test, y_pred)\n",
    "precision_w2v = precision_score(y_test, y_pred)\n",
    "recall_w2v = recall_score(y_test, y_pred)\n",
    "\n",
    "print('Accuracy : {} / Precision : {} / Recall : {}'.format(accuracy_w2v, precision_w2v, recall_w2v))"
   ]
  },
  {
   "cell_type": "code",
   "execution_count": 125,
   "metadata": {
    "colab": {
     "base_uri": "https://localhost:8080/"
    },
    "id": "-BTpuItXhQhr",
    "outputId": "569095f4-96d0-44f4-bafd-7b3659797e5a"
   },
   "outputs": [
    {
     "name": "stdout",
     "output_type": "stream",
     "text": [
      "Classification Report is : \n",
      "              precision    recall  f1-score   support\n",
      "\n",
      "           0       0.90      0.96      0.93       976\n",
      "           1       0.52      0.29      0.37       139\n",
      "\n",
      "    accuracy                           0.88      1115\n",
      "   macro avg       0.71      0.62      0.65      1115\n",
      "weighted avg       0.86      0.88      0.86      1115\n",
      "\n"
     ]
    }
   ],
   "source": [
    "print(\"Classification Report is : \")\n",
    "print(classification_report(y_test, y_pred))"
   ]
  },
  {
   "cell_type": "markdown",
   "metadata": {
    "id": "sKcrz4pph92p"
   },
   "source": [
    "## Using Doc2Vec on the Words"
   ]
  },
  {
   "cell_type": "code",
   "execution_count": 131,
   "metadata": {
    "id": "iJshDPshiA0n"
   },
   "outputs": [],
   "source": [
    "# Create TaggedDocument vectors for each text message...\n",
    "tagged_docs_train = [TaggedDocument(value, [index])\n",
    "                     for index,value in enumerate(X_train['clean_text'])]\n",
    "\n",
    "tagged_docs_test = [TaggedDocument(value, [index])\n",
    "                    for index,value in enumerate(X_test['clean_text'])]\n"
   ]
  },
  {
   "cell_type": "code",
   "execution_count": 134,
   "metadata": {
    "colab": {
     "base_uri": "https://localhost:8080/"
    },
    "id": "cCJu88HihtVt",
    "outputId": "7e7e59be-4469-4354-a58b-42079c8b0aa2"
   },
   "outputs": [
    {
     "name": "stdout",
     "output_type": "stream",
     "text": [
      "Tagged Documents train : \n",
      "TaggedDocument(['good', 'morning', 'boytoy', 'hows', 'yummy', 'lips', 'wheres', 'sexy', 'buns', 'think', 'crave', 'need'], [0])\n",
      "\n",
      "Tagged Documents test : \n",
      "TaggedDocument(['sad', 'puppy', 'noise'], [0])\n"
     ]
    }
   ],
   "source": [
    "print(\"Tagged Documents train : \")\n",
    "print(tagged_docs_train[0])\n",
    "print()\n",
    "print(\"Tagged Documents test : \")\n",
    "print(tagged_docs_test[0])"
   ]
  },
  {
   "cell_type": "code",
   "execution_count": 135,
   "metadata": {
    "id": "u97Kp_t3jd-X"
   },
   "outputs": [],
   "source": [
    "# Create a basic Doc2Vec Model...\n",
    "model_d2v = Doc2Vec(tagged_docs_train,\n",
    "                    vector_size=100,\n",
    "                    window=5,\n",
    "                    min_count=2)"
   ]
  },
  {
   "cell_type": "code",
   "execution_count": 136,
   "metadata": {
    "colab": {
     "base_uri": "https://localhost:8080/"
    },
    "id": "edvn7lx6j8bP",
    "outputId": "3ce9e966-0fae-405d-8692-90053a01beed"
   },
   "outputs": [
    {
     "data": {
      "text/plain": [
       "<gensim.models.doc2vec.Doc2Vec at 0x7fe8159a8250>"
      ]
     },
     "execution_count": 136,
     "metadata": {
      "tags": []
     },
     "output_type": "execute_result"
    }
   ],
   "source": [
    "model_d2v"
   ]
  },
  {
   "cell_type": "code",
   "execution_count": 138,
   "metadata": {
    "id": "1x5Mkxq3j_Or"
   },
   "outputs": [],
   "source": [
    "# Infer the vectors used for training and testing...\n",
    "train_vectors = [model_d2v.infer_vector(eval(v.words)) for v in tagged_docs_train]\n",
    "test_vectors = [model_d2v.infer_vector(eval(v.words)) for v in tagged_docs_test]"
   ]
  },
  {
   "cell_type": "code",
   "execution_count": 140,
   "metadata": {
    "colab": {
     "base_uri": "https://localhost:8080/"
    },
    "id": "VIgzSP5vki5a",
    "outputId": "ab2f6f18-77a0-43bf-d16c-681c47d234fc"
   },
   "outputs": [
    {
     "data": {
      "text/plain": [
       "array([-6.4364285e-04,  4.6261074e-03,  1.8556172e-03,  4.8709996e-03,\n",
       "       -1.8496261e-03,  3.2621963e-04,  4.9107512e-03, -8.0680847e-04,\n",
       "       -4.7761663e-03,  9.4222679e-04,  3.1384919e-03,  1.6797542e-03,\n",
       "       -1.2730603e-03,  1.2740277e-03, -4.9537127e-03,  4.2067636e-03,\n",
       "        3.0988716e-03,  2.8859929e-03,  4.3520066e-03,  5.6504534e-04,\n",
       "        2.6557685e-04,  1.1517146e-03, -5.4195814e-05, -4.2654998e-03,\n",
       "       -2.0437439e-03,  4.8320037e-03, -4.1040825e-04,  3.8081161e-03,\n",
       "        2.9249690e-04, -3.4781304e-04, -4.1545681e-03,  3.6903878e-03,\n",
       "        1.2648649e-03, -7.2829227e-04,  1.0390483e-03, -2.1225230e-03,\n",
       "        4.2112055e-03,  2.0421813e-04, -2.3046290e-04, -4.5832484e-03,\n",
       "        1.0644912e-03, -2.4461460e-03, -2.3601397e-03,  3.9623007e-03,\n",
       "        3.1569437e-03,  2.3533644e-03,  1.2258058e-05, -4.5949887e-03,\n",
       "       -7.0610322e-04,  2.0112523e-03, -1.6218674e-03,  3.9145602e-03,\n",
       "        3.8287069e-03,  4.6158242e-03,  4.4189123e-03, -1.8944913e-03,\n",
       "        3.0603656e-04, -2.3198843e-03, -1.2454864e-03, -3.3075376e-03,\n",
       "        9.1131072e-04, -8.8295148e-04,  3.8999724e-03,  1.7870383e-03,\n",
       "        2.7467832e-03, -1.2502278e-03, -2.9072566e-03, -3.2315969e-03,\n",
       "        1.7121402e-03, -2.1483025e-03,  4.0863524e-03,  2.6746036e-03,\n",
       "        7.4900826e-04,  4.0251152e-03, -2.3137385e-03, -7.1980525e-04,\n",
       "       -7.4350006e-05,  8.3606114e-04, -1.8934397e-03, -3.2689625e-03,\n",
       "       -2.5238306e-03,  1.1182851e-03, -4.6536252e-03,  1.6190060e-03,\n",
       "       -2.5141453e-03,  2.8360193e-03, -4.4126944e-03,  1.0306756e-03,\n",
       "        3.9365599e-03, -2.8611319e-03,  9.5414580e-04,  4.4594933e-03,\n",
       "       -3.1251069e-03, -9.2396064e-04,  4.3642703e-03, -1.6777104e-03,\n",
       "       -4.9598333e-03,  4.0179938e-03, -3.0124272e-04, -4.0994482e-03],\n",
       "      dtype=float32)"
      ]
     },
     "execution_count": 140,
     "metadata": {
      "tags": []
     },
     "output_type": "execute_result"
    }
   ],
   "source": [
    "train_vectors[0]"
   ]
  },
  {
   "cell_type": "code",
   "execution_count": 141,
   "metadata": {
    "colab": {
     "base_uri": "https://localhost:8080/"
    },
    "id": "STh16EcTkJHZ",
    "outputId": "3a4a34a3-4ea2-4b50-9e5c-ca2dff583c2c"
   },
   "outputs": [
    {
     "data": {
      "text/plain": [
       "array([ 2.6803371e-03,  4.0571289e-03,  1.8364345e-03,  2.8927259e-03,\n",
       "       -3.0633351e-03, -2.1365611e-03, -4.3111076e-03, -3.3641793e-03,\n",
       "        3.8131853e-03,  1.7676924e-03,  2.6718280e-03, -4.3055774e-03,\n",
       "        4.6137325e-03,  2.1877398e-03, -4.5160777e-03, -8.0592639e-05,\n",
       "        4.9405498e-03, -4.7513116e-03,  2.2956766e-03,  7.0199365e-04,\n",
       "        2.9530334e-03, -4.4074324e-03, -4.9090702e-03,  4.3267943e-04,\n",
       "        2.8475688e-03, -3.2575985e-03,  1.3199277e-03,  3.5476277e-03,\n",
       "        1.0746232e-04, -2.6160993e-03, -2.2112462e-03,  2.9191053e-03,\n",
       "       -4.8404536e-03, -2.4673119e-03,  3.6368240e-03,  3.6988275e-03,\n",
       "        1.7806542e-03,  4.4657290e-03,  3.4703305e-03,  8.5895485e-04,\n",
       "        3.5401206e-03,  7.2058354e-04, -2.6125482e-03, -3.0131091e-03,\n",
       "        3.0105370e-03,  3.4251250e-03, -1.5736334e-03, -3.3672235e-03,\n",
       "        1.4802187e-03,  3.2815062e-03, -1.0033885e-03, -1.6034199e-03,\n",
       "        4.4735004e-03, -3.8330903e-04,  2.6824910e-03, -4.7764978e-03,\n",
       "        2.7320082e-03, -1.7022003e-03, -2.6274524e-03, -3.7188821e-03,\n",
       "        2.0722058e-03,  1.0532523e-03, -5.6394871e-05, -3.9691930e-03,\n",
       "       -9.8229863e-04, -1.3281871e-03, -2.9707444e-03,  1.8206721e-03,\n",
       "       -2.6488397e-03,  3.0874258e-03,  4.2372267e-03, -7.8314578e-04,\n",
       "       -1.0395372e-04, -3.7668219e-03,  4.6487539e-03, -2.2159854e-03,\n",
       "        1.0442564e-03,  3.2111036e-03,  9.4682175e-05, -3.2120859e-03,\n",
       "        3.5428032e-03, -4.2187437e-04,  2.1922078e-03, -8.5488042e-05,\n",
       "       -6.6003826e-04, -8.9588546e-04, -1.1880109e-03,  8.7606092e-04,\n",
       "       -6.0144946e-04, -2.6093586e-03,  3.0338978e-03, -3.9301962e-03,\n",
       "        1.4583481e-03, -7.6211360e-04, -8.5336744e-04, -3.7773792e-04,\n",
       "        2.6398182e-03,  1.0232857e-03,  3.5496261e-03, -1.4256805e-03],\n",
       "      dtype=float32)"
      ]
     },
     "execution_count": 141,
     "metadata": {
      "tags": []
     },
     "output_type": "execute_result"
    }
   ],
   "source": [
    "test_vectors[0]"
   ]
  },
  {
   "cell_type": "markdown",
   "metadata": {
    "id": "wbITBWvckzmv"
   },
   "source": [
    "## Fit a RandomForest Model on the Doc2Vec Vectors"
   ]
  },
  {
   "cell_type": "code",
   "execution_count": 142,
   "metadata": {
    "id": "rhY3ksMSk5au"
   },
   "outputs": [],
   "source": [
    "model_rf_d2v = RandomForestClassifier()"
   ]
  },
  {
   "cell_type": "code",
   "execution_count": 143,
   "metadata": {
    "colab": {
     "base_uri": "https://localhost:8080/"
    },
    "id": "oC8WkatUf66A",
    "outputId": "dd1daa7d-1b4b-443b-8285-5d9b2d818ba1"
   },
   "outputs": [
    {
     "data": {
      "text/plain": [
       "RandomForestClassifier(bootstrap=True, ccp_alpha=0.0, class_weight=None,\n",
       "                       criterion='gini', max_depth=None, max_features='auto',\n",
       "                       max_leaf_nodes=None, max_samples=None,\n",
       "                       min_impurity_decrease=0.0, min_impurity_split=None,\n",
       "                       min_samples_leaf=1, min_samples_split=2,\n",
       "                       min_weight_fraction_leaf=0.0, n_estimators=100,\n",
       "                       n_jobs=None, oob_score=False, random_state=None,\n",
       "                       verbose=0, warm_start=False)"
      ]
     },
     "execution_count": 143,
     "metadata": {
      "tags": []
     },
     "output_type": "execute_result"
    }
   ],
   "source": [
    "model_rf_d2v"
   ]
  },
  {
   "cell_type": "code",
   "execution_count": 144,
   "metadata": {
    "id": "tIfN2vKJPQqu"
   },
   "outputs": [],
   "source": [
    "# Fit the model...\n",
    "model_rf_d2v = model_rf_d2v.fit(train_vectors, y_train.values.ravel())"
   ]
  },
  {
   "cell_type": "code",
   "execution_count": 145,
   "metadata": {
    "id": "z7XSgbialMVl"
   },
   "outputs": [],
   "source": [
    "# Perform Predictions on the testset..\n",
    "y_pred = model_rf_d2v.predict(test_vectors)"
   ]
  },
  {
   "cell_type": "code",
   "execution_count": 146,
   "metadata": {
    "colab": {
     "base_uri": "https://localhost:8080/"
    },
    "id": "1WHerkbrlWFw",
    "outputId": "b48910dd-36e9-445f-a764-69f0030e4c44"
   },
   "outputs": [
    {
     "name": "stdout",
     "output_type": "stream",
     "text": [
      "Accuracy : 0.8923766816143498 / Precision : 0.88 / Recall : 0.15827338129496402\n"
     ]
    }
   ],
   "source": [
    "# Evaluate the model...\n",
    "accuracy_d2v = accuracy_score(y_test, y_pred)\n",
    "precision_d2v = precision_score(y_test, y_pred)\n",
    "recall_d2v = recall_score(y_test, y_pred)\n",
    "\n",
    "print('Accuracy : {} / Precision : {} / Recall : {}'.format(accuracy_d2v, precision_d2v, recall_d2v))"
   ]
  },
  {
   "cell_type": "code",
   "execution_count": 147,
   "metadata": {
    "colab": {
     "base_uri": "https://localhost:8080/"
    },
    "id": "oxWcA4cNO5nM",
    "outputId": "4ec93187-1e7b-462a-8bab-024518dc1869"
   },
   "outputs": [
    {
     "name": "stdout",
     "output_type": "stream",
     "text": [
      "The Classification Report is : \n",
      "              precision    recall  f1-score   support\n",
      "\n",
      "           0       0.89      1.00      0.94       976\n",
      "           1       0.88      0.16      0.27       139\n",
      "\n",
      "    accuracy                           0.89      1115\n",
      "   macro avg       0.89      0.58      0.61      1115\n",
      "weighted avg       0.89      0.89      0.86      1115\n",
      "\n"
     ]
    }
   ],
   "source": [
    "print(\"The Classification Report is : \")\n",
    "print(classification_report(y_test, y_pred))"
   ]
  },
  {
   "cell_type": "markdown",
   "metadata": {
    "id": "CFQWABHsmHNx"
   },
   "source": [
    "## Build an RNN Model.."
   ]
  },
  {
   "cell_type": "code",
   "execution_count": 148,
   "metadata": {
    "id": "1iGvuw73mLph"
   },
   "outputs": [],
   "source": [
    "# Train the tokenizer and use the tokenizer to convert the words into sequence of numbers...\n",
    "tokenizer = Tokenizer()"
   ]
  },
  {
   "cell_type": "code",
   "execution_count": 149,
   "metadata": {
    "id": "FBWfj0hpmgYv"
   },
   "outputs": [],
   "source": [
    "tokenizer.fit_on_texts(X_train['clean_text'])\n",
    "X_train_seq = tokenizer.texts_to_sequences(X_train['clean_text'])\n",
    "X_test_seq = tokenizer.texts_to_sequences(X_test['clean_text'])"
   ]
  },
  {
   "cell_type": "code",
   "execution_count": 150,
   "metadata": {
    "id": "TAwe3m-Dl1sO"
   },
   "outputs": [],
   "source": [
    "# Pad the sequence of words to optimize them to fixed length...\n",
    "X_train_seq_padded = pad_sequences(X_train_seq, 50)\n",
    "X_test_seq_padded = pad_sequences(X_test_seq, 50)"
   ]
  },
  {
   "cell_type": "markdown",
   "metadata": {
    "id": "pYrJl0yDnXBB"
   },
   "source": [
    "### Build and evaluate RNN"
   ]
  },
  {
   "cell_type": "code",
   "execution_count": 153,
   "metadata": {
    "id": "S8QBmoJqnaMg"
   },
   "outputs": [],
   "source": [
    "# Prepare the model metrics...\n",
    "def recall_m(y_true, y_pred):\n",
    "    true_positives = K.sum(K.round(K.clip(y_true * y_pred, 0, 1)))\n",
    "    possible_positives = K.sum(K.round(K.clip(y_true,0,1)))\n",
    "    recall_score = true_positives / (possible_positives + K.epsilon())\n",
    "\n",
    "    return recall_score\n",
    "\n",
    "def precision_m(y_true, y_pred):\n",
    "    true_positives = K.sum(K.round(K.clip(y_true * y_pred, 0, 1)))\n",
    "    predicted_positives = K.sum(K.round(K.clip(y_true,0,1)))\n",
    "    precision_score = true_positives / (predicted_positives + K.epsilon())\n",
    "\n",
    "    return precision_score\n"
   ]
  },
  {
   "cell_type": "code",
   "execution_count": 154,
   "metadata": {
    "colab": {
     "base_uri": "https://localhost:8080/"
    },
    "id": "w4ZZXbqjn4R-",
    "outputId": "dce5e302-59a9-4cfc-fbe4-730a2ed19873"
   },
   "outputs": [
    {
     "data": {
      "text/plain": [
       "<keras.engine.sequential.Sequential at 0x7fe8133e3350>"
      ]
     },
     "execution_count": 154,
     "metadata": {
      "tags": []
     },
     "output_type": "execute_result"
    }
   ],
   "source": [
    "# Construct a Simple RNN Model\n",
    "model_rnn = Sequential()\n",
    "model_rnn"
   ]
  },
  {
   "cell_type": "code",
   "execution_count": 155,
   "metadata": {
    "colab": {
     "base_uri": "https://localhost:8080/"
    },
    "id": "5aUazaAYoAyL",
    "outputId": "3edd6c9a-431f-4297-b168-61d1011440a9"
   },
   "outputs": [
    {
     "name": "stdout",
     "output_type": "stream",
     "text": [
      "Model: \"sequential\"\n",
      "_________________________________________________________________\n",
      "Layer (type)                 Output Shape              Param #   \n",
      "=================================================================\n",
      "embedding (Embedding)        (None, None, 32)          267136    \n",
      "_________________________________________________________________\n",
      "lstm (LSTM)                  (None, 32)                8320      \n",
      "_________________________________________________________________\n",
      "dense (Dense)                (None, 32)                1056      \n",
      "_________________________________________________________________\n",
      "dense_1 (Dense)              (None, 1)                 33        \n",
      "=================================================================\n",
      "Total params: 276,545\n",
      "Trainable params: 276,545\n",
      "Non-trainable params: 0\n",
      "_________________________________________________________________\n"
     ]
    }
   ],
   "source": [
    "# create different types of Embeddings...\n",
    "model_rnn.add(Embedding(len(tokenizer.index_word)+1, 32))\n",
    "model_rnn.add(LSTM(32, dropout=0, recurrent_dropout=0))\n",
    "model_rnn.add(Dense(32, activation='relu'))\n",
    "model_rnn.add(Dense(1, activation='sigmoid'))\n",
    "model_rnn.summary()"
   ]
  },
  {
   "cell_type": "code",
   "execution_count": 156,
   "metadata": {
    "id": "5W5lj8PjnTv9"
   },
   "outputs": [],
   "source": [
    "# Compile the model...\n",
    "model_rnn.compile(optimizer='adam',\n",
    "                 loss='binary_crossentropy',\n",
    "                 metrics = ['accuracy', precision_m, recall_m])"
   ]
  },
  {
   "cell_type": "code",
   "execution_count": 158,
   "metadata": {
    "colab": {
     "base_uri": "https://localhost:8080/"
    },
    "id": "T4AnaPZnN6MA",
    "outputId": "1f72bc06-0f24-4413-e2a8-44ad42780a6a"
   },
   "outputs": [
    {
     "name": "stdout",
     "output_type": "stream",
     "text": [
      "Epoch 1/10\n",
      "140/140 [==============================] - 25s 34ms/step - loss: 0.4074 - accuracy: 0.8689 - precision_m: 0.0989 - recall_m: 0.0989 - val_loss: 0.0874 - val_accuracy: 0.9830 - val_precision_m: 0.8831 - val_recall_m: 0.8831\n",
      "Epoch 2/10\n",
      "140/140 [==============================] - 4s 27ms/step - loss: 0.0398 - accuracy: 0.9924 - precision_m: 0.9355 - recall_m: 0.9355 - val_loss: 0.0674 - val_accuracy: 0.9794 - val_precision_m: 0.8738 - val_recall_m: 0.8738\n",
      "Epoch 3/10\n",
      "140/140 [==============================] - 4s 27ms/step - loss: 0.0090 - accuracy: 0.9981 - precision_m: 0.9900 - recall_m: 0.9900 - val_loss: 0.0710 - val_accuracy: 0.9812 - val_precision_m: 0.8928 - val_recall_m: 0.8928\n",
      "Epoch 4/10\n",
      "140/140 [==============================] - 4s 27ms/step - loss: 0.0029 - accuracy: 0.9996 - precision_m: 0.9867 - recall_m: 0.9867 - val_loss: 0.0900 - val_accuracy: 0.9812 - val_precision_m: 0.9023 - val_recall_m: 0.9023\n",
      "Epoch 5/10\n",
      "140/140 [==============================] - 4s 27ms/step - loss: 6.7336e-04 - accuracy: 0.9999 - precision_m: 0.9830 - recall_m: 0.9830 - val_loss: 0.1049 - val_accuracy: 0.9758 - val_precision_m: 0.8312 - val_recall_m: 0.8312\n",
      "Epoch 6/10\n",
      "140/140 [==============================] - 4s 28ms/step - loss: 0.0013 - accuracy: 0.9997 - precision_m: 0.9983 - recall_m: 0.9983 - val_loss: 0.1142 - val_accuracy: 0.9812 - val_precision_m: 0.8880 - val_recall_m: 0.8880\n",
      "Epoch 7/10\n",
      "140/140 [==============================] - 4s 27ms/step - loss: 1.1279e-04 - accuracy: 1.0000 - precision_m: 0.9864 - recall_m: 0.9864 - val_loss: 0.1103 - val_accuracy: 0.9821 - val_precision_m: 0.9023 - val_recall_m: 0.9023\n",
      "Epoch 8/10\n",
      "140/140 [==============================] - 4s 28ms/step - loss: 1.1706e-04 - accuracy: 1.0000 - precision_m: 1.0000 - recall_m: 1.0000 - val_loss: 0.1291 - val_accuracy: 0.9794 - val_precision_m: 0.8738 - val_recall_m: 0.8738\n",
      "Epoch 9/10\n",
      "140/140 [==============================] - 4s 27ms/step - loss: 5.6326e-05 - accuracy: 1.0000 - precision_m: 0.9999 - recall_m: 0.9999 - val_loss: 0.1224 - val_accuracy: 0.9821 - val_precision_m: 0.9023 - val_recall_m: 0.9023\n",
      "Epoch 10/10\n",
      "140/140 [==============================] - 4s 28ms/step - loss: 5.7561e-05 - accuracy: 1.0000 - precision_m: 0.9961 - recall_m: 0.9961 - val_loss: 0.1332 - val_accuracy: 0.9803 - val_precision_m: 0.8880 - val_recall_m: 0.8880\n"
     ]
    }
   ],
   "source": [
    "# Fit the RNN model\n",
    "model_history = model_rnn.fit(X_train_seq_padded, y_train['label'],\n",
    "                              batch_size=32, epochs=10,\n",
    "                              validation_data=(X_test_seq_padded, y_test))"
   ]
  },
  {
   "cell_type": "code",
   "execution_count": 159,
   "metadata": {
    "colab": {
     "base_uri": "https://localhost:8080/",
     "height": 809
    },
    "id": "yt1urQIVoroh",
    "outputId": "685e86ab-f23d-405d-fe32-62fd8c7b6608"
   },
   "outputs": [
    {
     "data": {
      "image/png": "[encoded data removed]",
      "text/plain": [
       "<Figure size 432x288 with 1 Axes>"
      ]
     },
     "metadata": {
      "needs_background": "light",
      "tags": []
     },
     "output_type": "display_data"
    },
    {
     "data": {
      "image/png": "[encoded data removed]",
      "text/plain": [
       "<Figure size 432x288 with 1 Axes>"
      ]
     },
     "metadata": {
      "needs_background": "light",
      "tags": []
     },
     "output_type": "display_data"
    },
    {
     "data": {
      "image/png": "[encoded data removed]",
      "text/plain": [
       "<Figure size 432x288 with 1 Axes>"
      ]
     },
     "metadata": {
      "needs_background": "light",
      "tags": []
     },
     "output_type": "display_data"
    }
   ],
   "source": [
    "# Plot the evaluation metrics for each epoch of the model to check the model performance...\n",
    "for i in ['accuracy', 'precision_m', 'recall_m']:\n",
    "    acc = model_history.history[i]\n",
    "    val_acc = model_history.history['val_{}'.format(i)]\n",
    "    epochs = range(1, len(acc)+1)\n",
    "\n",
    "    # plot the graphs...\n",
    "    plt.figure()\n",
    "    plt.plot(epochs, acc, label='Training Accuracy')\n",
    "    plt.plot(epochs, val_acc, label='Validation Accuracy')\n",
    "    plt.title(\"Results for {}\".format(i))\n",
    "    plt.legend()\n",
    "    plt.show()"
   ]
  },
  {
   "cell_type": "markdown",
   "metadata": {
    "id": "-E8v4QtTsTsJ"
   },
   "source": [
    "### Compare the Metrics of all the models"
   ]
  },
  {
   "cell_type": "code",
   "execution_count": 161,
   "metadata": {
    "id": "ZrHisEd1Eo3I"
   },
   "outputs": [],
   "source": [
    "metrics_df = pd.DataFrame(columns=['Precision', 'Recall', 'Accuracy'], index=['TF-IDF','Word2Vec', 'Doc2Vec', 'RNN'])"
   ]
  },
  {
   "cell_type": "code",
   "execution_count": 167,
   "metadata": {
    "id": "W4lIHyKDuFIf"
   },
   "outputs": [],
   "source": [
    "metrics_df['Accuracy'] = [accuracy, accuracy_w2v, accuracy_d2v, sum(model_history.history['accuracy'])/len(model_history.history['accuracy'])]\n",
    "metrics_df['Precision'] = [precision, precision_w2v, precision_d2v, sum(model_history.history['precision_m'])/len(model_history.history['precision_m'])]\n",
    "metrics_df['Recall'] = [recall, recall_w2v, recall_d2v, sum(model_history.history['recall_m'])/len(model_history.history['recall_m'])]"
   ]
  },
  {
   "cell_type": "code",
   "execution_count": 168,
   "metadata": {
    "colab": {
     "base_uri": "https://localhost:8080/",
     "height": 175
    },
    "id": "GGQjc9FHESmN",
    "outputId": "738ba8b0-496f-4bb1-e526-be437c5a64af"
   },
   "outputs": [
    {
     "data": {
      "text/html": [
       "<div>\n",
       "<style scoped>\n",
       "    .dataframe tbody tr th:only-of-type {\n",
       "        vertical-align: middle;\n",
       "    }\n",
       "\n",
       "    .dataframe tbody tr th {\n",
       "        vertical-align: top;\n",
       "    }\n",
       "\n",
       "    .dataframe thead th {\n",
       "        text-align: right;\n",
       "    }\n",
       "</style>\n",
       "<table border=\"1\" class=\"dataframe\">\n",
       "  <thead>\n",
       "    <tr style=\"text-align: right;\">\n",
       "      <th></th>\n",
       "      <th>Precision</th>\n",
       "      <th>Recall</th>\n",
       "      <th>Accuracy</th>\n",
       "    </tr>\n",
       "  </thead>\n",
       "  <tbody>\n",
       "    <tr>\n",
       "      <th>TF-IDF</th>\n",
       "      <td>0.519481</td>\n",
       "      <td>0.287770</td>\n",
       "      <td>0.878027</td>\n",
       "    </tr>\n",
       "    <tr>\n",
       "      <th>Word2Vec</th>\n",
       "      <td>0.519481</td>\n",
       "      <td>0.287770</td>\n",
       "      <td>0.878027</td>\n",
       "    </tr>\n",
       "    <tr>\n",
       "      <th>Doc2Vec</th>\n",
       "      <td>0.880000</td>\n",
       "      <td>0.158273</td>\n",
       "      <td>0.892377</td>\n",
       "    </tr>\n",
       "    <tr>\n",
       "      <th>RNN</th>\n",
       "      <td>0.915328</td>\n",
       "      <td>0.915328</td>\n",
       "      <td>0.989186</td>\n",
       "    </tr>\n",
       "  </tbody>\n",
       "</table>\n",
       "</div>"
      ],
      "text/plain": [
       "          Precision    Recall  Accuracy\n",
       "TF-IDF     0.519481  0.287770  0.878027\n",
       "Word2Vec   0.519481  0.287770  0.878027\n",
       "Doc2Vec    0.880000  0.158273  0.892377\n",
       "RNN        0.915328  0.915328  0.989186"
      ]
     },
     "execution_count": 168,
     "metadata": {
      "tags": []
     },
     "output_type": "execute_result"
    }
   ],
   "source": [
    "metrics_df"
   ]
  }
 ],
 "metadata": {
  "colab": {
   "collapsed_sections": [],
   "name": "Compare_Advanced_NLP.ipynb",
   "provenance": []
  },
  "kernelspec": {
   "display_name": "Python 3",
   "language": "python",
   "name": "python3"
  },
  "language_info": {
   "codemirror_mode": {
    "name": "ipython",
    "version": 3
   },
   "file_extension": ".py",
   "mimetype": "text/x-python",
   "name": "python",
   "nbconvert_exporter": "python",
   "pygments_lexer": "ipython3",
   "version": "3.7.4"
  }
 },
 "nbformat": 4,
 "nbformat_minor": 1
}
