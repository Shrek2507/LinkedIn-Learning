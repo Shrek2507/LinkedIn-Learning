{
 "cells": [
  {
   "cell_type": "code",
   "execution_count": 1,
   "metadata": {
    "colab": {
     "base_uri": "https://localhost:8080/"
    },
    "id": "mWVq6K6weP99",
    "outputId": "595428a1-3d34-4984-a0ac-2f44f626482c"
   },
   "outputs": [
    {
     "name": "stdout",
     "output_type": "stream",
     "text": [
      "Requirement already satisfied: keras in /usr/local/lib/python3.7/dist-packages (2.4.3)\n",
      "Requirement already satisfied: numpy>=1.9.1 in /usr/local/lib/python3.7/dist-packages (from keras) (1.19.5)\n",
      "Requirement already satisfied: pyyaml in /usr/local/lib/python3.7/dist-packages (from keras) (3.13)\n",
      "Requirement already satisfied: h5py in /usr/local/lib/python3.7/dist-packages (from keras) (3.1.0)\n",
      "Requirement already satisfied: scipy>=0.14 in /usr/local/lib/python3.7/dist-packages (from keras) (1.4.1)\n",
      "Requirement already satisfied: cached-property; python_version < \"3.8\" in /usr/local/lib/python3.7/dist-packages (from h5py->keras) (1.5.2)\n"
     ]
    }
   ],
   "source": [
    "# !pip install tensorflow>=2.2\n",
    "# !pip install keras"
   ]
  },
  {
   "cell_type": "code",
   "execution_count": 25,
   "metadata": {
    "id": "UmS_zQqseUDB"
   },
   "outputs": [],
   "source": [
    "import numpy as np\n",
    "import pandas as pd\n",
    "import keras\n",
    "from keras.preprocessing.text import Tokenizer\n",
    "from keras.preprocessing.sequence import pad_sequences\n",
    "import keras.backend as K\n",
    "from keras.layers import Dense\n",
    "from keras.layers import Embedding\n",
    "from keras.layers import LSTM\n",
    "from keras.models import Sequential\n",
    "import tensorflow\n",
    "import sklearn\n",
    "from sklearn.model_selection import train_test_split\n",
    "import matplotlib.pyplot as plt\n",
    "\n",
    "%matplotlib inline"
   ]
  },
  {
   "cell_type": "code",
   "execution_count": 4,
   "metadata": {
    "id": "dzuWSYe1fHjh"
   },
   "outputs": [],
   "source": [
    "# Read the dataset...\n",
    "messages = pd.read_csv('/content/sample_data/spam.csv', encoding='latin-1')\n",
    "messages = messages.drop(['Unnamed: 2','Unnamed: 3','Unnamed: 4'], axis=1)"
   ]
  },
  {
   "cell_type": "code",
   "execution_count": 5,
   "metadata": {
    "colab": {
     "base_uri": "https://localhost:8080/",
     "height": 223
    },
    "id": "j9NzbgW3faWN",
    "outputId": "9ea6c485-6004-4804-e4f9-6cb4aa5ea371"
   },
   "outputs": [
    {
     "name": "stdout",
     "output_type": "stream",
     "text": [
      "Head of the Datset is : \n"
     ]
    },
    {
     "data": {
      "text/html": [
       "<div>\n",
       "<style scoped>\n",
       "    .dataframe tbody tr th:only-of-type {\n",
       "        vertical-align: middle;\n",
       "    }\n",
       "\n",
       "    .dataframe tbody tr th {\n",
       "        vertical-align: top;\n",
       "    }\n",
       "\n",
       "    .dataframe thead th {\n",
       "        text-align: right;\n",
       "    }\n",
       "</style>\n",
       "<table border=\"1\" class=\"dataframe\">\n",
       "  <thead>\n",
       "    <tr style=\"text-align: right;\">\n",
       "      <th></th>\n",
       "      <th>label</th>\n",
       "      <th>text</th>\n",
       "    </tr>\n",
       "  </thead>\n",
       "  <tbody>\n",
       "    <tr>\n",
       "      <th>0</th>\n",
       "      <td>ham</td>\n",
       "      <td>Go until jurong point, crazy.. Available only ...</td>\n",
       "    </tr>\n",
       "    <tr>\n",
       "      <th>1</th>\n",
       "      <td>ham</td>\n",
       "      <td>Ok lar... Joking wif u oni...</td>\n",
       "    </tr>\n",
       "    <tr>\n",
       "      <th>2</th>\n",
       "      <td>spam</td>\n",
       "      <td>Free entry in 2 a wkly comp to win FA Cup fina...</td>\n",
       "    </tr>\n",
       "    <tr>\n",
       "      <th>3</th>\n",
       "      <td>ham</td>\n",
       "      <td>U dun say so early hor... U c already then say...</td>\n",
       "    </tr>\n",
       "    <tr>\n",
       "      <th>4</th>\n",
       "      <td>ham</td>\n",
       "      <td>Nah I don't think he goes to usf, he lives aro...</td>\n",
       "    </tr>\n",
       "  </tbody>\n",
       "</table>\n",
       "</div>"
      ],
      "text/plain": [
       "  label                                               text\n",
       "0   ham  Go until jurong point, crazy.. Available only ...\n",
       "1   ham                      Ok lar... Joking wif u oni...\n",
       "2  spam  Free entry in 2 a wkly comp to win FA Cup fina...\n",
       "3   ham  U dun say so early hor... U c already then say...\n",
       "4   ham  Nah I don't think he goes to usf, he lives aro..."
      ]
     },
     "execution_count": 5,
     "metadata": {
      "tags": []
     },
     "output_type": "execute_result"
    }
   ],
   "source": [
    "print('Head of the Datset is : ')\n",
    "messages.head()"
   ]
  },
  {
   "cell_type": "code",
   "execution_count": 9,
   "metadata": {
    "colab": {
     "base_uri": "https://localhost:8080/"
    },
    "id": "bE04hu1yffrb",
    "outputId": "2ea31f4b-4fe7-4dac-ee6b-fe6ab50a2e06"
   },
   "outputs": [
    {
     "name": "stdout",
     "output_type": "stream",
     "text": [
      "Shape of the dataset is :  (5572, 2)\n",
      "Distribution of the labels is : \n"
     ]
    },
    {
     "data": {
      "text/plain": [
       "ham     4825\n",
       "spam     747\n",
       "Name: label, dtype: int64"
      ]
     },
     "execution_count": 9,
     "metadata": {
      "tags": []
     },
     "output_type": "execute_result"
    }
   ],
   "source": [
    "print(\"Shape of the dataset is : \", messages.shape)\n",
    "print(\"Distribution of the labels is : \")\n",
    "messages['label'].value_counts()"
   ]
  },
  {
   "cell_type": "code",
   "execution_count": 11,
   "metadata": {
    "colab": {
     "base_uri": "https://localhost:8080/"
    },
    "id": "hW64Bm8sfs19",
    "outputId": "d33a2f1f-87cd-4d27-d1f0-1f3aa5f07fa9"
   },
   "outputs": [
    {
     "name": "stdout",
     "output_type": "stream",
     "text": [
      "Columns of the dataset are :  Index(['label', 'text'], dtype='object')\n"
     ]
    }
   ],
   "source": [
    "print(\"Columns of the dataset are : \", messages.columns)"
   ]
  },
  {
   "cell_type": "code",
   "execution_count": 12,
   "metadata": {
    "id": "CepXpXt0gOAr"
   },
   "outputs": [],
   "source": [
    "# Get the labels...\n",
    "labels = np.where(messages['label'] == 'spam',1,0)"
   ]
  },
  {
   "cell_type": "code",
   "execution_count": 13,
   "metadata": {
    "id": "5CWODB5zgaPd"
   },
   "outputs": [],
   "source": [
    "# Split the dataset...\n",
    "X_train, X_test, y_train, y_test = train_test_split(messages['text'], labels, test_size=0.2)"
   ]
  },
  {
   "cell_type": "markdown",
   "metadata": {
    "id": "4FxtxJyRgprb"
   },
   "source": [
    "## Preprocess the text"
   ]
  },
  {
   "cell_type": "code",
   "execution_count": 15,
   "metadata": {
    "id": "MKV97gq2gs70"
   },
   "outputs": [],
   "source": [
    "tokenizer = Tokenizer()\n",
    "tokenizer.fit_on_texts(X_train)"
   ]
  },
  {
   "cell_type": "code",
   "execution_count": 17,
   "metadata": {
    "id": "v7urFXcNhT8t"
   },
   "outputs": [],
   "source": [
    "# Use the tokenizer to convert the list of training sets into integers...\n",
    "X_train_seq = tokenizer.texts_to_sequences(X_train)\n",
    "X_test_seq = tokenizer.texts_to_sequences(X_test)"
   ]
  },
  {
   "cell_type": "code",
   "execution_count": 20,
   "metadata": {
    "colab": {
     "base_uri": "https://localhost:8080/"
    },
    "id": "_5O8AVhShpwa",
    "outputId": "c5431848-6241-4113-f985-6c51ce1c9ba1"
   },
   "outputs": [
    {
     "name": "stdout",
     "output_type": "stream",
     "text": [
      "[47, 25, 1273, 187]\n",
      "[1042]\n"
     ]
    }
   ],
   "source": [
    "print(X_train_seq[0])\n",
    "print(X_test_seq[0])"
   ]
  },
  {
   "cell_type": "code",
   "execution_count": 21,
   "metadata": {
    "id": "A_SVDcqYhVSZ"
   },
   "outputs": [],
   "source": [
    "# Pad the sequences so that all sequences are of same length...\n",
    "X_train_seq_padded = pad_sequences(X_train_seq, 50)\n",
    "X_test_seq_padded = pad_sequences(X_test_seq, 50)"
   ]
  },
  {
   "cell_type": "code",
   "execution_count": 24,
   "metadata": {
    "colab": {
     "base_uri": "https://localhost:8080/"
    },
    "id": "38M608uniY6I",
    "outputId": "414861e7-44f4-4df7-a741-6c00bc01305f"
   },
   "outputs": [
    {
     "name": "stdout",
     "output_type": "stream",
     "text": [
      "Padded Sequence for one of the text message is : \n"
     ]
    },
    {
     "data": {
      "text/plain": [
       "array([   0,    0,    0,    0,    0,    0,    0,    0,    0,    0,    0,\n",
       "          0,    0,    0,    0,    0,    0,    0,    0,    0,    0,    0,\n",
       "          0,    0,    0,    0,    0,    0,    0,    0,    0,    0,    0,\n",
       "          0,    0,    0,    0,    0,    0,    0,    0,    0,    0,    0,\n",
       "          0,    0,   47,   25, 1273,  187], dtype=int32)"
      ]
     },
     "execution_count": 24,
     "metadata": {
      "tags": []
     },
     "output_type": "execute_result"
    }
   ],
   "source": [
    "# Have a look at the padded sequences...\n",
    "print(\"Padded Sequence for one of the text message is : \")\n",
    "X_train_seq_padded[0]"
   ]
  },
  {
   "cell_type": "markdown",
   "metadata": {
    "id": "Q3aYfmMVipSC"
   },
   "source": [
    "## Build the Model"
   ]
  },
  {
   "cell_type": "code",
   "execution_count": 40,
   "metadata": {
    "id": "x70ClRZFirEu"
   },
   "outputs": [],
   "source": [
    "# Prepare the model metrics...\n",
    "def recall_m(y_true, y_pred):\n",
    "    true_positives = K.sum(K.round(K.clip(y_true * y_pred, 0, 1)))\n",
    "    possible_positives = K.sum(K.round(K.clip(y_true,0,1)))\n",
    "    recall_score = true_positives / (possible_positives + K.epsilon())\n",
    "\n",
    "    return recall_score\n",
    "\n",
    "def precision_m(y_true, y_pred):\n",
    "    true_positives = K.sum(K.round(K.clip(y_true * y_pred, 0, 1)))\n",
    "    predicted_positives = K.sum(K.round(K.clip(y_true,0,1)))\n",
    "    precision_score = true_positives / (predicted_positives + K.epsilon())\n",
    "\n",
    "    return precision_score\n"
   ]
  },
  {
   "cell_type": "code",
   "execution_count": 41,
   "metadata": {
    "colab": {
     "base_uri": "https://localhost:8080/"
    },
    "id": "zE-fsPI7klRf",
    "outputId": "96b1de12-ff70-4f4b-83b2-580fd9971234"
   },
   "outputs": [
    {
     "name": "stdout",
     "output_type": "stream",
     "text": [
      "Model: \"sequential_3\"\n",
      "_________________________________________________________________\n",
      "Layer (type)                 Output Shape              Param #   \n",
      "=================================================================\n",
      "embedding_2 (Embedding)      (None, None, 32)          255104    \n",
      "_________________________________________________________________\n",
      "lstm_1 (LSTM)                (None, 32)                8320      \n",
      "_________________________________________________________________\n",
      "dense_2 (Dense)              (None, 32)                1056      \n",
      "_________________________________________________________________\n",
      "dense_3 (Dense)              (None, 1)                 33        \n",
      "=================================================================\n",
      "Total params: 264,513\n",
      "Trainable params: 264,513\n",
      "Non-trainable params: 0\n",
      "_________________________________________________________________\n"
     ]
    }
   ],
   "source": [
    "# Construct a Simple RNN Model\n",
    "modelRNN = Sequential()\n",
    "\n",
    "# create different types of Embeddings...\n",
    "modelRNN.add(Embedding(len(tokenizer.index_word)+1, 32))\n",
    "modelRNN.add(LSTM(32, dropout=0, recurrent_dropout=0))\n",
    "modelRNN.add(Dense(32, activation='relu'))\n",
    "modelRNN.add(Dense(1, activation='sigmoid'))\n",
    "modelRNN.summary()"
   ]
  },
  {
   "cell_type": "code",
   "execution_count": 42,
   "metadata": {
    "id": "0aTFsJj8mnwa"
   },
   "outputs": [],
   "source": [
    "# Compile the model...\n",
    "modelRNN.compile(optimizer='adam',\n",
    "                 loss='binary_crossentropy',\n",
    "                 metrics = ['accuracy', precision_m, recall_m])"
   ]
  },
  {
   "cell_type": "code",
   "execution_count": 43,
   "metadata": {
    "colab": {
     "base_uri": "https://localhost:8080/"
    },
    "id": "0MrNOzc4nH-n",
    "outputId": "a63b0cd7-b75e-4d6a-c03d-0f0eb2bfe605"
   },
   "outputs": [
    {
     "name": "stdout",
     "output_type": "stream",
     "text": [
      "Epoch 1/10\n",
      "140/140 [==============================] - 8s 29ms/step - loss: 0.4070 - accuracy: 0.8725 - precision_m: 0.1660 - recall_m: 0.1660 - val_loss: 0.0698 - val_accuracy: 0.9803 - val_precision_m: 0.8800 - val_recall_m: 0.8800\n",
      "Epoch 2/10\n",
      "140/140 [==============================] - 3s 22ms/step - loss: 0.0359 - accuracy: 0.9911 - precision_m: 0.9329 - recall_m: 0.9329 - val_loss: 0.0557 - val_accuracy: 0.9839 - val_precision_m: 0.9062 - val_recall_m: 0.9062\n",
      "Epoch 3/10\n",
      "140/140 [==============================] - 3s 23ms/step - loss: 0.0107 - accuracy: 0.9972 - precision_m: 0.9508 - recall_m: 0.9508 - val_loss: 0.0607 - val_accuracy: 0.9848 - val_precision_m: 0.9062 - val_recall_m: 0.9062\n",
      "Epoch 4/10\n",
      "140/140 [==============================] - 3s 22ms/step - loss: 0.0041 - accuracy: 0.9990 - precision_m: 0.9878 - recall_m: 0.9878 - val_loss: 0.0592 - val_accuracy: 0.9857 - val_precision_m: 0.9148 - val_recall_m: 0.9148\n",
      "Epoch 5/10\n",
      "140/140 [==============================] - 3s 22ms/step - loss: 0.0017 - accuracy: 0.9997 - precision_m: 0.9923 - recall_m: 0.9923 - val_loss: 0.0566 - val_accuracy: 0.9865 - val_precision_m: 0.9205 - val_recall_m: 0.9205\n",
      "Epoch 6/10\n",
      "140/140 [==============================] - 3s 22ms/step - loss: 6.5439e-04 - accuracy: 0.9999 - precision_m: 0.9819 - recall_m: 0.9819 - val_loss: 0.0535 - val_accuracy: 0.9865 - val_precision_m: 0.9461 - val_recall_m: 0.9461\n",
      "Epoch 7/10\n",
      "140/140 [==============================] - 3s 22ms/step - loss: 4.0404e-04 - accuracy: 0.9998 - precision_m: 0.9962 - recall_m: 0.9962 - val_loss: 0.0589 - val_accuracy: 0.9874 - val_precision_m: 0.9287 - val_recall_m: 0.9287\n",
      "Epoch 8/10\n",
      "140/140 [==============================] - 3s 22ms/step - loss: 1.6055e-04 - accuracy: 1.0000 - precision_m: 0.9699 - recall_m: 0.9699 - val_loss: 0.0671 - val_accuracy: 0.9865 - val_precision_m: 0.9229 - val_recall_m: 0.9229\n",
      "Epoch 9/10\n",
      "140/140 [==============================] - 3s 23ms/step - loss: 8.1127e-05 - accuracy: 1.0000 - precision_m: 0.9958 - recall_m: 0.9958 - val_loss: 0.0610 - val_accuracy: 0.9883 - val_precision_m: 0.9366 - val_recall_m: 0.9366\n",
      "Epoch 10/10\n",
      "140/140 [==============================] - 3s 23ms/step - loss: 9.3185e-05 - accuracy: 1.0000 - precision_m: 0.9899 - recall_m: 0.9899 - val_loss: 0.0676 - val_accuracy: 0.9865 - val_precision_m: 0.9229 - val_recall_m: 0.9229\n"
     ]
    }
   ],
   "source": [
    "# define the parameters for fitting the model...\n",
    "batchSize = 32\n",
    "epochs = 10\n",
    "\n",
    "modelFit = modelRNN.fit(X_train_seq_padded, y_train,\n",
    "                        batch_size=batchSize, epochs=epochs,\n",
    "                        validation_data = (X_test_seq_padded, y_test))"
   ]
  },
  {
   "cell_type": "code",
   "execution_count": 48,
   "metadata": {
    "colab": {
     "base_uri": "https://localhost:8080/",
     "height": 809
    },
    "id": "TtMmsfT4nyHx",
    "outputId": "ea360fee-c08c-4e7a-8323-b82df41533f0"
   },
   "outputs": [
    {
     "data": {
      "image/png": "[encoded data removed]",
      "text/plain": [
       "<Figure size 432x288 with 1 Axes>"
      ]
     },
     "metadata": {
      "needs_background": "light",
      "tags": []
     },
     "output_type": "display_data"
    },
    {
     "data": {
      "image/png": "[encoded data removed]",
      "text/plain": [
       "<Figure size 432x288 with 1 Axes>"
      ]
     },
     "metadata": {
      "needs_background": "light",
      "tags": []
     },
     "output_type": "display_data"
    },
    {
     "data": {
      "image/png": "[encoded data removed]",
      "text/plain": [
       "<Figure size 432x288 with 1 Axes>"
      ]
     },
     "metadata": {
      "needs_background": "light",
      "tags": []
     },
     "output_type": "display_data"
    }
   ],
   "source": [
    "# Plot the evaluation metrics for each epoch of the model to check the model performance...\n",
    "for i in ['accuracy', 'precision_m', 'recall_m']:\n",
    "    acc = modelFit.history[i]\n",
    "    val_acc = modelFit.history['val_{}'.format(i)]\n",
    "    epochs = range(1, len(acc)+1)\n",
    "\n",
    "    # plot the graphs...\n",
    "    plt.figure()\n",
    "    plt.plot(epochs, acc, label='Training Accuracy')\n",
    "    plt.plot(epochs, val_acc, label='Validation Accuracy')\n",
    "    plt.title(\"Results for {}\".format(i))\n",
    "    plt.legend()\n",
    "    plt.show()"
   ]
  }
 ],
 "metadata": {
  "colab": {
   "name": "RNN_Text_Classification",
   "provenance": []
  },
  "kernelspec": {
   "display_name": "Python 3",
   "language": "python",
   "name": "python3"
  },
  "language_info": {
   "codemirror_mode": {
    "name": "ipython",
    "version": 3
   },
   "file_extension": ".py",
   "mimetype": "text/x-python",
   "name": "python",
   "nbconvert_exporter": "python",
   "pygments_lexer": "ipython3",
   "version": "3.7.4"
  }
 },
 "nbformat": 4,
 "nbformat_minor": 1
}
